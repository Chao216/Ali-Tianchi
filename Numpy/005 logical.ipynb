{
 "cells": [
  {
   "cell_type": "code",
   "execution_count": 2,
   "id": "963d1f3d",
   "metadata": {},
   "outputs": [],
   "source": [
    "import numpy as np"
   ]
  },
  {
   "cell_type": "markdown",
   "id": "d5ced624",
   "metadata": {},
   "source": [
    "## 逻辑判断 np.all np.any"
   ]
  },
  {
   "cell_type": "code",
   "execution_count": 3,
   "id": "8c2348ae",
   "metadata": {},
   "outputs": [],
   "source": [
    "a = np.arange(1,6)"
   ]
  },
  {
   "cell_type": "code",
   "execution_count": 4,
   "id": "79624bf6",
   "metadata": {},
   "outputs": [],
   "source": [
    "b = a.copy()"
   ]
  },
  {
   "cell_type": "code",
   "execution_count": 5,
   "id": "254e6342",
   "metadata": {},
   "outputs": [
    {
     "data": {
      "text/plain": [
       "array([1, 2, 3, 4, 5])"
      ]
     },
     "execution_count": 5,
     "metadata": {},
     "output_type": "execute_result"
    }
   ],
   "source": [
    "a"
   ]
  },
  {
   "cell_type": "code",
   "execution_count": 6,
   "id": "a430d124",
   "metadata": {},
   "outputs": [
    {
     "data": {
      "text/plain": [
       "array([1, 2, 3, 4, 5])"
      ]
     },
     "execution_count": 6,
     "metadata": {},
     "output_type": "execute_result"
    }
   ],
   "source": [
    "b"
   ]
  },
  {
   "cell_type": "code",
   "execution_count": 7,
   "id": "0aead090",
   "metadata": {},
   "outputs": [
    {
     "data": {
      "text/plain": [
       "True"
      ]
     },
     "execution_count": 7,
     "metadata": {},
     "output_type": "execute_result"
    }
   ],
   "source": [
    "np.all(a==b)"
   ]
  },
  {
   "cell_type": "code",
   "execution_count": 8,
   "id": "397a6866",
   "metadata": {},
   "outputs": [
    {
     "data": {
      "text/plain": [
       "True"
      ]
     },
     "execution_count": 8,
     "metadata": {},
     "output_type": "execute_result"
    }
   ],
   "source": [
    "np.any(a==b)"
   ]
  },
  {
   "cell_type": "code",
   "execution_count": 9,
   "id": "5e63c72e",
   "metadata": {},
   "outputs": [],
   "source": [
    "b[1] = 693"
   ]
  },
  {
   "cell_type": "code",
   "execution_count": 10,
   "id": "4abe0042",
   "metadata": {},
   "outputs": [
    {
     "data": {
      "text/plain": [
       "False"
      ]
     },
     "execution_count": 10,
     "metadata": {},
     "output_type": "execute_result"
    }
   ],
   "source": [
    "np.all(a==b)"
   ]
  },
  {
   "cell_type": "code",
   "execution_count": 11,
   "id": "3bd6fc87",
   "metadata": {},
   "outputs": [
    {
     "data": {
      "text/plain": [
       "True"
      ]
     },
     "execution_count": 11,
     "metadata": {},
     "output_type": "execute_result"
    }
   ],
   "source": [
    "np.any(a==b)"
   ]
  },
  {
   "cell_type": "markdown",
   "id": "4d0a3e12",
   "metadata": {},
   "source": [
    "# np.isnan"
   ]
  },
  {
   "cell_type": "code",
   "execution_count": 12,
   "id": "b361dd36",
   "metadata": {},
   "outputs": [],
   "source": [
    "a = [1,2,3, None, 23, 5,4,np.nan, 23,None,2,np.nan]"
   ]
  },
  {
   "cell_type": "code",
   "execution_count": 13,
   "id": "6f080fbe",
   "metadata": {},
   "outputs": [],
   "source": [
    "b = np.array(a)"
   ]
  },
  {
   "cell_type": "code",
   "execution_count": 14,
   "id": "68765b05",
   "metadata": {},
   "outputs": [
    {
     "data": {
      "text/plain": [
       "array([1, 2, 3, None, 23, 5, 4, nan, 23, None, 2, nan], dtype=object)"
      ]
     },
     "execution_count": 14,
     "metadata": {},
     "output_type": "execute_result"
    }
   ],
   "source": [
    "b"
   ]
  },
  {
   "cell_type": "code",
   "execution_count": 16,
   "id": "c1c6bae5",
   "metadata": {},
   "outputs": [],
   "source": [
    "c = np.array([1,2,3,np.nan,4,5,np.nan,6,7])"
   ]
  },
  {
   "cell_type": "code",
   "execution_count": 17,
   "id": "b4e4a47b",
   "metadata": {},
   "outputs": [
    {
     "data": {
      "text/plain": [
       "array([False, False, False,  True, False, False,  True, False, False])"
      ]
     },
     "execution_count": 17,
     "metadata": {},
     "output_type": "execute_result"
    }
   ],
   "source": [
    "np.isnan(c)"
   ]
  },
  {
   "cell_type": "markdown",
   "id": "6aff5101",
   "metadata": {},
   "source": [
    "# logical_not logical_and logical_or logical_xor"
   ]
  },
  {
   "cell_type": "code",
   "execution_count": 18,
   "id": "ede96b15",
   "metadata": {},
   "outputs": [
    {
     "data": {
      "text/plain": [
       "False"
      ]
     },
     "execution_count": 18,
     "metadata": {},
     "output_type": "execute_result"
    }
   ],
   "source": [
    "np.logical_not(1)"
   ]
  },
  {
   "cell_type": "code",
   "execution_count": 19,
   "id": "6af5751c",
   "metadata": {},
   "outputs": [
    {
     "data": {
      "text/plain": [
       "True"
      ]
     },
     "execution_count": 19,
     "metadata": {},
     "output_type": "execute_result"
    }
   ],
   "source": [
    "np.logical_not(0)"
   ]
  },
  {
   "cell_type": "code",
   "execution_count": 22,
   "id": "be3a214a",
   "metadata": {},
   "outputs": [
    {
     "data": {
      "text/plain": [
       "True"
      ]
     },
     "execution_count": 22,
     "metadata": {},
     "output_type": "execute_result"
    }
   ],
   "source": [
    "np.logical_and(1,1)"
   ]
  },
  {
   "cell_type": "code",
   "execution_count": 27,
   "id": "956abaa8",
   "metadata": {},
   "outputs": [
    {
     "data": {
      "text/plain": [
       "array([ True, False])"
      ]
     },
     "execution_count": 27,
     "metadata": {},
     "output_type": "execute_result"
    }
   ],
   "source": [
    "np.logical_and([True,True],[True,False])"
   ]
  },
  {
   "cell_type": "code",
   "execution_count": 28,
   "id": "c72f4850",
   "metadata": {},
   "outputs": [
    {
     "data": {
      "text/plain": [
       "True"
      ]
     },
     "execution_count": 28,
     "metadata": {},
     "output_type": "execute_result"
    }
   ],
   "source": [
    "np.logical_or(True,False)"
   ]
  },
  {
   "cell_type": "code",
   "execution_count": 30,
   "id": "94f875fa",
   "metadata": {},
   "outputs": [
    {
     "data": {
      "text/plain": [
       "array([ True,  True,  True])"
      ]
     },
     "execution_count": 30,
     "metadata": {},
     "output_type": "execute_result"
    }
   ],
   "source": [
    "np.logical_or([0,0,1],[1,1,0])"
   ]
  },
  {
   "cell_type": "code",
   "execution_count": 31,
   "id": "df1a35bd",
   "metadata": {},
   "outputs": [
    {
     "data": {
      "text/plain": [
       "False"
      ]
     },
     "execution_count": 31,
     "metadata": {},
     "output_type": "execute_result"
    }
   ],
   "source": [
    "np.logical_xor(1,2)"
   ]
  },
  {
   "cell_type": "code",
   "execution_count": 32,
   "id": "efb1d0d5",
   "metadata": {},
   "outputs": [
    {
     "data": {
      "text/plain": [
       "True"
      ]
     },
     "execution_count": 32,
     "metadata": {},
     "output_type": "execute_result"
    }
   ],
   "source": [
    "np.logical_xor(1,0)"
   ]
  },
  {
   "cell_type": "code",
   "execution_count": 34,
   "id": "ec7d0a39",
   "metadata": {},
   "outputs": [
    {
     "data": {
      "text/plain": [
       "array([ True, False,  True])"
      ]
     },
     "execution_count": 34,
     "metadata": {},
     "output_type": "execute_result"
    }
   ],
   "source": [
    "np.logical_xor([True,False,True],[False,False,False])"
   ]
  },
  {
   "cell_type": "markdown",
   "id": "72053c93",
   "metadata": {},
   "source": [
    "## greater greater_equal equal not_equal less less_equal"
   ]
  },
  {
   "cell_type": "code",
   "execution_count": 35,
   "id": "9bac8ccd",
   "metadata": {},
   "outputs": [
    {
     "data": {
      "text/plain": [
       "False"
      ]
     },
     "execution_count": 35,
     "metadata": {},
     "output_type": "execute_result"
    }
   ],
   "source": [
    "np.greater(1,3)"
   ]
  },
  {
   "cell_type": "code",
   "execution_count": 36,
   "id": "6014ca37",
   "metadata": {},
   "outputs": [
    {
     "data": {
      "text/plain": [
       "True"
      ]
     },
     "execution_count": 36,
     "metadata": {},
     "output_type": "execute_result"
    }
   ],
   "source": [
    "np.greater_equal(3,3)"
   ]
  },
  {
   "cell_type": "code",
   "execution_count": 37,
   "id": "f2ecc1b3",
   "metadata": {},
   "outputs": [
    {
     "data": {
      "text/plain": [
       "True"
      ]
     },
     "execution_count": 37,
     "metadata": {},
     "output_type": "execute_result"
    }
   ],
   "source": [
    "np.greater(3,1)"
   ]
  },
  {
   "cell_type": "code",
   "execution_count": 38,
   "id": "1ff7258e",
   "metadata": {},
   "outputs": [
    {
     "data": {
      "text/plain": [
       "True"
      ]
     },
     "execution_count": 38,
     "metadata": {},
     "output_type": "execute_result"
    }
   ],
   "source": [
    "np.equal(1,1)"
   ]
  },
  {
   "cell_type": "code",
   "execution_count": 39,
   "id": "ff8c832c",
   "metadata": {},
   "outputs": [
    {
     "data": {
      "text/plain": [
       "False"
      ]
     },
     "execution_count": 39,
     "metadata": {},
     "output_type": "execute_result"
    }
   ],
   "source": [
    "np.equal(np.nan, np.nan)"
   ]
  },
  {
   "cell_type": "code",
   "execution_count": 40,
   "id": "f17e1ea2",
   "metadata": {},
   "outputs": [
    {
     "data": {
      "text/plain": [
       "True"
      ]
     },
     "execution_count": 40,
     "metadata": {},
     "output_type": "execute_result"
    }
   ],
   "source": [
    "np.not_equal(1,2)"
   ]
  },
  {
   "cell_type": "code",
   "execution_count": 41,
   "id": "c5a264f4",
   "metadata": {},
   "outputs": [
    {
     "data": {
      "text/plain": [
       "True"
      ]
     },
     "execution_count": 41,
     "metadata": {},
     "output_type": "execute_result"
    }
   ],
   "source": [
    "np.not_equal(np.nan, np.nan)"
   ]
  },
  {
   "cell_type": "code",
   "execution_count": 42,
   "id": "5e6c8e71",
   "metadata": {},
   "outputs": [
    {
     "data": {
      "text/plain": [
       "True"
      ]
     },
     "execution_count": 42,
     "metadata": {},
     "output_type": "execute_result"
    }
   ],
   "source": [
    "np.less(1,3)"
   ]
  },
  {
   "cell_type": "code",
   "execution_count": 43,
   "id": "f5d5583a",
   "metadata": {},
   "outputs": [
    {
     "data": {
      "text/plain": [
       "True"
      ]
     },
     "execution_count": 43,
     "metadata": {},
     "output_type": "execute_result"
    }
   ],
   "source": [
    "np.less_equal(3,3)"
   ]
  },
  {
   "cell_type": "markdown",
   "id": "c8da1710",
   "metadata": {},
   "source": [
    "## isclose allclose"
   ]
  },
  {
   "cell_type": "code",
   "execution_count": 44,
   "id": "9b947d15",
   "metadata": {},
   "outputs": [
    {
     "data": {
      "text/plain": [
       "True"
      ]
     },
     "execution_count": 44,
     "metadata": {},
     "output_type": "execute_result"
    }
   ],
   "source": [
    "np.isclose(1,1)"
   ]
  },
  {
   "cell_type": "code",
   "execution_count": 45,
   "id": "dc3dad42",
   "metadata": {},
   "outputs": [
    {
     "data": {
      "text/plain": [
       "array([ True,  True,  True])"
      ]
     },
     "execution_count": 45,
     "metadata": {},
     "output_type": "execute_result"
    }
   ],
   "source": [
    "np.isclose([1,2,3],[1,2,3])"
   ]
  },
  {
   "cell_type": "code",
   "execution_count": 46,
   "id": "1b800fdd",
   "metadata": {},
   "outputs": [
    {
     "data": {
      "text/plain": [
       "True"
      ]
     },
     "execution_count": 46,
     "metadata": {},
     "output_type": "execute_result"
    }
   ],
   "source": [
    "np.allclose([1,2,3],[1,2,3])"
   ]
  },
  {
   "cell_type": "code",
   "execution_count": 47,
   "id": "41b84702",
   "metadata": {},
   "outputs": [
    {
     "data": {
      "text/plain": [
       "array([ True,  True, False])"
      ]
     },
     "execution_count": 47,
     "metadata": {},
     "output_type": "execute_result"
    }
   ],
   "source": [
    "np.isclose([1,2,3],[1,2,5])"
   ]
  },
  {
   "cell_type": "code",
   "execution_count": 48,
   "id": "b79fbf95",
   "metadata": {},
   "outputs": [
    {
     "data": {
      "text/plain": [
       "False"
      ]
     },
     "execution_count": 48,
     "metadata": {},
     "output_type": "execute_result"
    }
   ],
   "source": [
    "np.allclose([1,2,3],[1,2,5])"
   ]
  },
  {
   "cell_type": "code",
   "execution_count": null,
   "id": "31f9aea3",
   "metadata": {},
   "outputs": [],
   "source": []
  }
 ],
 "metadata": {
  "kernelspec": {
   "display_name": "Python 3 (ipykernel)",
   "language": "python",
   "name": "python3"
  },
  "language_info": {
   "codemirror_mode": {
    "name": "ipython",
    "version": 3
   },
   "file_extension": ".py",
   "mimetype": "text/x-python",
   "name": "python",
   "nbconvert_exporter": "python",
   "pygments_lexer": "ipython3",
   "version": "3.9.13"
  }
 },
 "nbformat": 4,
 "nbformat_minor": 5
}
