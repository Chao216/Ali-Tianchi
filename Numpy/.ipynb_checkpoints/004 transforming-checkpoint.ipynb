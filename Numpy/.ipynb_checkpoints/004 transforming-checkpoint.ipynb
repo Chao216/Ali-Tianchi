{
 "cells": [
  {
   "cell_type": "code",
   "execution_count": 1,
   "id": "883c6eee",
   "metadata": {},
   "outputs": [],
   "source": [
    "import numpy as np\n",
    "\n",
    "a = np.arange(1,17).reshape(4,4)"
   ]
  },
  {
   "cell_type": "code",
   "execution_count": 2,
   "id": "74ac1f6a",
   "metadata": {},
   "outputs": [
    {
     "data": {
      "text/plain": [
       "array([[ 1,  2,  3,  4],\n",
       "       [ 5,  6,  7,  8],\n",
       "       [ 9, 10, 11, 12],\n",
       "       [13, 14, 15, 16]])"
      ]
     },
     "execution_count": 2,
     "metadata": {},
     "output_type": "execute_result"
    }
   ],
   "source": [
    "a"
   ]
  },
  {
   "cell_type": "code",
   "execution_count": 4,
   "id": "fa0215a0",
   "metadata": {},
   "outputs": [],
   "source": [
    "b = a.flat"
   ]
  },
  {
   "cell_type": "code",
   "execution_count": 6,
   "id": "a5768139",
   "metadata": {},
   "outputs": [
    {
     "name": "stdout",
     "output_type": "stream",
     "text": [
      "\n",
      " 1\n",
      "\n",
      " 2\n",
      "\n",
      " 3\n",
      "\n",
      " 4\n",
      "\n",
      " 5\n",
      "\n",
      " 6\n",
      "\n",
      " 7\n",
      "\n",
      " 8\n",
      "\n",
      " 9\n",
      "\n",
      " 10\n",
      "\n",
      " 11\n",
      "\n",
      " 12\n",
      "\n",
      " 13\n",
      "\n",
      " 14\n",
      "\n",
      " 15\n",
      "\n",
      " 16\n"
     ]
    }
   ],
   "source": [
    "for i in b:\n",
    "    print(\"\\n\",i)"
   ]
  },
  {
   "cell_type": "code",
   "execution_count": 13,
   "id": "06a02f89",
   "metadata": {},
   "outputs": [],
   "source": [
    "c = a.flatten()"
   ]
  },
  {
   "cell_type": "code",
   "execution_count": 14,
   "id": "54a5bb48",
   "metadata": {},
   "outputs": [
    {
     "name": "stdout",
     "output_type": "stream",
     "text": [
      "[ 1  2  3  4  5  6  7  8  9 10 11 12 13 14 15 16]\n"
     ]
    }
   ],
   "source": [
    "print(c)"
   ]
  },
  {
   "cell_type": "code",
   "execution_count": 15,
   "id": "c45659a7",
   "metadata": {},
   "outputs": [
    {
     "name": "stdout",
     "output_type": "stream",
     "text": [
      "\n",
      " 1\n",
      "\n",
      " 2\n",
      "\n",
      " 3\n",
      "\n",
      " 4\n",
      "\n",
      " 5\n",
      "\n",
      " 6\n",
      "\n",
      " 7\n",
      "\n",
      " 8\n",
      "\n",
      " 9\n",
      "\n",
      " 10\n",
      "\n",
      " 11\n",
      "\n",
      " 12\n",
      "\n",
      " 13\n",
      "\n",
      " 14\n",
      "\n",
      " 15\n",
      "\n",
      " 16\n"
     ]
    }
   ],
   "source": [
    "for i in c:\n",
    "    print(\"\\n\",i)"
   ]
  },
  {
   "cell_type": "markdown",
   "id": "371ffcfb",
   "metadata": {},
   "source": [
    "## oder C F A, row, column, default"
   ]
  },
  {
   "cell_type": "code",
   "execution_count": 17,
   "id": "8aa81c40",
   "metadata": {},
   "outputs": [
    {
     "name": "stdout",
     "output_type": "stream",
     "text": [
      "[ 1  2  3  4  5  6  7  8  9 10 11 12 13 14 15 16]\n"
     ]
    }
   ],
   "source": [
    "print(a.flatten(order=\"C\"))"
   ]
  },
  {
   "cell_type": "code",
   "execution_count": 18,
   "id": "697adcd1",
   "metadata": {},
   "outputs": [
    {
     "name": "stdout",
     "output_type": "stream",
     "text": [
      "[ 1  5  9 13  2  6 10 14  3  7 11 15  4  8 12 16]\n"
     ]
    }
   ],
   "source": [
    "print(a.flatten(order=\"F\"))"
   ]
  },
  {
   "cell_type": "code",
   "execution_count": 19,
   "id": "c84bc1d7",
   "metadata": {},
   "outputs": [
    {
     "name": "stdout",
     "output_type": "stream",
     "text": [
      "[ 1  2  3  4  5  6  7  8  9 10 11 12 13 14 15 16]\n"
     ]
    }
   ],
   "source": [
    "print(a.flatten(order=\"A\"))"
   ]
  },
  {
   "cell_type": "code",
   "execution_count": 20,
   "id": "ba562620",
   "metadata": {},
   "outputs": [
    {
     "name": "stdout",
     "output_type": "stream",
     "text": [
      "[ 1  2  3  4  5  6  7  8  9 10 11 12 13 14 15 16]\n"
     ]
    }
   ],
   "source": [
    "print(a.flatten(order=\"k\"))"
   ]
  },
  {
   "cell_type": "markdown",
   "id": "d1b5f264",
   "metadata": {},
   "source": [
    "## ravel 返回视图,修改视图会影响原始数据"
   ]
  },
  {
   "cell_type": "code",
   "execution_count": 22,
   "id": "84d1fd66",
   "metadata": {},
   "outputs": [],
   "source": [
    "a = np.arange(1,10).reshape(3,3)"
   ]
  },
  {
   "cell_type": "code",
   "execution_count": 23,
   "id": "ff2d14bc",
   "metadata": {},
   "outputs": [],
   "source": [
    "b = a.ravel()"
   ]
  },
  {
   "cell_type": "code",
   "execution_count": 24,
   "id": "e3c3b898",
   "metadata": {},
   "outputs": [
    {
     "data": {
      "text/plain": [
       "array([1, 2, 3, 4, 5, 6, 7, 8, 9])"
      ]
     },
     "execution_count": 24,
     "metadata": {},
     "output_type": "execute_result"
    }
   ],
   "source": [
    "b"
   ]
  },
  {
   "cell_type": "code",
   "execution_count": 25,
   "id": "d9e94f9f",
   "metadata": {},
   "outputs": [
    {
     "data": {
      "text/plain": [
       "array([[1, 2, 3],\n",
       "       [4, 5, 6],\n",
       "       [7, 8, 9]])"
      ]
     },
     "execution_count": 25,
     "metadata": {},
     "output_type": "execute_result"
    }
   ],
   "source": [
    "a"
   ]
  },
  {
   "cell_type": "code",
   "execution_count": 26,
   "id": "09554d4e",
   "metadata": {},
   "outputs": [],
   "source": [
    "b[4]=100"
   ]
  },
  {
   "cell_type": "code",
   "execution_count": 27,
   "id": "ecf36a13",
   "metadata": {},
   "outputs": [
    {
     "data": {
      "text/plain": [
       "array([  1,   2,   3,   4, 100,   6,   7,   8,   9])"
      ]
     },
     "execution_count": 27,
     "metadata": {},
     "output_type": "execute_result"
    }
   ],
   "source": [
    "b"
   ]
  },
  {
   "cell_type": "code",
   "execution_count": 28,
   "id": "ad6688a5",
   "metadata": {},
   "outputs": [
    {
     "data": {
      "text/plain": [
       "array([[  1,   2,   3],\n",
       "       [  4, 100,   6],\n",
       "       [  7,   8,   9]])"
      ]
     },
     "execution_count": 28,
     "metadata": {},
     "output_type": "execute_result"
    }
   ],
   "source": [
    "a"
   ]
  },
  {
   "cell_type": "markdown",
   "id": "0a8b7e8d",
   "metadata": {},
   "source": [
    "# ravel order F 拷贝"
   ]
  },
  {
   "cell_type": "code",
   "execution_count": 29,
   "id": "5d7071f6",
   "metadata": {},
   "outputs": [],
   "source": [
    "c = a.ravel(order=\"F\")"
   ]
  },
  {
   "cell_type": "code",
   "execution_count": 30,
   "id": "b23de738",
   "metadata": {},
   "outputs": [
    {
     "data": {
      "text/plain": [
       "array([  1,   4,   7,   2, 100,   8,   3,   6,   9])"
      ]
     },
     "execution_count": 30,
     "metadata": {},
     "output_type": "execute_result"
    }
   ],
   "source": [
    "c"
   ]
  },
  {
   "cell_type": "code",
   "execution_count": 31,
   "id": "5f860434",
   "metadata": {},
   "outputs": [],
   "source": [
    "c[0]=99"
   ]
  },
  {
   "cell_type": "code",
   "execution_count": 32,
   "id": "ba6de6ed",
   "metadata": {},
   "outputs": [
    {
     "data": {
      "text/plain": [
       "array([ 99,   4,   7,   2, 100,   8,   3,   6,   9])"
      ]
     },
     "execution_count": 32,
     "metadata": {},
     "output_type": "execute_result"
    }
   ],
   "source": [
    "c"
   ]
  },
  {
   "cell_type": "code",
   "execution_count": 33,
   "id": "fc9edad1",
   "metadata": {},
   "outputs": [
    {
     "data": {
      "text/plain": [
       "array([[  1,   2,   3],\n",
       "       [  4, 100,   6],\n",
       "       [  7,   8,   9]])"
      ]
     },
     "execution_count": 33,
     "metadata": {},
     "output_type": "execute_result"
    }
   ],
   "source": [
    "a"
   ]
  },
  {
   "cell_type": "markdown",
   "id": "52ac1a48",
   "metadata": {},
   "source": [
    "# reshape 1-1"
   ]
  },
  {
   "cell_type": "code",
   "execution_count": 34,
   "id": "b958e2a9",
   "metadata": {},
   "outputs": [
    {
     "name": "stdout",
     "output_type": "stream",
     "text": [
      "[[  1   2   3   4 100   6   7   8   9]]\n"
     ]
    }
   ],
   "source": [
    "print(a.reshape(1,-1)) # reshape to 1 row, and -1 means let numpy determine columns"
   ]
  },
  {
   "cell_type": "code",
   "execution_count": 35,
   "id": "fedac078",
   "metadata": {},
   "outputs": [
    {
     "name": "stdout",
     "output_type": "stream",
     "text": [
      "[[  1]\n",
      " [  2]\n",
      " [  3]\n",
      " [  4]\n",
      " [100]\n",
      " [  6]\n",
      " [  7]\n",
      " [  8]\n",
      " [  9]]\n"
     ]
    }
   ],
   "source": [
    "print(a.reshape(-1,1)) # reshape to 1 column, and -1 meanslet numpy determines rows"
   ]
  },
  {
   "cell_type": "markdown",
   "id": "48922d27",
   "metadata": {},
   "source": [
    "## transpose ndarray.T , np.transpose(ndarray)"
   ]
  },
  {
   "cell_type": "code",
   "execution_count": 36,
   "id": "575f6ac7",
   "metadata": {},
   "outputs": [],
   "source": [
    "a = np.arange(1,10)"
   ]
  },
  {
   "cell_type": "code",
   "execution_count": 37,
   "id": "fb637113",
   "metadata": {},
   "outputs": [
    {
     "data": {
      "text/plain": [
       "array([1, 2, 3, 4, 5, 6, 7, 8, 9])"
      ]
     },
     "execution_count": 37,
     "metadata": {},
     "output_type": "execute_result"
    }
   ],
   "source": [
    "a"
   ]
  },
  {
   "cell_type": "code",
   "execution_count": 38,
   "id": "94611027",
   "metadata": {},
   "outputs": [
    {
     "data": {
      "text/plain": [
       "(9,)"
      ]
     },
     "execution_count": 38,
     "metadata": {},
     "output_type": "execute_result"
    }
   ],
   "source": [
    "a.shape"
   ]
  },
  {
   "cell_type": "code",
   "execution_count": 39,
   "id": "11e89b74",
   "metadata": {},
   "outputs": [
    {
     "data": {
      "text/plain": [
       "array([1, 2, 3, 4, 5, 6, 7, 8, 9])"
      ]
     },
     "execution_count": 39,
     "metadata": {},
     "output_type": "execute_result"
    }
   ],
   "source": [
    "a.T"
   ]
  },
  {
   "cell_type": "code",
   "execution_count": 40,
   "id": "d85a0fd2",
   "metadata": {},
   "outputs": [
    {
     "data": {
      "text/plain": [
       "(9,)"
      ]
     },
     "execution_count": 40,
     "metadata": {},
     "output_type": "execute_result"
    }
   ],
   "source": [
    "a.T.shape"
   ]
  },
  {
   "cell_type": "code",
   "execution_count": 42,
   "id": "d729e5cf",
   "metadata": {},
   "outputs": [],
   "source": [
    "b = np.transpose(a)"
   ]
  },
  {
   "cell_type": "code",
   "execution_count": 43,
   "id": "6a1501c2",
   "metadata": {},
   "outputs": [
    {
     "data": {
      "text/plain": [
       "(9,)"
      ]
     },
     "execution_count": 43,
     "metadata": {},
     "output_type": "execute_result"
    }
   ],
   "source": [
    "b.shape"
   ]
  },
  {
   "cell_type": "code",
   "execution_count": 44,
   "id": "4a132dd1",
   "metadata": {},
   "outputs": [],
   "source": [
    "## new_axis adding one dimension"
   ]
  },
  {
   "cell_type": "code",
   "execution_count": 47,
   "id": "e0066dd9",
   "metadata": {},
   "outputs": [],
   "source": [
    "b = a[:, np.newaxis]"
   ]
  },
  {
   "cell_type": "code",
   "execution_count": 48,
   "id": "9201b473",
   "metadata": {},
   "outputs": [],
   "source": [
    "c = a[np.newaxis,:]"
   ]
  },
  {
   "cell_type": "code",
   "execution_count": 51,
   "id": "d3ef2652",
   "metadata": {},
   "outputs": [
    {
     "name": "stdout",
     "output_type": "stream",
     "text": [
      "[[1]\n",
      " [2]\n",
      " [3]\n",
      " [4]\n",
      " [5]\n",
      " [6]\n",
      " [7]\n",
      " [8]\n",
      " [9]] \n",
      " \n",
      " (9, 1) \n",
      " \n",
      " [[1 2 3 4 5 6 7 8 9]] \n",
      " \n",
      " (1, 9)\n"
     ]
    }
   ],
   "source": [
    "print(b,\"\\n\",\"\\n\",b.shape,\"\\n\",\"\\n\",c,\"\\n\",\"\\n\",c.shape)"
   ]
  },
  {
   "cell_type": "markdown",
   "id": "7673a8ea",
   "metadata": {},
   "source": [
    "# np.squeeze() 去掉None维度"
   ]
  },
  {
   "cell_type": "code",
   "execution_count": 54,
   "id": "e9ab7632",
   "metadata": {},
   "outputs": [],
   "source": [
    "d = np.squeeze(c, axis=0)"
   ]
  },
  {
   "cell_type": "code",
   "execution_count": 55,
   "id": "092e6f4b",
   "metadata": {},
   "outputs": [
    {
     "data": {
      "text/plain": [
       "array([1, 2, 3, 4, 5, 6, 7, 8, 9])"
      ]
     },
     "execution_count": 55,
     "metadata": {},
     "output_type": "execute_result"
    }
   ],
   "source": [
    "d"
   ]
  },
  {
   "cell_type": "code",
   "execution_count": 56,
   "id": "13eafb82",
   "metadata": {},
   "outputs": [
    {
     "data": {
      "text/plain": [
       "(9,)"
      ]
     },
     "execution_count": 56,
     "metadata": {},
     "output_type": "execute_result"
    }
   ],
   "source": [
    "d.shape"
   ]
  },
  {
   "cell_type": "code",
   "execution_count": 57,
   "id": "2941a16e",
   "metadata": {},
   "outputs": [],
   "source": [
    "e = np.squeeze(b,axis=1)"
   ]
  },
  {
   "cell_type": "code",
   "execution_count": 58,
   "id": "61efce77",
   "metadata": {},
   "outputs": [
    {
     "data": {
      "text/plain": [
       "array([1, 2, 3, 4, 5, 6, 7, 8, 9])"
      ]
     },
     "execution_count": 58,
     "metadata": {},
     "output_type": "execute_result"
    }
   ],
   "source": [
    "e"
   ]
  },
  {
   "cell_type": "code",
   "execution_count": 59,
   "id": "df10b398",
   "metadata": {},
   "outputs": [
    {
     "data": {
      "text/plain": [
       "(9,)"
      ]
     },
     "execution_count": 59,
     "metadata": {},
     "output_type": "execute_result"
    }
   ],
   "source": [
    "e.shape"
   ]
  },
  {
   "cell_type": "markdown",
   "id": "034bb1b3",
   "metadata": {},
   "source": [
    "## concatenate"
   ]
  },
  {
   "cell_type": "code",
   "execution_count": 61,
   "id": "d9838219",
   "metadata": {},
   "outputs": [],
   "source": [
    "x_1 = np.arange(1,9).reshape(2,-1)"
   ]
  },
  {
   "cell_type": "code",
   "execution_count": 62,
   "id": "14b41cfc",
   "metadata": {},
   "outputs": [
    {
     "data": {
      "text/plain": [
       "array([[1, 2, 3, 4],\n",
       "       [5, 6, 7, 8]])"
      ]
     },
     "execution_count": 62,
     "metadata": {},
     "output_type": "execute_result"
    }
   ],
   "source": [
    "x_1"
   ]
  },
  {
   "cell_type": "code",
   "execution_count": 68,
   "id": "29f2cb39",
   "metadata": {},
   "outputs": [],
   "source": [
    "x_2 = np.arange(9,17).reshape(2,-1)"
   ]
  },
  {
   "cell_type": "code",
   "execution_count": 69,
   "id": "7f6e98b0",
   "metadata": {},
   "outputs": [
    {
     "data": {
      "text/plain": [
       "array([[ 9, 10, 11, 12],\n",
       "       [13, 14, 15, 16]])"
      ]
     },
     "execution_count": 69,
     "metadata": {},
     "output_type": "execute_result"
    }
   ],
   "source": [
    "x_2"
   ]
  },
  {
   "cell_type": "code",
   "execution_count": 70,
   "id": "6fa6ef2f",
   "metadata": {},
   "outputs": [
    {
     "data": {
      "text/plain": [
       "array([[ 1,  2,  3,  4],\n",
       "       [ 5,  6,  7,  8],\n",
       "       [ 9, 10, 11, 12],\n",
       "       [13, 14, 15, 16]])"
      ]
     },
     "execution_count": 70,
     "metadata": {},
     "output_type": "execute_result"
    }
   ],
   "source": [
    "np.concatenate([x_1,x_2],axis=0)"
   ]
  },
  {
   "cell_type": "code",
   "execution_count": 71,
   "id": "b9f4d3b1",
   "metadata": {},
   "outputs": [
    {
     "data": {
      "text/plain": [
       "array([[ 1,  2,  3,  4,  9, 10, 11, 12],\n",
       "       [ 5,  6,  7,  8, 13, 14, 15, 16]])"
      ]
     },
     "execution_count": 71,
     "metadata": {},
     "output_type": "execute_result"
    }
   ],
   "source": [
    "np.concatenate([x_1,x_2],axis=1)"
   ]
  },
  {
   "cell_type": "markdown",
   "id": "24ba131e",
   "metadata": {},
   "source": [
    "## stack vstack hstack"
   ]
  },
  {
   "cell_type": "code",
   "execution_count": 72,
   "id": "fb46a09d",
   "metadata": {},
   "outputs": [
    {
     "data": {
      "text/plain": [
       "array([[[ 1,  2,  3,  4],\n",
       "        [ 5,  6,  7,  8]],\n",
       "\n",
       "       [[ 9, 10, 11, 12],\n",
       "        [13, 14, 15, 16]]])"
      ]
     },
     "execution_count": 72,
     "metadata": {},
     "output_type": "execute_result"
    }
   ],
   "source": [
    "np.stack([x_1,x_2],axis=0)"
   ]
  },
  {
   "cell_type": "code",
   "execution_count": 73,
   "id": "999961e4",
   "metadata": {},
   "outputs": [
    {
     "data": {
      "text/plain": [
       "array([[[ 1,  2,  3,  4],\n",
       "        [ 9, 10, 11, 12]],\n",
       "\n",
       "       [[ 5,  6,  7,  8],\n",
       "        [13, 14, 15, 16]]])"
      ]
     },
     "execution_count": 73,
     "metadata": {},
     "output_type": "execute_result"
    }
   ],
   "source": [
    "np.stack([x_1,x_2],axis=1)"
   ]
  },
  {
   "cell_type": "code",
   "execution_count": 75,
   "id": "adc7a5e8",
   "metadata": {},
   "outputs": [
    {
     "data": {
      "text/plain": [
       "array([[[ 1,  2,  3,  4],\n",
       "        [ 5,  6,  7,  8]],\n",
       "\n",
       "       [[ 9, 10, 11, 12],\n",
       "        [13, 14, 15, 16]]])"
      ]
     },
     "execution_count": 75,
     "metadata": {},
     "output_type": "execute_result"
    }
   ],
   "source": [
    "np.stack((x_1,x_2),axis=0)"
   ]
  },
  {
   "cell_type": "code",
   "execution_count": 76,
   "id": "99e7f340",
   "metadata": {},
   "outputs": [
    {
     "data": {
      "text/plain": [
       "array([[[ 1,  2,  3,  4],\n",
       "        [ 9, 10, 11, 12]],\n",
       "\n",
       "       [[ 5,  6,  7,  8],\n",
       "        [13, 14, 15, 16]]])"
      ]
     },
     "execution_count": 76,
     "metadata": {},
     "output_type": "execute_result"
    }
   ],
   "source": [
    "np.stack((x_1,x_2),axis=1)"
   ]
  },
  {
   "cell_type": "code",
   "execution_count": 77,
   "id": "dd090d65",
   "metadata": {},
   "outputs": [
    {
     "data": {
      "text/plain": [
       "array([[ 1,  2,  3,  4],\n",
       "       [ 5,  6,  7,  8],\n",
       "       [ 9, 10, 11, 12],\n",
       "       [13, 14, 15, 16]])"
      ]
     },
     "execution_count": 77,
     "metadata": {},
     "output_type": "execute_result"
    }
   ],
   "source": [
    "np.vstack((x_1,x_2))"
   ]
  },
  {
   "cell_type": "code",
   "execution_count": 78,
   "id": "a510437a",
   "metadata": {},
   "outputs": [
    {
     "data": {
      "text/plain": [
       "array([[ 1,  2,  3,  4,  9, 10, 11, 12],\n",
       "       [ 5,  6,  7,  8, 13, 14, 15, 16]])"
      ]
     },
     "execution_count": 78,
     "metadata": {},
     "output_type": "execute_result"
    }
   ],
   "source": [
    "np.hstack((x_1,x_2))"
   ]
  },
  {
   "cell_type": "markdown",
   "id": "e692230e",
   "metadata": {},
   "source": [
    "## split vsplit hsplit"
   ]
  },
  {
   "cell_type": "code",
   "execution_count": 79,
   "id": "f5990db1",
   "metadata": {},
   "outputs": [],
   "source": [
    "a = np.arange(1,26).reshape(5,5)"
   ]
  },
  {
   "cell_type": "code",
   "execution_count": 80,
   "id": "b1e3ef63",
   "metadata": {},
   "outputs": [
    {
     "data": {
      "text/plain": [
       "array([[ 1,  2,  3,  4,  5],\n",
       "       [ 6,  7,  8,  9, 10],\n",
       "       [11, 12, 13, 14, 15],\n",
       "       [16, 17, 18, 19, 20],\n",
       "       [21, 22, 23, 24, 25]])"
      ]
     },
     "execution_count": 80,
     "metadata": {},
     "output_type": "execute_result"
    }
   ],
   "source": [
    "a"
   ]
  },
  {
   "cell_type": "code",
   "execution_count": 81,
   "id": "7ac085f4",
   "metadata": {},
   "outputs": [
    {
     "data": {
      "text/plain": [
       "[array([[1, 2, 3, 4, 5]]),\n",
       " array([[ 6,  7,  8,  9, 10],\n",
       "        [11, 12, 13, 14, 15]]),\n",
       " array([[16, 17, 18, 19, 20],\n",
       "        [21, 22, 23, 24, 25]])]"
      ]
     },
     "execution_count": 81,
     "metadata": {},
     "output_type": "execute_result"
    }
   ],
   "source": [
    "np.split(a,[1,3], axis =0)"
   ]
  },
  {
   "cell_type": "code",
   "execution_count": 82,
   "id": "0c29f671",
   "metadata": {},
   "outputs": [
    {
     "data": {
      "text/plain": [
       "[array([[ 1],\n",
       "        [ 6],\n",
       "        [11],\n",
       "        [16],\n",
       "        [21]]),\n",
       " array([[ 2,  3],\n",
       "        [ 7,  8],\n",
       "        [12, 13],\n",
       "        [17, 18],\n",
       "        [22, 23]]),\n",
       " array([[ 4,  5],\n",
       "        [ 9, 10],\n",
       "        [14, 15],\n",
       "        [19, 20],\n",
       "        [24, 25]])]"
      ]
     },
     "execution_count": 82,
     "metadata": {},
     "output_type": "execute_result"
    }
   ],
   "source": [
    "np.split(a,[1,3], axis =1)"
   ]
  },
  {
   "cell_type": "code",
   "execution_count": 83,
   "id": "c953d4b0",
   "metadata": {},
   "outputs": [
    {
     "data": {
      "text/plain": [
       "[array([[ 1,  2,  3,  4,  5],\n",
       "        [ 6,  7,  8,  9, 10]]),\n",
       " array([[11, 12, 13, 14, 15],\n",
       "        [16, 17, 18, 19, 20],\n",
       "        [21, 22, 23, 24, 25]])]"
      ]
     },
     "execution_count": 83,
     "metadata": {},
     "output_type": "execute_result"
    }
   ],
   "source": [
    "np.vsplit(a,[2])"
   ]
  },
  {
   "cell_type": "code",
   "execution_count": 84,
   "id": "d55d171a",
   "metadata": {},
   "outputs": [
    {
     "data": {
      "text/plain": [
       "[array([[ 1,  2,  3],\n",
       "        [ 6,  7,  8],\n",
       "        [11, 12, 13],\n",
       "        [16, 17, 18],\n",
       "        [21, 22, 23]]),\n",
       " array([[ 4,  5],\n",
       "        [ 9, 10],\n",
       "        [14, 15],\n",
       "        [19, 20],\n",
       "        [24, 25]])]"
      ]
     },
     "execution_count": 84,
     "metadata": {},
     "output_type": "execute_result"
    }
   ],
   "source": [
    "np.hsplit(a,[3])"
   ]
  },
  {
   "cell_type": "markdown",
   "id": "da804f41",
   "metadata": {},
   "source": [
    "# np.tile 铺开数列"
   ]
  },
  {
   "cell_type": "code",
   "execution_count": 85,
   "id": "0937b3ff",
   "metadata": {},
   "outputs": [],
   "source": [
    "a = np.array([[1,2],\n",
    "              [3,4]])"
   ]
  },
  {
   "cell_type": "code",
   "execution_count": 86,
   "id": "05313ba5",
   "metadata": {},
   "outputs": [
    {
     "data": {
      "text/plain": [
       "array([[1, 2],\n",
       "       [3, 4]])"
      ]
     },
     "execution_count": 86,
     "metadata": {},
     "output_type": "execute_result"
    }
   ],
   "source": [
    "a"
   ]
  },
  {
   "cell_type": "code",
   "execution_count": 87,
   "id": "f6e02523",
   "metadata": {},
   "outputs": [
    {
     "data": {
      "text/plain": [
       "array([[1, 2, 1, 2, 1, 2],\n",
       "       [3, 4, 3, 4, 3, 4]])"
      ]
     },
     "execution_count": 87,
     "metadata": {},
     "output_type": "execute_result"
    }
   ],
   "source": [
    "np.tile(a,(1,3))"
   ]
  },
  {
   "cell_type": "code",
   "execution_count": 88,
   "id": "21facf61",
   "metadata": {},
   "outputs": [
    {
     "data": {
      "text/plain": [
       "array([[1, 2],\n",
       "       [3, 4],\n",
       "       [1, 2],\n",
       "       [3, 4],\n",
       "       [1, 2],\n",
       "       [3, 4],\n",
       "       [1, 2],\n",
       "       [3, 4]])"
      ]
     },
     "execution_count": 88,
     "metadata": {},
     "output_type": "execute_result"
    }
   ],
   "source": [
    "np.tile(a,(4,1))"
   ]
  },
  {
   "cell_type": "code",
   "execution_count": 89,
   "id": "7eff0514",
   "metadata": {},
   "outputs": [
    {
     "data": {
      "text/plain": [
       "array([[1, 2, 1, 2, 1, 2],\n",
       "       [3, 4, 3, 4, 3, 4],\n",
       "       [1, 2, 1, 2, 1, 2],\n",
       "       [3, 4, 3, 4, 3, 4],\n",
       "       [1, 2, 1, 2, 1, 2],\n",
       "       [3, 4, 3, 4, 3, 4]])"
      ]
     },
     "execution_count": 89,
     "metadata": {},
     "output_type": "execute_result"
    }
   ],
   "source": [
    "np.tile(a,(3,3))"
   ]
  },
  {
   "cell_type": "markdown",
   "id": "a87cc283",
   "metadata": {},
   "source": [
    "# np.repeat"
   ]
  },
  {
   "cell_type": "code",
   "execution_count": 90,
   "id": "64fec654",
   "metadata": {},
   "outputs": [],
   "source": [
    "a = np.arange(1,5).reshape(2,2)"
   ]
  },
  {
   "cell_type": "code",
   "execution_count": 91,
   "id": "80a23d3c",
   "metadata": {},
   "outputs": [
    {
     "data": {
      "text/plain": [
       "array([[1, 2],\n",
       "       [3, 4]])"
      ]
     },
     "execution_count": 91,
     "metadata": {},
     "output_type": "execute_result"
    }
   ],
   "source": [
    "a"
   ]
  },
  {
   "cell_type": "code",
   "execution_count": 92,
   "id": "fcff9eb5",
   "metadata": {},
   "outputs": [
    {
     "data": {
      "text/plain": [
       "array([[1, 2],\n",
       "       [1, 2],\n",
       "       [3, 4],\n",
       "       [3, 4]])"
      ]
     },
     "execution_count": 92,
     "metadata": {},
     "output_type": "execute_result"
    }
   ],
   "source": [
    "np.repeat(a,[2,2],axis=0)"
   ]
  },
  {
   "cell_type": "code",
   "execution_count": 93,
   "id": "7bffc27e",
   "metadata": {},
   "outputs": [
    {
     "data": {
      "text/plain": [
       "array([[1, 1, 2, 2],\n",
       "       [3, 3, 4, 4]])"
      ]
     },
     "execution_count": 93,
     "metadata": {},
     "output_type": "execute_result"
    }
   ],
   "source": [
    "np.repeat(a,[2,2],axis=1)"
   ]
  },
  {
   "cell_type": "code",
   "execution_count": 94,
   "id": "0c7a8ff0",
   "metadata": {},
   "outputs": [
    {
     "data": {
      "text/plain": [
       "array([[1, 1, 1, 2, 2, 2],\n",
       "       [3, 3, 3, 4, 4, 4]])"
      ]
     },
     "execution_count": 94,
     "metadata": {},
     "output_type": "execute_result"
    }
   ],
   "source": [
    "np.repeat(a,3,axis=1)"
   ]
  },
  {
   "cell_type": "code",
   "execution_count": 95,
   "id": "0f65ef59",
   "metadata": {},
   "outputs": [
    {
     "data": {
      "text/plain": [
       "array([[1, 2],\n",
       "       [1, 2],\n",
       "       [1, 2],\n",
       "       [3, 4],\n",
       "       [3, 4],\n",
       "       [3, 4]])"
      ]
     },
     "execution_count": 95,
     "metadata": {},
     "output_type": "execute_result"
    }
   ],
   "source": [
    "np.repeat(a,3,axis=0)"
   ]
  },
  {
   "cell_type": "code",
   "execution_count": null,
   "id": "d2b2cd45",
   "metadata": {},
   "outputs": [],
   "source": []
  }
 ],
 "metadata": {
  "kernelspec": {
   "display_name": "Python 3 (ipykernel)",
   "language": "python",
   "name": "python3"
  },
  "language_info": {
   "codemirror_mode": {
    "name": "ipython",
    "version": 3
   },
   "file_extension": ".py",
   "mimetype": "text/x-python",
   "name": "python",
   "nbconvert_exporter": "python",
   "pygments_lexer": "ipython3",
   "version": "3.9.13"
  }
 },
 "nbformat": 4,
 "nbformat_minor": 5
}
