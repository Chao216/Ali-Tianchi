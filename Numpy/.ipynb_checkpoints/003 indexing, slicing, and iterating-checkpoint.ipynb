{
 "cells": [
  {
   "cell_type": "markdown",
   "id": "bf111453",
   "metadata": {},
   "source": [
    "numpy.ndarray.copy() will create a independent duplication"
   ]
  },
  {
   "cell_type": "code",
   "execution_count": 2,
   "id": "761b893e",
   "metadata": {},
   "outputs": [
    {
     "name": "stdout",
     "output_type": "stream",
     "text": [
      "\n",
      " [100   2   3   4   5   6   7   8   9] \n",
      " [100   2   3   4   5   6   7   8   9] \n",
      " [100   2   3   4   5   6   7   8   9] \n",
      " [1 2 3 4 5 6 7 8 9]\n"
     ]
    }
   ],
   "source": [
    "import numpy as np\n",
    "\n",
    "a = np.array([1,2,3,4,5,6,7,8,9])\n",
    "b = a\n",
    "c = np.array([1,2,3,4,5,6,7,8,9])\n",
    "d = c.copy()\n",
    "\n",
    "a[0] = 100\n",
    "c[0] = 100\n",
    "\n",
    "print(\"\\n\",a,\"\\n\",b,\"\\n\",c,\"\\n\",d)"
   ]
  },
  {
   "cell_type": "code",
   "execution_count": null,
   "id": "fa8b89c6",
   "metadata": {},
   "outputs": [],
   "source": []
  }
 ],
 "metadata": {
  "kernelspec": {
   "display_name": "Python 3 (ipykernel)",
   "language": "python",
   "name": "python3"
  },
  "language_info": {
   "codemirror_mode": {
    "name": "ipython",
    "version": 3
   },
   "file_extension": ".py",
   "mimetype": "text/x-python",
   "name": "python",
   "nbconvert_exporter": "python",
   "pygments_lexer": "ipython3",
   "version": "3.9.13"
  }
 },
 "nbformat": 4,
 "nbformat_minor": 5
}
