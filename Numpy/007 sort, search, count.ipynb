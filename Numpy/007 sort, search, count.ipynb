{
 "cells": [
  {
   "cell_type": "code",
   "execution_count": 1,
   "id": "00c70aad",
   "metadata": {},
   "outputs": [],
   "source": [
    "import numpy as np"
   ]
  },
  {
   "cell_type": "markdown",
   "id": "f421251b",
   "metadata": {},
   "source": [
    "## sorting 排序"
   ]
  },
  {
   "cell_type": "code",
   "execution_count": 5,
   "id": "14694624",
   "metadata": {},
   "outputs": [],
   "source": [
    "a = np.random.rand(64).reshape(8,8) * 10"
   ]
  },
  {
   "cell_type": "code",
   "execution_count": 6,
   "id": "2e07dc34",
   "metadata": {},
   "outputs": [],
   "source": [
    "a = np.round(a,2)"
   ]
  },
  {
   "cell_type": "code",
   "execution_count": 7,
   "id": "551b0768",
   "metadata": {},
   "outputs": [
    {
     "data": {
      "text/plain": [
       "array([[1.6 , 8.88, 3.63, 4.83, 2.98, 1.1 , 9.41, 4.83],\n",
       "       [9.41, 7.55, 8.64, 4.2 , 1.16, 6.76, 4.64, 5.98],\n",
       "       [5.94, 8.58, 8.97, 6.24, 7.73, 1.13, 1.67, 2.76],\n",
       "       [0.33, 3.78, 1.12, 6.66, 6.75, 9.31, 7.  , 5.2 ],\n",
       "       [7.73, 5.1 , 7.21, 5.68, 4.13, 5.42, 5.81, 2.9 ],\n",
       "       [4.43, 7.85, 7.46, 4.85, 8.15, 9.11, 3.6 , 5.64],\n",
       "       [4.22, 3.55, 6.58, 8.92, 3.08, 6.4 , 7.88, 2.14],\n",
       "       [3.41, 7.11, 7.62, 5.18, 3.7 , 3.32, 4.69, 7.95]])"
      ]
     },
     "execution_count": 7,
     "metadata": {},
     "output_type": "execute_result"
    }
   ],
   "source": [
    "a"
   ]
  },
  {
   "cell_type": "code",
   "execution_count": 8,
   "id": "9f986e72",
   "metadata": {},
   "outputs": [
    {
     "data": {
      "text/plain": [
       "array([[1.1 , 1.6 , 2.98, 3.63, 4.83, 4.83, 8.88, 9.41],\n",
       "       [1.16, 4.2 , 4.64, 5.98, 6.76, 7.55, 8.64, 9.41],\n",
       "       [1.13, 1.67, 2.76, 5.94, 6.24, 7.73, 8.58, 8.97],\n",
       "       [0.33, 1.12, 3.78, 5.2 , 6.66, 6.75, 7.  , 9.31],\n",
       "       [2.9 , 4.13, 5.1 , 5.42, 5.68, 5.81, 7.21, 7.73],\n",
       "       [3.6 , 4.43, 4.85, 5.64, 7.46, 7.85, 8.15, 9.11],\n",
       "       [2.14, 3.08, 3.55, 4.22, 6.4 , 6.58, 7.88, 8.92],\n",
       "       [3.32, 3.41, 3.7 , 4.69, 5.18, 7.11, 7.62, 7.95]])"
      ]
     },
     "execution_count": 8,
     "metadata": {},
     "output_type": "execute_result"
    }
   ],
   "source": [
    "np.sort(a)"
   ]
  },
  {
   "cell_type": "code",
   "execution_count": 9,
   "id": "2591ca6d",
   "metadata": {},
   "outputs": [
    {
     "data": {
      "text/plain": [
       "array([[0.33, 3.55, 1.12, 4.2 , 1.16, 1.1 , 1.67, 2.14],\n",
       "       [1.6 , 3.78, 3.63, 4.83, 2.98, 1.13, 3.6 , 2.76],\n",
       "       [3.41, 5.1 , 6.58, 4.85, 3.08, 3.32, 4.64, 2.9 ],\n",
       "       [4.22, 7.11, 7.21, 5.18, 3.7 , 5.42, 4.69, 4.83],\n",
       "       [4.43, 7.55, 7.46, 5.68, 4.13, 6.4 , 5.81, 5.2 ],\n",
       "       [5.94, 7.85, 7.62, 6.24, 6.75, 6.76, 7.  , 5.64],\n",
       "       [7.73, 8.58, 8.64, 6.66, 7.73, 9.11, 7.88, 5.98],\n",
       "       [9.41, 8.88, 8.97, 8.92, 8.15, 9.31, 9.41, 7.95]])"
      ]
     },
     "execution_count": 9,
     "metadata": {},
     "output_type": "execute_result"
    }
   ],
   "source": [
    "np.sort(a,axis=0)"
   ]
  },
  {
   "cell_type": "code",
   "execution_count": 10,
   "id": "ef2a35ec",
   "metadata": {},
   "outputs": [
    {
     "data": {
      "text/plain": [
       "array([[1.1 , 1.6 , 2.98, 3.63, 4.83, 4.83, 8.88, 9.41],\n",
       "       [1.16, 4.2 , 4.64, 5.98, 6.76, 7.55, 8.64, 9.41],\n",
       "       [1.13, 1.67, 2.76, 5.94, 6.24, 7.73, 8.58, 8.97],\n",
       "       [0.33, 1.12, 3.78, 5.2 , 6.66, 6.75, 7.  , 9.31],\n",
       "       [2.9 , 4.13, 5.1 , 5.42, 5.68, 5.81, 7.21, 7.73],\n",
       "       [3.6 , 4.43, 4.85, 5.64, 7.46, 7.85, 8.15, 9.11],\n",
       "       [2.14, 3.08, 3.55, 4.22, 6.4 , 6.58, 7.88, 8.92],\n",
       "       [3.32, 3.41, 3.7 , 4.69, 5.18, 7.11, 7.62, 7.95]])"
      ]
     },
     "execution_count": 10,
     "metadata": {},
     "output_type": "execute_result"
    }
   ],
   "source": [
    "np.sort(a,axis=1)"
   ]
  },
  {
   "cell_type": "markdown",
   "id": "28ccc665",
   "metadata": {},
   "source": [
    "## np.argsort() 排序 返回index"
   ]
  },
  {
   "cell_type": "code",
   "execution_count": 11,
   "id": "f0459ec9",
   "metadata": {},
   "outputs": [
    {
     "data": {
      "text/plain": [
       "array([[5, 0, 4, 2, 3, 7, 1, 6],\n",
       "       [4, 3, 6, 7, 5, 1, 2, 0],\n",
       "       [5, 6, 7, 0, 3, 4, 1, 2],\n",
       "       [0, 2, 1, 7, 3, 4, 6, 5],\n",
       "       [7, 4, 1, 5, 3, 6, 2, 0],\n",
       "       [6, 0, 3, 7, 2, 1, 4, 5],\n",
       "       [7, 4, 1, 0, 5, 2, 6, 3],\n",
       "       [5, 0, 4, 6, 3, 1, 2, 7]], dtype=int64)"
      ]
     },
     "execution_count": 11,
     "metadata": {},
     "output_type": "execute_result"
    }
   ],
   "source": [
    "np.argsort(a)"
   ]
  },
  {
   "cell_type": "code",
   "execution_count": 12,
   "id": "0e140a37",
   "metadata": {},
   "outputs": [
    {
     "data": {
      "text/plain": [
       "array([[3, 6, 3, 1, 1, 0, 2, 6],\n",
       "       [0, 3, 0, 0, 0, 2, 5, 2],\n",
       "       [7, 4, 6, 5, 6, 7, 1, 4],\n",
       "       [6, 7, 4, 7, 7, 4, 7, 0],\n",
       "       [5, 1, 5, 4, 4, 6, 4, 3],\n",
       "       [2, 5, 7, 2, 3, 1, 3, 5],\n",
       "       [4, 2, 1, 3, 2, 5, 6, 1],\n",
       "       [1, 0, 2, 6, 5, 3, 0, 7]], dtype=int64)"
      ]
     },
     "execution_count": 12,
     "metadata": {},
     "output_type": "execute_result"
    }
   ],
   "source": [
    "np.argsort(a,axis=0)"
   ]
  },
  {
   "cell_type": "code",
   "execution_count": 13,
   "id": "b8a3c2ed",
   "metadata": {},
   "outputs": [
    {
     "data": {
      "text/plain": [
       "array([[5, 0, 4, 2, 3, 7, 1, 6],\n",
       "       [4, 3, 6, 7, 5, 1, 2, 0],\n",
       "       [5, 6, 7, 0, 3, 4, 1, 2],\n",
       "       [0, 2, 1, 7, 3, 4, 6, 5],\n",
       "       [7, 4, 1, 5, 3, 6, 2, 0],\n",
       "       [6, 0, 3, 7, 2, 1, 4, 5],\n",
       "       [7, 4, 1, 0, 5, 2, 6, 3],\n",
       "       [5, 0, 4, 6, 3, 1, 2, 7]], dtype=int64)"
      ]
     },
     "execution_count": 13,
     "metadata": {},
     "output_type": "execute_result"
    }
   ],
   "source": [
    "np.argsort(a,axis=1)"
   ]
  },
  {
   "cell_type": "markdown",
   "id": "47800f41",
   "metadata": {},
   "source": [
    "# multiple level sorting, lexsort(b,c,a) b first time"
   ]
  },
  {
   "cell_type": "code",
   "execution_count": 18,
   "id": "f7173698",
   "metadata": {},
   "outputs": [],
   "source": [
    "a = np.arange(1,10)"
   ]
  },
  {
   "cell_type": "code",
   "execution_count": 29,
   "id": "83bc4f91",
   "metadata": {},
   "outputs": [],
   "source": [
    "b = np.arange(4,13) * -1"
   ]
  },
  {
   "cell_type": "code",
   "execution_count": 30,
   "id": "e996faf6",
   "metadata": {},
   "outputs": [],
   "source": [
    "c = np.arange(73,82)"
   ]
  },
  {
   "cell_type": "code",
   "execution_count": 31,
   "id": "93e49f55",
   "metadata": {},
   "outputs": [],
   "source": [
    "m = np.array([a,c,b])"
   ]
  },
  {
   "cell_type": "code",
   "execution_count": 32,
   "id": "a6e02a8c",
   "metadata": {},
   "outputs": [
    {
     "data": {
      "text/plain": [
       "array([[  1,   2,   3,   4,   5,   6,   7,   8,   9],\n",
       "       [ 73,  74,  75,  76,  77,  78,  79,  80,  81],\n",
       "       [ -4,  -5,  -6,  -7,  -8,  -9, -10, -11, -12]])"
      ]
     },
     "execution_count": 32,
     "metadata": {},
     "output_type": "execute_result"
    }
   ],
   "source": [
    "m"
   ]
  },
  {
   "cell_type": "code",
   "execution_count": 33,
   "id": "b0c028ba",
   "metadata": {},
   "outputs": [
    {
     "data": {
      "text/plain": [
       "array([8, 7, 6, 5, 4, 3, 2, 1, 0], dtype=int64)"
      ]
     },
     "execution_count": 33,
     "metadata": {},
     "output_type": "execute_result"
    }
   ],
   "source": [
    "np.lexsort(m)"
   ]
  },
  {
   "cell_type": "code",
   "execution_count": 34,
   "id": "29c32c7f",
   "metadata": {},
   "outputs": [
    {
     "data": {
      "text/plain": [
       "array([0, 1, 2, 3, 4, 5, 6, 7, 8], dtype=int64)"
      ]
     },
     "execution_count": 34,
     "metadata": {},
     "output_type": "execute_result"
    }
   ],
   "source": [
    "np.lexsort([b,c,a])"
   ]
  },
  {
   "cell_type": "markdown",
   "id": "9401ccbe",
   "metadata": {},
   "source": [
    "## np.partition np.argpartition 找出最小的几个，最小几个数的index"
   ]
  },
  {
   "cell_type": "code",
   "execution_count": 39,
   "id": "bb6680b2",
   "metadata": {},
   "outputs": [],
   "source": [
    "a = np.random.rand(20)*10"
   ]
  },
  {
   "cell_type": "code",
   "execution_count": 40,
   "id": "186a2b3b",
   "metadata": {},
   "outputs": [],
   "source": [
    "a = np.round(a)"
   ]
  },
  {
   "cell_type": "code",
   "execution_count": 41,
   "id": "ec2a8608",
   "metadata": {},
   "outputs": [
    {
     "data": {
      "text/plain": [
       "array([ 1.,  3.,  7.,  5.,  3.,  4.,  1.,  8.,  3.,  4.,  8.,  5.,  1.,\n",
       "        2.,  0.,  5.,  1., 10.,  2.,  3.])"
      ]
     },
     "execution_count": 41,
     "metadata": {},
     "output_type": "execute_result"
    }
   ],
   "source": [
    "a"
   ]
  },
  {
   "cell_type": "code",
   "execution_count": 42,
   "id": "0a1a0919",
   "metadata": {},
   "outputs": [
    {
     "data": {
      "text/plain": [
       "array([ 0.,  1.,  1.,  1.,  1.,  2.,  2.,  3.,  3.,  3.,  8.,  5.,  8.,\n",
       "        4.,  3.,  5.,  5., 10.,  7.,  4.])"
      ]
     },
     "execution_count": 42,
     "metadata": {},
     "output_type": "execute_result"
    }
   ],
   "source": [
    "np.partition(a,kth=3)"
   ]
  },
  {
   "cell_type": "code",
   "execution_count": 43,
   "id": "6497cf03",
   "metadata": {},
   "outputs": [
    {
     "data": {
      "text/plain": [
       "array([14, 16,  6, 12,  0, 13, 18,  1, 19,  8, 10, 11,  7,  5,  4, 15,  3,\n",
       "       17,  2,  9], dtype=int64)"
      ]
     },
     "execution_count": 43,
     "metadata": {},
     "output_type": "execute_result"
    }
   ],
   "source": [
    "np.argpartition(a,kth=5)"
   ]
  },
  {
   "cell_type": "code",
   "execution_count": 46,
   "id": "804c66af",
   "metadata": {},
   "outputs": [],
   "source": [
    "b = np.random.rand(64).reshape(8,8)*10\n",
    "b = np.round(b)"
   ]
  },
  {
   "cell_type": "code",
   "execution_count": 47,
   "id": "719f9d9b",
   "metadata": {},
   "outputs": [
    {
     "data": {
      "text/plain": [
       "array([[ 8.,  1.,  9.,  0.,  3.,  0.,  2.,  7.],\n",
       "       [ 4.,  3.,  6.,  3.,  0.,  9.,  9.,  6.],\n",
       "       [ 2.,  7.,  2.,  4.,  9.,  0.,  3.,  4.],\n",
       "       [ 8.,  8.,  4.,  0.,  1., 10.,  7.,  2.],\n",
       "       [ 8.,  2.,  8.,  3.,  8.,  1.,  7.,  1.],\n",
       "       [ 2.,  6.,  4.,  8.,  0.,  4.,  5.,  5.],\n",
       "       [ 8.,  5.,  1.,  2.,  4.,  6.,  6.,  8.],\n",
       "       [ 8.,  0.,  5.,  1.,  2.,  5.,  7.,  1.]])"
      ]
     },
     "execution_count": 47,
     "metadata": {},
     "output_type": "execute_result"
    }
   ],
   "source": [
    "b"
   ]
  },
  {
   "cell_type": "code",
   "execution_count": 48,
   "id": "b7816937",
   "metadata": {},
   "outputs": [
    {
     "data": {
      "text/plain": [
       "array([[ 2.,  0.,  2.,  0.,  0.,  0.,  3.,  1.],\n",
       "       [ 2.,  1.,  1.,  0.,  1.,  0.,  2.,  1.],\n",
       "       [ 4.,  2.,  4.,  1.,  0.,  1.,  5.,  2.],\n",
       "       [ 8.,  3.,  4.,  2.,  2.,  4.,  6.,  4.],\n",
       "       [ 8.,  5.,  5.,  3.,  8.,  5.,  7.,  5.],\n",
       "       [ 8.,  6.,  8.,  8.,  9.,  9.,  7.,  6.],\n",
       "       [ 8.,  7.,  6.,  3.,  4.,  6.,  9.,  8.],\n",
       "       [ 8.,  8.,  9.,  4.,  3., 10.,  7.,  7.]])"
      ]
     },
     "execution_count": 48,
     "metadata": {},
     "output_type": "execute_result"
    }
   ],
   "source": [
    "np.partition(b,kth=3,axis=0)"
   ]
  },
  {
   "cell_type": "code",
   "execution_count": 49,
   "id": "56fe4b95",
   "metadata": {},
   "outputs": [
    {
     "data": {
      "text/plain": [
       "array([[ 1.,  0.,  0.,  2.,  3.,  7.,  9.,  8.],\n",
       "       [ 3.,  3.,  0.,  4.,  6.,  9.,  9.,  6.],\n",
       "       [ 0.,  2.,  2.,  3.,  4.,  9.,  7.,  4.],\n",
       "       [ 1.,  0.,  2.,  4.,  7.,  8.,  8., 10.],\n",
       "       [ 2.,  1.,  1.,  3.,  8.,  8.,  7.,  8.],\n",
       "       [ 2.,  0.,  4.,  4.,  5.,  5.,  6.,  8.],\n",
       "       [ 2.,  1.,  4.,  5.,  6.,  6.,  8.,  8.],\n",
       "       [ 0.,  1.,  1.,  2.,  5.,  5.,  7.,  8.]])"
      ]
     },
     "execution_count": 49,
     "metadata": {},
     "output_type": "execute_result"
    }
   ],
   "source": [
    "np.partition(b,kth=3,axis=1)"
   ]
  },
  {
   "cell_type": "code",
   "execution_count": 50,
   "id": "75d49d3b",
   "metadata": {},
   "outputs": [
    {
     "data": {
      "text/plain": [
       "array([[2, 7, 2, 3, 1, 2, 2, 4],\n",
       "       [5, 0, 6, 0, 3, 0, 0, 7],\n",
       "       [1, 4, 5, 7, 5, 4, 5, 3],\n",
       "       [3, 1, 3, 6, 7, 5, 6, 2],\n",
       "       [6, 6, 7, 4, 4, 7, 3, 5],\n",
       "       [0, 5, 4, 5, 2, 1, 4, 1],\n",
       "       [4, 2, 1, 1, 6, 6, 1, 6],\n",
       "       [7, 3, 0, 2, 0, 3, 7, 0]], dtype=int64)"
      ]
     },
     "execution_count": 50,
     "metadata": {},
     "output_type": "execute_result"
    }
   ],
   "source": [
    "np.argpartition(b,kth=3,axis=0)"
   ]
  },
  {
   "cell_type": "code",
   "execution_count": 51,
   "id": "ce67b3c9",
   "metadata": {},
   "outputs": [
    {
     "data": {
      "text/plain": [
       "array([[1, 5, 3, 6, 4, 7, 2, 0],\n",
       "       [1, 3, 4, 0, 2, 5, 6, 7],\n",
       "       [5, 0, 2, 6, 3, 4, 1, 7],\n",
       "       [4, 3, 7, 2, 6, 0, 1, 5],\n",
       "       [1, 7, 5, 3, 4, 2, 6, 0],\n",
       "       [0, 4, 5, 2, 6, 7, 1, 3],\n",
       "       [3, 2, 4, 1, 6, 5, 0, 7],\n",
       "       [1, 3, 7, 4, 5, 2, 6, 0]], dtype=int64)"
      ]
     },
     "execution_count": 51,
     "metadata": {},
     "output_type": "execute_result"
    }
   ],
   "source": [
    "np.argpartition(b,kth=3,axis=1)"
   ]
  },
  {
   "cell_type": "markdown",
   "id": "8f8a1d3f",
   "metadata": {},
   "source": [
    "## np.max np.argmax np.min np.argmin"
   ]
  },
  {
   "cell_type": "code",
   "execution_count": 52,
   "id": "26aa4a4b",
   "metadata": {},
   "outputs": [
    {
     "data": {
      "text/plain": [
       "10.0"
      ]
     },
     "execution_count": 52,
     "metadata": {},
     "output_type": "execute_result"
    }
   ],
   "source": [
    "np.max(b)"
   ]
  },
  {
   "cell_type": "code",
   "execution_count": 53,
   "id": "c6dd0b9e",
   "metadata": {},
   "outputs": [
    {
     "data": {
      "text/plain": [
       "29"
      ]
     },
     "execution_count": 53,
     "metadata": {},
     "output_type": "execute_result"
    }
   ],
   "source": [
    "np.argmax(b)"
   ]
  },
  {
   "cell_type": "code",
   "execution_count": 54,
   "id": "cfabcddb",
   "metadata": {},
   "outputs": [
    {
     "data": {
      "text/plain": [
       "array([ 8.,  8.,  9.,  8.,  9., 10.,  9.,  8.])"
      ]
     },
     "execution_count": 54,
     "metadata": {},
     "output_type": "execute_result"
    }
   ],
   "source": [
    "np.max(b,axis=0)"
   ]
  },
  {
   "cell_type": "code",
   "execution_count": 55,
   "id": "dc51e4f9",
   "metadata": {},
   "outputs": [
    {
     "data": {
      "text/plain": [
       "array([2, 5, 4, 5, 0, 3, 0, 0], dtype=int64)"
      ]
     },
     "execution_count": 55,
     "metadata": {},
     "output_type": "execute_result"
    }
   ],
   "source": [
    "np.argmax(b,axis=1)"
   ]
  },
  {
   "cell_type": "code",
   "execution_count": 56,
   "id": "64c9eb29",
   "metadata": {},
   "outputs": [
    {
     "data": {
      "text/plain": [
       "0.0"
      ]
     },
     "execution_count": 56,
     "metadata": {},
     "output_type": "execute_result"
    }
   ],
   "source": [
    "np.min(b)"
   ]
  },
  {
   "cell_type": "code",
   "execution_count": 57,
   "id": "980ed863",
   "metadata": {},
   "outputs": [
    {
     "data": {
      "text/plain": [
       "3"
      ]
     },
     "execution_count": 57,
     "metadata": {},
     "output_type": "execute_result"
    }
   ],
   "source": [
    "np.argmin(b)"
   ]
  },
  {
   "cell_type": "code",
   "execution_count": 58,
   "id": "c41cb22c",
   "metadata": {},
   "outputs": [
    {
     "data": {
      "text/plain": [
       "array([0., 0., 0., 0., 1., 0., 1., 0.])"
      ]
     },
     "execution_count": 58,
     "metadata": {},
     "output_type": "execute_result"
    }
   ],
   "source": [
    "np.min(b,axis=1)"
   ]
  },
  {
   "cell_type": "code",
   "execution_count": 59,
   "id": "8019aa18",
   "metadata": {},
   "outputs": [
    {
     "data": {
      "text/plain": [
       "array([2, 7, 6, 0, 1, 0, 0, 4], dtype=int64)"
      ]
     },
     "execution_count": 59,
     "metadata": {},
     "output_type": "execute_result"
    }
   ],
   "source": [
    "np.argmin(b,axis=0)"
   ]
  },
  {
   "cell_type": "markdown",
   "id": "44400f38",
   "metadata": {},
   "source": [
    "## np.nonzero() return indices of values that are not 0"
   ]
  },
  {
   "cell_type": "code",
   "execution_count": 60,
   "id": "b42f4709",
   "metadata": {},
   "outputs": [],
   "source": [
    "a = np.array([0,1,0,2,0,3,0,4,0,5,0,6,0,7,0,8,0,9])"
   ]
  },
  {
   "cell_type": "code",
   "execution_count": 61,
   "id": "7c6bbc4e",
   "metadata": {},
   "outputs": [
    {
     "data": {
      "text/plain": [
       "array([0, 1, 0, 2, 0, 3, 0, 4, 0, 5, 0, 6, 0, 7, 0, 8, 0, 9])"
      ]
     },
     "execution_count": 61,
     "metadata": {},
     "output_type": "execute_result"
    }
   ],
   "source": [
    "a"
   ]
  },
  {
   "cell_type": "code",
   "execution_count": 62,
   "id": "aeb082f6",
   "metadata": {},
   "outputs": [
    {
     "data": {
      "text/plain": [
       "(array([ 1,  3,  5,  7,  9, 11, 13, 15, 17], dtype=int64),)"
      ]
     },
     "execution_count": 62,
     "metadata": {},
     "output_type": "execute_result"
    }
   ],
   "source": [
    "np.nonzero(a)"
   ]
  },
  {
   "cell_type": "markdown",
   "id": "a210f431",
   "metadata": {},
   "source": [
    "## np.where(condition, return if satisfied, return if not satisfied) (if, then, else)"
   ]
  },
  {
   "cell_type": "code",
   "execution_count": 64,
   "id": "5f426df9",
   "metadata": {},
   "outputs": [
    {
     "data": {
      "text/plain": [
       "array([693,   1, 693,   2, 693,   3, 693,   4, 693,   5, 693,   6, 693,\n",
       "         7, 693,   8, 693,   9])"
      ]
     },
     "execution_count": 64,
     "metadata": {},
     "output_type": "execute_result"
    }
   ],
   "source": [
    "np.where(a==0, 693, a)"
   ]
  },
  {
   "cell_type": "markdown",
   "id": "04c544d3",
   "metadata": {},
   "source": [
    "## np.searchsorted() 寻找插入值的index"
   ]
  },
  {
   "cell_type": "code",
   "execution_count": 65,
   "id": "461615fe",
   "metadata": {},
   "outputs": [],
   "source": [
    "a = np.array([1,5,10,15,20,25,30,35])"
   ]
  },
  {
   "cell_type": "code",
   "execution_count": 66,
   "id": "185ab50e",
   "metadata": {},
   "outputs": [
    {
     "data": {
      "text/plain": [
       "1"
      ]
     },
     "execution_count": 66,
     "metadata": {},
     "output_type": "execute_result"
    }
   ],
   "source": [
    "np.searchsorted(a,2)"
   ]
  },
  {
   "cell_type": "code",
   "execution_count": 67,
   "id": "bf1caa1b",
   "metadata": {},
   "outputs": [
    {
     "data": {
      "text/plain": [
       "3"
      ]
     },
     "execution_count": 67,
     "metadata": {},
     "output_type": "execute_result"
    }
   ],
   "source": [
    "np.searchsorted(a,11)"
   ]
  },
  {
   "cell_type": "code",
   "execution_count": 69,
   "id": "7a04a62c",
   "metadata": {},
   "outputs": [
    {
     "data": {
      "text/plain": [
       "8"
      ]
     },
     "execution_count": 69,
     "metadata": {},
     "output_type": "execute_result"
    }
   ],
   "source": [
    "np.searchsorted(a,99, side=\"right\")"
   ]
  },
  {
   "cell_type": "code",
   "execution_count": 71,
   "id": "2ce13a0d",
   "metadata": {},
   "outputs": [
    {
     "data": {
      "text/plain": [
       "array([1, 3, 2, 4, 6, 1], dtype=int64)"
      ]
     },
     "execution_count": 71,
     "metadata": {},
     "output_type": "execute_result"
    }
   ],
   "source": [
    "np.searchsorted(a,[3,11,6,17,28,2], side=\"right\")"
   ]
  },
  {
   "cell_type": "markdown",
   "id": "71037b0f",
   "metadata": {},
   "source": [
    "## 计数 count_nonzero()"
   ]
  },
  {
   "cell_type": "code",
   "execution_count": 74,
   "id": "1203df44",
   "metadata": {},
   "outputs": [
    {
     "data": {
      "text/plain": [
       "7"
      ]
     },
     "execution_count": 74,
     "metadata": {},
     "output_type": "execute_result"
    }
   ],
   "source": [
    "a = np.array([1,2,0,0,3,2,0,0,1,0,2,0,1,0])\n",
    "np.count_nonzero(a)"
   ]
  },
  {
   "cell_type": "code",
   "execution_count": 75,
   "id": "07e5d819",
   "metadata": {},
   "outputs": [
    {
     "data": {
      "text/plain": [
       "(14,)"
      ]
     },
     "execution_count": 75,
     "metadata": {},
     "output_type": "execute_result"
    }
   ],
   "source": [
    "a.shape"
   ]
  },
  {
   "cell_type": "code",
   "execution_count": 76,
   "id": "bfdcf652",
   "metadata": {},
   "outputs": [
    {
     "data": {
      "text/plain": [
       "1"
      ]
     },
     "execution_count": 76,
     "metadata": {},
     "output_type": "execute_result"
    }
   ],
   "source": [
    "a.ndim"
   ]
  },
  {
   "cell_type": "code",
   "execution_count": 77,
   "id": "57e9b37f",
   "metadata": {},
   "outputs": [
    {
     "data": {
      "text/plain": [
       "14"
      ]
     },
     "execution_count": 77,
     "metadata": {},
     "output_type": "execute_result"
    }
   ],
   "source": [
    "a.size"
   ]
  },
  {
   "cell_type": "code",
   "execution_count": null,
   "id": "9c65d5b9",
   "metadata": {},
   "outputs": [],
   "source": []
  }
 ],
 "metadata": {
  "kernelspec": {
   "display_name": "Python 3 (ipykernel)",
   "language": "python",
   "name": "python3"
  },
  "language_info": {
   "codemirror_mode": {
    "name": "ipython",
    "version": 3
   },
   "file_extension": ".py",
   "mimetype": "text/x-python",
   "name": "python",
   "nbconvert_exporter": "python",
   "pygments_lexer": "ipython3",
   "version": "3.9.13"
  }
 },
 "nbformat": 4,
 "nbformat_minor": 5
}
