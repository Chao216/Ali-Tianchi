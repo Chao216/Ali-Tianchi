{
 "cells": [
  {
   "cell_type": "code",
   "execution_count": 1,
   "id": "c8e2f6dc",
   "metadata": {},
   "outputs": [],
   "source": [
    "import numpy as np"
   ]
  },
  {
   "cell_type": "code",
   "execution_count": 2,
   "id": "8f68bc56",
   "metadata": {},
   "outputs": [],
   "source": [
    "today = np.datetime64(\"2023-01-10\")"
   ]
  },
  {
   "cell_type": "code",
   "execution_count": 3,
   "id": "8ab57f3f",
   "metadata": {},
   "outputs": [
    {
     "name": "stdout",
     "output_type": "stream",
     "text": [
      "2023-01-10\n"
     ]
    }
   ],
   "source": [
    "print(today)"
   ]
  },
  {
   "cell_type": "code",
   "execution_count": 4,
   "id": "339fcfb4",
   "metadata": {},
   "outputs": [
    {
     "data": {
      "text/plain": [
       "()"
      ]
     },
     "execution_count": 4,
     "metadata": {},
     "output_type": "execute_result"
    }
   ],
   "source": [
    "today.shape"
   ]
  },
  {
   "cell_type": "code",
   "execution_count": 5,
   "id": "3454a13b",
   "metadata": {},
   "outputs": [
    {
     "data": {
      "text/plain": [
       "0"
      ]
     },
     "execution_count": 5,
     "metadata": {},
     "output_type": "execute_result"
    }
   ],
   "source": [
    "today.ndim"
   ]
  },
  {
   "cell_type": "code",
   "execution_count": 6,
   "id": "e26285d2",
   "metadata": {},
   "outputs": [
    {
     "data": {
      "text/plain": [
       "1"
      ]
     },
     "execution_count": 6,
     "metadata": {},
     "output_type": "execute_result"
    }
   ],
   "source": [
    "today.size"
   ]
  },
  {
   "cell_type": "code",
   "execution_count": 8,
   "id": "a66a800c",
   "metadata": {},
   "outputs": [
    {
     "name": "stdout",
     "output_type": "stream",
     "text": [
      "datetime64[D]\n"
     ]
    }
   ],
   "source": [
    "print(today.dtype)"
   ]
  },
  {
   "cell_type": "markdown",
   "id": "0fb4f7f1",
   "metadata": {},
   "source": [
    "the [D] stands for day, while y for year, M for Month, s for seconds"
   ]
  },
  {
   "cell_type": "code",
   "execution_count": 11,
   "id": "1409c020",
   "metadata": {},
   "outputs": [],
   "source": [
    "now = np.datetime64(\"2023-01-10 22:50:32\")"
   ]
  },
  {
   "cell_type": "code",
   "execution_count": 12,
   "id": "9587cfcc",
   "metadata": {},
   "outputs": [
    {
     "name": "stdout",
     "output_type": "stream",
     "text": [
      "datetime64[s]\n"
     ]
    }
   ],
   "source": [
    "print(now.dtype)"
   ]
  },
  {
   "cell_type": "code",
   "execution_count": 13,
   "id": "698fdca0",
   "metadata": {},
   "outputs": [],
   "source": [
    "birthdays = np.arange(\"1997-02-01\",\"1997-03-01\", dtype=np.datetime64)"
   ]
  },
  {
   "cell_type": "code",
   "execution_count": 14,
   "id": "11941db3",
   "metadata": {},
   "outputs": [
    {
     "name": "stdout",
     "output_type": "stream",
     "text": [
      "['1997-02-01' '1997-02-02' '1997-02-03' '1997-02-04' '1997-02-05'\n",
      " '1997-02-06' '1997-02-07' '1997-02-08' '1997-02-09' '1997-02-10'\n",
      " '1997-02-11' '1997-02-12' '1997-02-13' '1997-02-14' '1997-02-15'\n",
      " '1997-02-16' '1997-02-17' '1997-02-18' '1997-02-19' '1997-02-20'\n",
      " '1997-02-21' '1997-02-22' '1997-02-23' '1997-02-24' '1997-02-25'\n",
      " '1997-02-26' '1997-02-27' '1997-02-28']\n"
     ]
    }
   ],
   "source": [
    "print(birthdays)"
   ]
  },
  {
   "cell_type": "code",
   "execution_count": 16,
   "id": "78ff4894",
   "metadata": {},
   "outputs": [
    {
     "data": {
      "text/plain": [
       "array([ 1,  6, 11, 16, 21, 26, 31, 36, 41, 46, 51, 56, 61, 66, 71, 76, 81,\n",
       "       86, 91, 96])"
      ]
     },
     "execution_count": 16,
     "metadata": {},
     "output_type": "execute_result"
    }
   ],
   "source": [
    "np.arange(1,101,5)"
   ]
  },
  {
   "cell_type": "markdown",
   "id": "3a494ec6",
   "metadata": {},
   "source": [
    "# datetime64 运算"
   ]
  },
  {
   "cell_type": "code",
   "execution_count": 17,
   "id": "999cfa95",
   "metadata": {},
   "outputs": [
    {
     "name": "stdout",
     "output_type": "stream",
     "text": [
      "9459 days\n"
     ]
    }
   ],
   "source": [
    "age = np.datetime64(\"2023-01-10\") - np.datetime64(\"1997-02-16\")\n",
    "print(age)"
   ]
  },
  {
   "cell_type": "markdown",
   "id": "b1d4840b",
   "metadata": {},
   "source": [
    "# timedelta64 算日期，时间差"
   ]
  },
  {
   "cell_type": "code",
   "execution_count": 22,
   "id": "c7ec0dfe",
   "metadata": {},
   "outputs": [
    {
     "name": "stdout",
     "output_type": "stream",
     "text": [
      "2023-01-10T01\n",
      "2025-10-05T01\n"
     ]
    }
   ],
   "source": [
    "a = np.datetime64(\"2023-01-10\")\n",
    "b = a + np.timedelta64(1,\"h\")\n",
    "print(b)\n",
    "c = b + np.timedelta64(999,\"D\")\n",
    "print(c)"
   ]
  },
  {
   "cell_type": "markdown",
   "id": "ad33b66d",
   "metadata": {},
   "source": [
    "# 与python datetime 转换"
   ]
  },
  {
   "cell_type": "code",
   "execution_count": 30,
   "id": "5054c71f",
   "metadata": {},
   "outputs": [
    {
     "name": "stdout",
     "output_type": "stream",
     "text": [
      "2023-01-10 23:04:09\n",
      "<class 'datetime.datetime'>\n"
     ]
    }
   ],
   "source": [
    "import datetime\n",
    "\n",
    "today = datetime.datetime(year=2023,month=1,day=10,hour=23,minute=4,second=9)\n",
    "print(today)\n",
    "print(type(today))"
   ]
  },
  {
   "cell_type": "code",
   "execution_count": 31,
   "id": "72708566",
   "metadata": {},
   "outputs": [
    {
     "name": "stdout",
     "output_type": "stream",
     "text": [
      "2023-01-10T23:04:09.000000 datetime64[us]\n",
      "<class 'numpy.datetime64'>\n"
     ]
    }
   ],
   "source": [
    "today_hat = np.datetime64(today)\n",
    "\n",
    "print(today_hat, today_hat.dtype)\n",
    "print(type(today_hat))"
   ]
  },
  {
   "cell_type": "code",
   "execution_count": 32,
   "id": "984dd74b",
   "metadata": {},
   "outputs": [
    {
     "name": "stdout",
     "output_type": "stream",
     "text": [
      "2023-01-10 23:04:09\n",
      "<class 'datetime.datetime'>\n"
     ]
    }
   ],
   "source": [
    "today_prime = today_hat.astype(datetime.datetime)\n",
    "print(today_prime)\n",
    "print(type(today_prime))"
   ]
  },
  {
   "cell_type": "markdown",
   "id": "7fb4153f",
   "metadata": {},
   "source": [
    "# busday_offset 与 is_busday"
   ]
  },
  {
   "cell_type": "code",
   "execution_count": 33,
   "id": "64f000f1",
   "metadata": {},
   "outputs": [
    {
     "name": "stdout",
     "output_type": "stream",
     "text": [
      "False\n"
     ]
    }
   ],
   "source": [
    "print(np.is_busday(\"1997-02-16\"))"
   ]
  },
  {
   "cell_type": "code",
   "execution_count": 40,
   "id": "43aed6c0",
   "metadata": {},
   "outputs": [
    {
     "data": {
      "text/plain": [
       "numpy.datetime64('2023-01-11')"
      ]
     },
     "execution_count": 40,
     "metadata": {},
     "output_type": "execute_result"
    }
   ],
   "source": [
    "np.busday_offset(\"2023-01-10\", offsets=1)"
   ]
  },
  {
   "cell_type": "code",
   "execution_count": 41,
   "id": "d4d2adf4",
   "metadata": {},
   "outputs": [
    {
     "data": {
      "text/plain": [
       "numpy.datetime64('2023-01-19')"
      ]
     },
     "execution_count": 41,
     "metadata": {},
     "output_type": "execute_result"
    }
   ],
   "source": [
    "np.busday_offset(\"2023-01-10\", offsets=7)"
   ]
  },
  {
   "cell_type": "markdown",
   "id": "642972fc",
   "metadata": {},
   "source": [
    "如果 指定日期不是 business day, 使用 roll"
   ]
  },
  {
   "cell_type": "code",
   "execution_count": 49,
   "id": "fe8f9fba",
   "metadata": {},
   "outputs": [
    {
     "data": {
      "text/plain": [
       "numpy.datetime64('1997-02-18')"
      ]
     },
     "execution_count": 49,
     "metadata": {},
     "output_type": "execute_result"
    }
   ],
   "source": [
    "np.busday_offset(\"1997-02-16\", offsets=2, roll=\"backward\")"
   ]
  },
  {
   "cell_type": "code",
   "execution_count": 48,
   "id": "09cf30fe",
   "metadata": {},
   "outputs": [
    {
     "data": {
      "text/plain": [
       "numpy.datetime64('1997-02-19')"
      ]
     },
     "execution_count": 48,
     "metadata": {},
     "output_type": "execute_result"
    }
   ],
   "source": [
    "np.busday_offset(\"1997-02-16\", offsets=2, roll=\"forward\")"
   ]
  },
  {
   "cell_type": "code",
   "execution_count": null,
   "id": "271dad7e",
   "metadata": {},
   "outputs": [],
   "source": []
  }
 ],
 "metadata": {
  "kernelspec": {
   "display_name": "Python 3 (ipykernel)",
   "language": "python",
   "name": "python3"
  },
  "language_info": {
   "codemirror_mode": {
    "name": "ipython",
    "version": 3
   },
   "file_extension": ".py",
   "mimetype": "text/x-python",
   "name": "python",
   "nbconvert_exporter": "python",
   "pygments_lexer": "ipython3",
   "version": "3.9.13"
  }
 },
 "nbformat": 4,
 "nbformat_minor": 5
}
