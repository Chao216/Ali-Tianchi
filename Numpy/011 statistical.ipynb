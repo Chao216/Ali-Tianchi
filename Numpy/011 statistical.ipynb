{
 "cells": [
  {
   "cell_type": "code",
   "execution_count": 1,
   "id": "2d9fcaee",
   "metadata": {},
   "outputs": [],
   "source": [
    "import numpy as np"
   ]
  },
  {
   "cell_type": "code",
   "execution_count": 4,
   "id": "547d3c93",
   "metadata": {},
   "outputs": [],
   "source": [
    "a = np.random.rand(36).reshape(6,6)*10"
   ]
  },
  {
   "cell_type": "code",
   "execution_count": 6,
   "id": "5ef04b4e",
   "metadata": {},
   "outputs": [],
   "source": [
    "a = np.round(a)"
   ]
  },
  {
   "cell_type": "code",
   "execution_count": 7,
   "id": "f8f52e2a",
   "metadata": {},
   "outputs": [
    {
     "data": {
      "text/plain": [
       "array([[ 9.,  3.,  8.,  9.,  9.,  3.],\n",
       "       [ 3.,  7.,  7., 10.,  4.,  7.],\n",
       "       [ 3.,  5.,  0.,  2.,  1.,  7.],\n",
       "       [ 4.,  8.,  3.,  4.,  1.,  4.],\n",
       "       [ 1.,  9.,  9.,  1.,  4.,  6.],\n",
       "       [ 9.,  6.,  0.,  3.,  9.,  7.]])"
      ]
     },
     "execution_count": 7,
     "metadata": {},
     "output_type": "execute_result"
    }
   ],
   "source": [
    "a"
   ]
  },
  {
   "cell_type": "markdown",
   "id": "b44bf342",
   "metadata": {},
   "source": [
    "# Min"
   ]
  },
  {
   "cell_type": "code",
   "execution_count": 8,
   "id": "f8993415",
   "metadata": {},
   "outputs": [
    {
     "data": {
      "text/plain": [
       "0.0"
      ]
     },
     "execution_count": 8,
     "metadata": {},
     "output_type": "execute_result"
    }
   ],
   "source": [
    "np.amin(a)"
   ]
  },
  {
   "cell_type": "code",
   "execution_count": 9,
   "id": "2b485803",
   "metadata": {},
   "outputs": [
    {
     "data": {
      "text/plain": [
       "array([1., 3., 0., 1., 1., 3.])"
      ]
     },
     "execution_count": 9,
     "metadata": {},
     "output_type": "execute_result"
    }
   ],
   "source": [
    "np.amin(a,axis=0)"
   ]
  },
  {
   "cell_type": "code",
   "execution_count": 10,
   "id": "3bf3825d",
   "metadata": {},
   "outputs": [
    {
     "data": {
      "text/plain": [
       "array([3., 3., 0., 1., 1., 0.])"
      ]
     },
     "execution_count": 10,
     "metadata": {},
     "output_type": "execute_result"
    }
   ],
   "source": [
    "np.amin(a,axis=1)"
   ]
  },
  {
   "cell_type": "code",
   "execution_count": 11,
   "id": "2bd636f1",
   "metadata": {},
   "outputs": [
    {
     "data": {
      "text/plain": [
       "array([3., 3., 0., 1., 1., 0.])"
      ]
     },
     "execution_count": 11,
     "metadata": {},
     "output_type": "execute_result"
    }
   ],
   "source": [
    "np.min(a,axis=1)"
   ]
  },
  {
   "cell_type": "markdown",
   "id": "38ac54e8",
   "metadata": {},
   "source": [
    "# Max"
   ]
  },
  {
   "cell_type": "code",
   "execution_count": 12,
   "id": "c5e4d6b4",
   "metadata": {},
   "outputs": [
    {
     "data": {
      "text/plain": [
       "10.0"
      ]
     },
     "execution_count": 12,
     "metadata": {},
     "output_type": "execute_result"
    }
   ],
   "source": [
    "np.amax(a)"
   ]
  },
  {
   "cell_type": "code",
   "execution_count": 13,
   "id": "93ef8dfa",
   "metadata": {},
   "outputs": [
    {
     "data": {
      "text/plain": [
       "array([ 9.,  9.,  9., 10.,  9.,  7.])"
      ]
     },
     "execution_count": 13,
     "metadata": {},
     "output_type": "execute_result"
    }
   ],
   "source": [
    "np.amax(a, axis=0)"
   ]
  },
  {
   "cell_type": "code",
   "execution_count": 14,
   "id": "8537d155",
   "metadata": {},
   "outputs": [
    {
     "data": {
      "text/plain": [
       "array([ 9., 10.,  7.,  8.,  9.,  9.])"
      ]
     },
     "execution_count": 14,
     "metadata": {},
     "output_type": "execute_result"
    }
   ],
   "source": [
    "np.amax(a, axis=1)"
   ]
  },
  {
   "cell_type": "markdown",
   "id": "b9dd10e4",
   "metadata": {},
   "source": [
    "# Mean"
   ]
  },
  {
   "cell_type": "code",
   "execution_count": 15,
   "id": "d0bb0d99",
   "metadata": {},
   "outputs": [
    {
     "data": {
      "text/plain": [
       "5.138888888888889"
      ]
     },
     "execution_count": 15,
     "metadata": {},
     "output_type": "execute_result"
    }
   ],
   "source": [
    "np.mean(a)"
   ]
  },
  {
   "cell_type": "code",
   "execution_count": 19,
   "id": "f7518753",
   "metadata": {},
   "outputs": [
    {
     "data": {
      "text/plain": [
       "array([4.83, 6.33, 4.5 , 4.83, 4.67, 5.67])"
      ]
     },
     "execution_count": 19,
     "metadata": {},
     "output_type": "execute_result"
    }
   ],
   "source": [
    "np.round(np.mean(a,axis=0),2)"
   ]
  },
  {
   "cell_type": "code",
   "execution_count": 20,
   "id": "10ec2b16",
   "metadata": {},
   "outputs": [
    {
     "data": {
      "text/plain": [
       "array([6.83, 6.33, 3.  , 4.  , 5.  , 5.67])"
      ]
     },
     "execution_count": 20,
     "metadata": {},
     "output_type": "execute_result"
    }
   ],
   "source": [
    "np.round(np.mean(a,axis=1),2)"
   ]
  },
  {
   "cell_type": "markdown",
   "id": "7cd6e650",
   "metadata": {},
   "source": [
    "# Median"
   ]
  },
  {
   "cell_type": "code",
   "execution_count": 21,
   "id": "7cdd91d0",
   "metadata": {},
   "outputs": [
    {
     "data": {
      "text/plain": [
       "4.5"
      ]
     },
     "execution_count": 21,
     "metadata": {},
     "output_type": "execute_result"
    }
   ],
   "source": [
    "np.median(a)"
   ]
  },
  {
   "cell_type": "code",
   "execution_count": 22,
   "id": "b8482005",
   "metadata": {},
   "outputs": [
    {
     "data": {
      "text/plain": [
       "array([8.5, 7. , 2.5, 4. , 5. , 6.5])"
      ]
     },
     "execution_count": 22,
     "metadata": {},
     "output_type": "execute_result"
    }
   ],
   "source": [
    "np.median(a,axis=1)"
   ]
  },
  {
   "cell_type": "code",
   "execution_count": 23,
   "id": "8cf516a8",
   "metadata": {},
   "outputs": [
    {
     "data": {
      "text/plain": [
       "array([3.5, 6.5, 5. , 3.5, 4. , 6.5])"
      ]
     },
     "execution_count": 23,
     "metadata": {},
     "output_type": "execute_result"
    }
   ],
   "source": [
    "np.median(a,axis=0)"
   ]
  },
  {
   "cell_type": "markdown",
   "id": "bea5137f",
   "metadata": {},
   "source": [
    "# peak to peak 极差 ptp (max- min)"
   ]
  },
  {
   "cell_type": "code",
   "execution_count": 24,
   "id": "c35c086f",
   "metadata": {},
   "outputs": [
    {
     "data": {
      "text/plain": [
       "10.0"
      ]
     },
     "execution_count": 24,
     "metadata": {},
     "output_type": "execute_result"
    }
   ],
   "source": [
    "np.ptp(a)"
   ]
  },
  {
   "cell_type": "code",
   "execution_count": 25,
   "id": "82518535",
   "metadata": {},
   "outputs": [
    {
     "data": {
      "text/plain": [
       "array([8., 6., 9., 9., 8., 4.])"
      ]
     },
     "execution_count": 25,
     "metadata": {},
     "output_type": "execute_result"
    }
   ],
   "source": [
    "np.ptp(a,axis=0)"
   ]
  },
  {
   "cell_type": "code",
   "execution_count": 26,
   "id": "3c520069",
   "metadata": {},
   "outputs": [
    {
     "data": {
      "text/plain": [
       "array([6., 7., 7., 7., 8., 9.])"
      ]
     },
     "execution_count": 26,
     "metadata": {},
     "output_type": "execute_result"
    }
   ],
   "source": [
    "np.ptp(a,axis=1)"
   ]
  },
  {
   "cell_type": "markdown",
   "id": "63f75663",
   "metadata": {},
   "source": [
    "# percentile"
   ]
  },
  {
   "cell_type": "code",
   "execution_count": 31,
   "id": "83668408",
   "metadata": {},
   "outputs": [
    {
     "data": {
      "text/plain": [
       "array([ 1,  2,  3,  4,  5,  6,  7,  8,  9, 10, 11, 12, 13, 14, 15, 16, 17,\n",
       "       18, 19, 20, 21, 22, 23, 24, 25, 26, 27, 28, 29, 30, 31, 32])"
      ]
     },
     "execution_count": 31,
     "metadata": {},
     "output_type": "execute_result"
    }
   ],
   "source": [
    "a = np.arange(1,33)\n",
    "a"
   ]
  },
  {
   "cell_type": "code",
   "execution_count": 32,
   "id": "685a15a8",
   "metadata": {},
   "outputs": [
    {
     "data": {
      "text/plain": [
       "array([ 1.  ,  8.75, 16.5 , 24.25, 32.  ])"
      ]
     },
     "execution_count": 32,
     "metadata": {},
     "output_type": "execute_result"
    }
   ],
   "source": [
    "np.percentile(a,[0,25,50,75,100])"
   ]
  },
  {
   "cell_type": "code",
   "execution_count": 33,
   "id": "d033ce3a",
   "metadata": {},
   "outputs": [],
   "source": [
    "a = np.round(np.random.rand(64).reshape(8,8)*10)"
   ]
  },
  {
   "cell_type": "code",
   "execution_count": 34,
   "id": "fa926666",
   "metadata": {},
   "outputs": [
    {
     "data": {
      "text/plain": [
       "array([[ 2.,  1.,  7.,  6.,  5.,  6.,  4.,  9.],\n",
       "       [ 4.,  3.,  8.,  6., 10.,  1.,  8.,  1.],\n",
       "       [ 5., 10.,  1.,  1.,  8.,  2.,  6.,  4.],\n",
       "       [ 9.,  7.,  5.,  9.,  8.,  7.,  5.,  5.],\n",
       "       [ 2.,  4., 10.,  1.,  7.,  9.,  4.,  1.],\n",
       "       [ 9.,  6.,  9.,  8.,  8.,  8.,  1.,  7.],\n",
       "       [ 8.,  3.,  5.,  1.,  5.,  3.,  4.,  2.],\n",
       "       [ 2.,  0.,  9.,  3.,  5.,  3.,  8.,  6.]])"
      ]
     },
     "execution_count": 34,
     "metadata": {},
     "output_type": "execute_result"
    }
   ],
   "source": [
    "a"
   ]
  },
  {
   "cell_type": "code",
   "execution_count": 36,
   "id": "44437f7c",
   "metadata": {},
   "outputs": [
    {
     "data": {
      "text/plain": [
       "array([[2.  , 2.5 , 5.  , 1.  , 5.  , 2.75, 4.  , 1.75],\n",
       "       [4.5 , 3.5 , 7.5 , 4.5 , 7.5 , 4.5 , 4.5 , 4.5 ],\n",
       "       [8.25, 6.25, 9.  , 6.5 , 8.  , 7.25, 6.5 , 6.25]])"
      ]
     },
     "execution_count": 36,
     "metadata": {},
     "output_type": "execute_result"
    }
   ],
   "source": [
    "np.percentile(a,[25,50,75],axis=0)"
   ]
  },
  {
   "cell_type": "code",
   "execution_count": 37,
   "id": "6b67bb08",
   "metadata": {},
   "outputs": [
    {
     "data": {
      "text/plain": [
       "array([[3.5 , 2.5 , 1.75, 5.  , 1.75, 6.75, 2.75, 2.75],\n",
       "       [5.5 , 5.  , 4.5 , 7.  , 4.  , 8.  , 3.5 , 4.  ],\n",
       "       [6.25, 8.  , 6.5 , 8.25, 7.5 , 8.25, 5.  , 6.5 ]])"
      ]
     },
     "execution_count": 37,
     "metadata": {},
     "output_type": "execute_result"
    }
   ],
   "source": [
    "np.percentile(a,[25,50,75],axis=1)"
   ]
  },
  {
   "cell_type": "markdown",
   "id": "34bd3f64",
   "metadata": {},
   "source": [
    "# 加权平均数 average()  weights"
   ]
  },
  {
   "cell_type": "code",
   "execution_count": 38,
   "id": "8540b6cd",
   "metadata": {},
   "outputs": [],
   "source": [
    "x = np.round(np.random.rand(16).reshape(4,4)*10)"
   ]
  },
  {
   "cell_type": "code",
   "execution_count": 39,
   "id": "53babad9",
   "metadata": {},
   "outputs": [
    {
     "data": {
      "text/plain": [
       "array([[ 9.,  3.,  1.,  1.],\n",
       "       [ 2.,  4.,  9.,  4.],\n",
       "       [ 9., 10.,  4.,  7.],\n",
       "       [ 5.,  7.,  6.,  5.]])"
      ]
     },
     "execution_count": 39,
     "metadata": {},
     "output_type": "execute_result"
    }
   ],
   "source": [
    "x"
   ]
  },
  {
   "cell_type": "code",
   "execution_count": 40,
   "id": "04d128e0",
   "metadata": {},
   "outputs": [
    {
     "data": {
      "text/plain": [
       "5.375"
      ]
     },
     "execution_count": 40,
     "metadata": {},
     "output_type": "execute_result"
    }
   ],
   "source": [
    "np.average(x)"
   ]
  },
  {
   "cell_type": "code",
   "execution_count": 41,
   "id": "262ab96b",
   "metadata": {},
   "outputs": [
    {
     "data": {
      "text/plain": [
       "array([6.25, 6.  , 5.  , 4.25])"
      ]
     },
     "execution_count": 41,
     "metadata": {},
     "output_type": "execute_result"
    }
   ],
   "source": [
    "np.average(x,axis=0)"
   ]
  },
  {
   "cell_type": "code",
   "execution_count": 42,
   "id": "a286579c",
   "metadata": {},
   "outputs": [
    {
     "data": {
      "text/plain": [
       "array([3.5 , 4.75, 7.5 , 5.75])"
      ]
     },
     "execution_count": 42,
     "metadata": {},
     "output_type": "execute_result"
    }
   ],
   "source": [
    "np.average(x,axis=1)"
   ]
  },
  {
   "cell_type": "code",
   "execution_count": 43,
   "id": "115a641e",
   "metadata": {},
   "outputs": [],
   "source": [
    "weights = np.round(np.random.rand(16).reshape(4,4)*10,2)"
   ]
  },
  {
   "cell_type": "code",
   "execution_count": 44,
   "id": "f0d871a2",
   "metadata": {},
   "outputs": [
    {
     "data": {
      "text/plain": [
       "array([[3.13, 9.24, 0.43, 7.67],\n",
       "       [2.21, 4.27, 8.07, 7.62],\n",
       "       [3.7 , 0.09, 0.75, 4.86],\n",
       "       [1.  , 4.73, 1.9 , 2.18]])"
      ]
     },
     "execution_count": 44,
     "metadata": {},
     "output_type": "execute_result"
    }
   ],
   "source": [
    "weights"
   ]
  },
  {
   "cell_type": "markdown",
   "id": "da86d725",
   "metadata": {},
   "source": [
    "# weighted average"
   ]
  },
  {
   "cell_type": "code",
   "execution_count": 48,
   "id": "bf5d6ec7",
   "metadata": {},
   "outputs": [
    {
     "data": {
      "text/plain": [
       "5.18"
      ]
     },
     "execution_count": 48,
     "metadata": {},
     "output_type": "execute_result"
    }
   ],
   "source": [
    "np.round(np.average(x,weights=weights),2)"
   ]
  },
  {
   "cell_type": "code",
   "execution_count": 49,
   "id": "9f85de51",
   "metadata": {},
   "outputs": [
    {
     "data": {
      "text/plain": [
       "array([7.06, 4.3 , 7.84, 3.72])"
      ]
     },
     "execution_count": 49,
     "metadata": {},
     "output_type": "execute_result"
    }
   ],
   "source": [
    "np.round(np.average(x,axis=0,weights=weights),2)"
   ]
  },
  {
   "cell_type": "code",
   "execution_count": 50,
   "id": "ee20d96a",
   "metadata": {},
   "outputs": [
    {
     "data": {
      "text/plain": [
       "array([3.13, 5.62, 7.58, 6.16])"
      ]
     },
     "execution_count": 50,
     "metadata": {},
     "output_type": "execute_result"
    }
   ],
   "source": [
    "np.round(np.average(x,axis=1,weights=weights),2)"
   ]
  },
  {
   "cell_type": "markdown",
   "id": "b86afdff",
   "metadata": {},
   "source": [
    "# variance and standard_deviation"
   ]
  },
  {
   "cell_type": "code",
   "execution_count": 52,
   "id": "aaf0eaeb",
   "metadata": {},
   "outputs": [
    {
     "data": {
      "text/plain": [
       "array([[ 9.,  3.,  1.,  1.],\n",
       "       [ 2.,  4.,  9.,  4.],\n",
       "       [ 9., 10.,  4.,  7.],\n",
       "       [ 5.,  7.,  6.,  5.]])"
      ]
     },
     "execution_count": 52,
     "metadata": {},
     "output_type": "execute_result"
    }
   ],
   "source": [
    "x"
   ]
  },
  {
   "cell_type": "code",
   "execution_count": 53,
   "id": "5bb5a5ba",
   "metadata": {},
   "outputs": [
    {
     "data": {
      "text/plain": [
       "7.984375"
      ]
     },
     "execution_count": 53,
     "metadata": {},
     "output_type": "execute_result"
    }
   ],
   "source": [
    "np.var(x)"
   ]
  },
  {
   "cell_type": "code",
   "execution_count": 54,
   "id": "68cd00a3",
   "metadata": {},
   "outputs": [
    {
     "data": {
      "text/plain": [
       "array([8.6875, 7.5   , 8.5   , 4.6875])"
      ]
     },
     "execution_count": 54,
     "metadata": {},
     "output_type": "execute_result"
    }
   ],
   "source": [
    "np.var(x,axis=0)"
   ]
  },
  {
   "cell_type": "code",
   "execution_count": 55,
   "id": "9a4d9e79",
   "metadata": {},
   "outputs": [
    {
     "data": {
      "text/plain": [
       "array([10.75  ,  6.6875,  5.25  ,  0.6875])"
      ]
     },
     "execution_count": 55,
     "metadata": {},
     "output_type": "execute_result"
    }
   ],
   "source": [
    "np.var(x,axis=1)"
   ]
  },
  {
   "cell_type": "code",
   "execution_count": 56,
   "id": "a18ebfc0",
   "metadata": {},
   "outputs": [
    {
     "data": {
      "text/plain": [
       "2.8256636388643286"
      ]
     },
     "execution_count": 56,
     "metadata": {},
     "output_type": "execute_result"
    }
   ],
   "source": [
    "np.std(x)"
   ]
  },
  {
   "cell_type": "code",
   "execution_count": 57,
   "id": "4d32733b",
   "metadata": {},
   "outputs": [
    {
     "data": {
      "text/plain": [
       "array([2.94745653, 2.73861279, 2.91547595, 2.16506351])"
      ]
     },
     "execution_count": 57,
     "metadata": {},
     "output_type": "execute_result"
    }
   ],
   "source": [
    "np.std(x,axis=0)"
   ]
  },
  {
   "cell_type": "code",
   "execution_count": 58,
   "id": "8e6a9585",
   "metadata": {},
   "outputs": [
    {
     "data": {
      "text/plain": [
       "array([3.27871926, 2.58602011, 2.29128785, 0.8291562 ])"
      ]
     },
     "execution_count": 58,
     "metadata": {},
     "output_type": "execute_result"
    }
   ],
   "source": [
    "np.std(x,axis=1)"
   ]
  },
  {
   "cell_type": "code",
   "execution_count": null,
   "id": "8be78b32",
   "metadata": {},
   "outputs": [],
   "source": []
  }
 ],
 "metadata": {
  "kernelspec": {
   "display_name": "Python 3 (ipykernel)",
   "language": "python",
   "name": "python3"
  },
  "language_info": {
   "codemirror_mode": {
    "name": "ipython",
    "version": 3
   },
   "file_extension": ".py",
   "mimetype": "text/x-python",
   "name": "python",
   "nbconvert_exporter": "python",
   "pygments_lexer": "ipython3",
   "version": "3.9.13"
  }
 },
 "nbformat": 4,
 "nbformat_minor": 5
}
