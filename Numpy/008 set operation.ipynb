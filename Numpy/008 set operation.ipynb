{
 "cells": [
  {
   "cell_type": "code",
   "execution_count": 1,
   "id": "20ec7354",
   "metadata": {},
   "outputs": [],
   "source": [
    "import numpy as np"
   ]
  },
  {
   "cell_type": "code",
   "execution_count": 2,
   "id": "bdec7bd3",
   "metadata": {},
   "outputs": [],
   "source": [
    "a = np.array([1,2,3,2,3,1,2,3,4,3,2,3,4,3,4,6,8,9,8,67,8,6])"
   ]
  },
  {
   "cell_type": "code",
   "execution_count": 3,
   "id": "8b4490f8",
   "metadata": {},
   "outputs": [
    {
     "data": {
      "text/plain": [
       "array([ 1,  2,  3,  2,  3,  1,  2,  3,  4,  3,  2,  3,  4,  3,  4,  6,  8,\n",
       "        9,  8, 67,  8,  6])"
      ]
     },
     "execution_count": 3,
     "metadata": {},
     "output_type": "execute_result"
    }
   ],
   "source": [
    "a"
   ]
  },
  {
   "cell_type": "markdown",
   "id": "0ece4c8d",
   "metadata": {},
   "source": [
    "## np.unique()"
   ]
  },
  {
   "cell_type": "code",
   "execution_count": 4,
   "id": "d4d961cd",
   "metadata": {},
   "outputs": [
    {
     "data": {
      "text/plain": [
       "array([ 1,  2,  3,  4,  6,  8,  9, 67])"
      ]
     },
     "execution_count": 4,
     "metadata": {},
     "output_type": "execute_result"
    }
   ],
   "source": [
    "np.unique(a)"
   ]
  },
  {
   "cell_type": "code",
   "execution_count": 5,
   "id": "66007498",
   "metadata": {},
   "outputs": [],
   "source": [
    "u, index = np.unique(a, return_index=True)"
   ]
  },
  {
   "cell_type": "code",
   "execution_count": 6,
   "id": "d5e75135",
   "metadata": {},
   "outputs": [
    {
     "name": "stdout",
     "output_type": "stream",
     "text": [
      "[ 1  2  3  4  6  8  9 67] \n",
      " [ 0  1  2  8 15 16 17 19]\n"
     ]
    }
   ],
   "source": [
    "print(u,\"\\n\",index)"
   ]
  },
  {
   "cell_type": "code",
   "execution_count": 7,
   "id": "d9502997",
   "metadata": {},
   "outputs": [],
   "source": [
    "u , counts = np.unique(a,return_counts=True)"
   ]
  },
  {
   "cell_type": "code",
   "execution_count": 8,
   "id": "1c867c27",
   "metadata": {},
   "outputs": [
    {
     "name": "stdout",
     "output_type": "stream",
     "text": [
      "[ 1  2  3  4  6  8  9 67] \n",
      " [2 4 6 3 2 3 1 1]\n"
     ]
    }
   ],
   "source": [
    "print(u,\"\\n\",counts)"
   ]
  },
  {
   "cell_type": "code",
   "execution_count": 11,
   "id": "40b26fe2",
   "metadata": {},
   "outputs": [],
   "source": [
    "u,index = np.unique(a, return_inverse=True)"
   ]
  },
  {
   "cell_type": "code",
   "execution_count": 12,
   "id": "5cdd3bb8",
   "metadata": {},
   "outputs": [
    {
     "name": "stdout",
     "output_type": "stream",
     "text": [
      "[ 1  2  3  4  6  8  9 67] \n",
      "\n",
      "[0 1 2 1 2 0 1 2 3 2 1 2 3 2 3 4 5 6 5 7 5 4] \n",
      "\n",
      "[ 1  2  3  2  3  1  2  3  4  3  2  3  4  3  4  6  8  9  8 67  8  6] \n",
      "\n"
     ]
    }
   ],
   "source": [
    "print(u,\"\\n\")\n",
    "print(index,\"\\n\")\n",
    "print(u[index],\"\\n\")"
   ]
  },
  {
   "cell_type": "markdown",
   "id": "080e1891",
   "metadata": {},
   "source": [
    "## np.in1d()  check if items in set A is also in set B"
   ]
  },
  {
   "cell_type": "code",
   "execution_count": 13,
   "id": "fb3bce65",
   "metadata": {},
   "outputs": [],
   "source": [
    "A = np.array([1,2,3,4,5,6,7,8,9,0,9,8,7,6,5,4,3,2,1])\n",
    "B = np.array([1,2,3])"
   ]
  },
  {
   "cell_type": "code",
   "execution_count": 14,
   "id": "ddf11a91",
   "metadata": {},
   "outputs": [
    {
     "data": {
      "text/plain": [
       "array([ True,  True,  True, False, False, False, False, False, False,\n",
       "       False, False, False, False, False, False, False,  True,  True,\n",
       "        True])"
      ]
     },
     "execution_count": 14,
     "metadata": {},
     "output_type": "execute_result"
    }
   ],
   "source": [
    "np.in1d(A,B)"
   ]
  },
  {
   "cell_type": "markdown",
   "id": "90b23a02",
   "metadata": {},
   "source": [
    "## np.union1d()"
   ]
  },
  {
   "cell_type": "code",
   "execution_count": 15,
   "id": "17bfa5d8",
   "metadata": {},
   "outputs": [
    {
     "data": {
      "text/plain": [
       "array([0, 1, 2, 3, 4, 5, 6, 7, 8, 9])"
      ]
     },
     "execution_count": 15,
     "metadata": {},
     "output_type": "execute_result"
    }
   ],
   "source": [
    "np.union1d(A,B)"
   ]
  },
  {
   "cell_type": "markdown",
   "id": "4683fb41",
   "metadata": {},
   "source": [
    "## np.intersect1d"
   ]
  },
  {
   "cell_type": "code",
   "execution_count": 16,
   "id": "3e48f104",
   "metadata": {},
   "outputs": [
    {
     "data": {
      "text/plain": [
       "array([1, 2, 3])"
      ]
     },
     "execution_count": 16,
     "metadata": {},
     "output_type": "execute_result"
    }
   ],
   "source": [
    "np.intersect1d(A,B)"
   ]
  },
  {
   "cell_type": "markdown",
   "id": "90f7516a",
   "metadata": {},
   "source": [
    "# np.setdiff1d()"
   ]
  },
  {
   "cell_type": "code",
   "execution_count": 17,
   "id": "b26bfe11",
   "metadata": {},
   "outputs": [
    {
     "data": {
      "text/plain": [
       "array([0, 4, 5, 6, 7, 8, 9])"
      ]
     },
     "execution_count": 17,
     "metadata": {},
     "output_type": "execute_result"
    }
   ],
   "source": [
    "np.setdiff1d(A,B)"
   ]
  },
  {
   "cell_type": "markdown",
   "id": "ee2222de",
   "metadata": {},
   "source": [
    "## np.setxor1d() find unique elements in each set"
   ]
  },
  {
   "cell_type": "code",
   "execution_count": 18,
   "id": "f4d87b00",
   "metadata": {},
   "outputs": [],
   "source": [
    "a = np.array([1,2,3,4,5])\n",
    "b = np.array([4,5,6,7,8])\n"
   ]
  },
  {
   "cell_type": "code",
   "execution_count": 19,
   "id": "12b79ef4",
   "metadata": {},
   "outputs": [
    {
     "data": {
      "text/plain": [
       "array([1, 2, 3, 6, 7, 8])"
      ]
     },
     "execution_count": 19,
     "metadata": {},
     "output_type": "execute_result"
    }
   ],
   "source": [
    "np.setxor1d(a,b)"
   ]
  },
  {
   "cell_type": "code",
   "execution_count": null,
   "id": "1536d290",
   "metadata": {},
   "outputs": [],
   "source": []
  }
 ],
 "metadata": {
  "kernelspec": {
   "display_name": "Python 3 (ipykernel)",
   "language": "python",
   "name": "python3"
  },
  "language_info": {
   "codemirror_mode": {
    "name": "ipython",
    "version": 3
   },
   "file_extension": ".py",
   "mimetype": "text/x-python",
   "name": "python",
   "nbconvert_exporter": "python",
   "pygments_lexer": "ipython3",
   "version": "3.9.13"
  }
 },
 "nbformat": 4,
 "nbformat_minor": 5
}
