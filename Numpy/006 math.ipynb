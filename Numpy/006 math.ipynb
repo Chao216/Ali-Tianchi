{
 "cells": [
  {
   "cell_type": "code",
   "execution_count": 2,
   "id": "8d19c2ed",
   "metadata": {},
   "outputs": [],
   "source": [
    "import numpy as np"
   ]
  },
  {
   "cell_type": "markdown",
   "id": "bb0af808",
   "metadata": {},
   "source": [
    "# broadcasting"
   ]
  },
  {
   "cell_type": "code",
   "execution_count": 3,
   "id": "1b232dc5",
   "metadata": {},
   "outputs": [],
   "source": [
    "a =np.arange(4)"
   ]
  },
  {
   "cell_type": "code",
   "execution_count": 4,
   "id": "96a48c5a",
   "metadata": {},
   "outputs": [
    {
     "data": {
      "text/plain": [
       "array([0, 1, 2, 3])"
      ]
     },
     "execution_count": 4,
     "metadata": {},
     "output_type": "execute_result"
    }
   ],
   "source": [
    "a"
   ]
  },
  {
   "cell_type": "code",
   "execution_count": 5,
   "id": "c62b3273",
   "metadata": {},
   "outputs": [],
   "source": [
    "b = np.ones((3,4))"
   ]
  },
  {
   "cell_type": "code",
   "execution_count": 6,
   "id": "332eddd3",
   "metadata": {},
   "outputs": [
    {
     "data": {
      "text/plain": [
       "array([[1., 1., 1., 1.],\n",
       "       [1., 1., 1., 1.],\n",
       "       [1., 1., 1., 1.]])"
      ]
     },
     "execution_count": 6,
     "metadata": {},
     "output_type": "execute_result"
    }
   ],
   "source": [
    "b"
   ]
  },
  {
   "cell_type": "code",
   "execution_count": 6,
   "id": "cb8a7396",
   "metadata": {},
   "outputs": [],
   "source": [
    "c = a + b"
   ]
  },
  {
   "cell_type": "code",
   "execution_count": 7,
   "id": "7aa052e0",
   "metadata": {},
   "outputs": [
    {
     "data": {
      "text/plain": [
       "array([[1., 2., 3., 4.],\n",
       "       [1., 2., 3., 4.],\n",
       "       [1., 2., 3., 4.]])"
      ]
     },
     "execution_count": 7,
     "metadata": {},
     "output_type": "execute_result"
    }
   ],
   "source": [
    "c"
   ]
  },
  {
   "cell_type": "markdown",
   "id": "70485062",
   "metadata": {},
   "source": [
    "# Arithmetic operation"
   ]
  },
  {
   "cell_type": "markdown",
   "id": "260c6992",
   "metadata": {},
   "source": [
    "### add"
   ]
  },
  {
   "cell_type": "code",
   "execution_count": 3,
   "id": "0725b5fe",
   "metadata": {},
   "outputs": [],
   "source": [
    "a = np.arange(1,5)"
   ]
  },
  {
   "cell_type": "code",
   "execution_count": 4,
   "id": "441405f8",
   "metadata": {},
   "outputs": [
    {
     "data": {
      "text/plain": [
       "array([1, 2, 3, 4])"
      ]
     },
     "execution_count": 4,
     "metadata": {},
     "output_type": "execute_result"
    }
   ],
   "source": [
    "a"
   ]
  },
  {
   "cell_type": "code",
   "execution_count": 5,
   "id": "cd04e3bc",
   "metadata": {},
   "outputs": [],
   "source": [
    "b = np.ones((3,4))"
   ]
  },
  {
   "cell_type": "code",
   "execution_count": 6,
   "id": "0db9135f",
   "metadata": {},
   "outputs": [
    {
     "data": {
      "text/plain": [
       "array([[1., 1., 1., 1.],\n",
       "       [1., 1., 1., 1.],\n",
       "       [1., 1., 1., 1.]])"
      ]
     },
     "execution_count": 6,
     "metadata": {},
     "output_type": "execute_result"
    }
   ],
   "source": [
    "b"
   ]
  },
  {
   "cell_type": "code",
   "execution_count": 7,
   "id": "3f2d7c01",
   "metadata": {},
   "outputs": [
    {
     "data": {
      "text/plain": [
       "array([[2., 3., 4., 5.],\n",
       "       [2., 3., 4., 5.],\n",
       "       [2., 3., 4., 5.]])"
      ]
     },
     "execution_count": 7,
     "metadata": {},
     "output_type": "execute_result"
    }
   ],
   "source": [
    "a+b"
   ]
  },
  {
   "cell_type": "code",
   "execution_count": 8,
   "id": "4bced4f9",
   "metadata": {},
   "outputs": [
    {
     "data": {
      "text/plain": [
       "array([[2., 3., 4., 5.],\n",
       "       [2., 3., 4., 5.],\n",
       "       [2., 3., 4., 5.]])"
      ]
     },
     "execution_count": 8,
     "metadata": {},
     "output_type": "execute_result"
    }
   ],
   "source": [
    "np.add(a,b)"
   ]
  },
  {
   "cell_type": "markdown",
   "id": "999eed72",
   "metadata": {},
   "source": [
    "### subtract"
   ]
  },
  {
   "cell_type": "code",
   "execution_count": 9,
   "id": "c27700aa",
   "metadata": {},
   "outputs": [
    {
     "data": {
      "text/plain": [
       "array([[0., 1., 2., 3.],\n",
       "       [0., 1., 2., 3.],\n",
       "       [0., 1., 2., 3.]])"
      ]
     },
     "execution_count": 9,
     "metadata": {},
     "output_type": "execute_result"
    }
   ],
   "source": [
    "a-b"
   ]
  },
  {
   "cell_type": "code",
   "execution_count": 10,
   "id": "82572019",
   "metadata": {},
   "outputs": [
    {
     "data": {
      "text/plain": [
       "array([[0., 1., 2., 3.],\n",
       "       [0., 1., 2., 3.],\n",
       "       [0., 1., 2., 3.]])"
      ]
     },
     "execution_count": 10,
     "metadata": {},
     "output_type": "execute_result"
    }
   ],
   "source": [
    "np.subtract(a,b)"
   ]
  },
  {
   "cell_type": "markdown",
   "id": "aebe8e44",
   "metadata": {},
   "source": [
    "### multiply"
   ]
  },
  {
   "cell_type": "code",
   "execution_count": 11,
   "id": "1727af8d",
   "metadata": {},
   "outputs": [
    {
     "data": {
      "text/plain": [
       "array([[1., 2., 3., 4.],\n",
       "       [1., 2., 3., 4.],\n",
       "       [1., 2., 3., 4.]])"
      ]
     },
     "execution_count": 11,
     "metadata": {},
     "output_type": "execute_result"
    }
   ],
   "source": [
    "a * b"
   ]
  },
  {
   "cell_type": "code",
   "execution_count": 12,
   "id": "5f75ae1c",
   "metadata": {},
   "outputs": [
    {
     "data": {
      "text/plain": [
       "array([[1., 2., 3., 4.],\n",
       "       [1., 2., 3., 4.],\n",
       "       [1., 2., 3., 4.]])"
      ]
     },
     "execution_count": 12,
     "metadata": {},
     "output_type": "execute_result"
    }
   ],
   "source": [
    "np.multiply(a,b)"
   ]
  },
  {
   "cell_type": "markdown",
   "id": "f275bba2",
   "metadata": {},
   "source": [
    "### divide"
   ]
  },
  {
   "cell_type": "code",
   "execution_count": 13,
   "id": "dfc51fb0",
   "metadata": {},
   "outputs": [
    {
     "data": {
      "text/plain": [
       "array([[1., 2., 3., 4.],\n",
       "       [1., 2., 3., 4.],\n",
       "       [1., 2., 3., 4.]])"
      ]
     },
     "execution_count": 13,
     "metadata": {},
     "output_type": "execute_result"
    }
   ],
   "source": [
    "a / b"
   ]
  },
  {
   "cell_type": "code",
   "execution_count": 14,
   "id": "be0cd8de",
   "metadata": {},
   "outputs": [
    {
     "data": {
      "text/plain": [
       "array([[1., 2., 3., 4.],\n",
       "       [1., 2., 3., 4.],\n",
       "       [1., 2., 3., 4.]])"
      ]
     },
     "execution_count": 14,
     "metadata": {},
     "output_type": "execute_result"
    }
   ],
   "source": [
    "np.divide(a,b)"
   ]
  },
  {
   "cell_type": "markdown",
   "id": "6133ae2a",
   "metadata": {},
   "source": [
    "### floor divide"
   ]
  },
  {
   "cell_type": "code",
   "execution_count": 15,
   "id": "29ff2647",
   "metadata": {},
   "outputs": [
    {
     "data": {
      "text/plain": [
       "array([[1., 2., 3., 4.],\n",
       "       [1., 2., 3., 4.],\n",
       "       [1., 2., 3., 4.]])"
      ]
     },
     "execution_count": 15,
     "metadata": {},
     "output_type": "execute_result"
    }
   ],
   "source": [
    "a//b"
   ]
  },
  {
   "cell_type": "code",
   "execution_count": 16,
   "id": "216fa992",
   "metadata": {},
   "outputs": [
    {
     "data": {
      "text/plain": [
       "array([[1., 2., 3., 4.],\n",
       "       [1., 2., 3., 4.],\n",
       "       [1., 2., 3., 4.]])"
      ]
     },
     "execution_count": 16,
     "metadata": {},
     "output_type": "execute_result"
    }
   ],
   "source": [
    "np.floor_divide(a,b)"
   ]
  },
  {
   "cell_type": "markdown",
   "id": "e40a7223",
   "metadata": {},
   "source": [
    "### power"
   ]
  },
  {
   "cell_type": "code",
   "execution_count": 7,
   "id": "fba40bcb",
   "metadata": {},
   "outputs": [],
   "source": [
    "a = np.array([1,2,3,4])\n",
    "b = np.array([2,4,3,1])"
   ]
  },
  {
   "cell_type": "code",
   "execution_count": 8,
   "id": "05bca97a",
   "metadata": {},
   "outputs": [
    {
     "data": {
      "text/plain": [
       "array([ 1, 16, 27,  4], dtype=int32)"
      ]
     },
     "execution_count": 8,
     "metadata": {},
     "output_type": "execute_result"
    }
   ],
   "source": [
    "a ** b"
   ]
  },
  {
   "cell_type": "code",
   "execution_count": 9,
   "id": "ed47518c",
   "metadata": {},
   "outputs": [
    {
     "data": {
      "text/plain": [
       "array([ 1, 16, 27,  4], dtype=int32)"
      ]
     },
     "execution_count": 9,
     "metadata": {},
     "output_type": "execute_result"
    }
   ],
   "source": [
    "np.power(a,b)"
   ]
  },
  {
   "cell_type": "markdown",
   "id": "9608db42",
   "metadata": {},
   "source": [
    "### square sqrt"
   ]
  },
  {
   "cell_type": "code",
   "execution_count": 10,
   "id": "ce6e6bb7",
   "metadata": {},
   "outputs": [],
   "source": [
    "a = np.array([1,4,9,16,25,36,49,64])"
   ]
  },
  {
   "cell_type": "code",
   "execution_count": 11,
   "id": "869cd0fd",
   "metadata": {},
   "outputs": [
    {
     "data": {
      "text/plain": [
       "array([1., 2., 3., 4., 5., 6., 7., 8.])"
      ]
     },
     "execution_count": 11,
     "metadata": {},
     "output_type": "execute_result"
    }
   ],
   "source": [
    "np.sqrt(a)"
   ]
  },
  {
   "cell_type": "code",
   "execution_count": 12,
   "id": "821843ba",
   "metadata": {},
   "outputs": [
    {
     "data": {
      "text/plain": [
       "array([   1,   16,   81,  256,  625, 1296, 2401, 4096], dtype=int32)"
      ]
     },
     "execution_count": 12,
     "metadata": {},
     "output_type": "execute_result"
    }
   ],
   "source": [
    "np.square(a)"
   ]
  },
  {
   "cell_type": "markdown",
   "id": "239fcb33",
   "metadata": {},
   "source": [
    "### 三角函数"
   ]
  },
  {
   "cell_type": "code",
   "execution_count": 13,
   "id": "51446e0c",
   "metadata": {},
   "outputs": [],
   "source": [
    "x = np.linspace(0,2*np.pi,10)"
   ]
  },
  {
   "cell_type": "code",
   "execution_count": 14,
   "id": "ffe4ec84",
   "metadata": {},
   "outputs": [
    {
     "data": {
      "text/plain": [
       "array([0.        , 0.6981317 , 1.3962634 , 2.0943951 , 2.7925268 ,\n",
       "       3.4906585 , 4.1887902 , 4.88692191, 5.58505361, 6.28318531])"
      ]
     },
     "execution_count": 14,
     "metadata": {},
     "output_type": "execute_result"
    }
   ],
   "source": [
    "x"
   ]
  },
  {
   "cell_type": "code",
   "execution_count": 15,
   "id": "e0363923",
   "metadata": {},
   "outputs": [
    {
     "data": {
      "text/plain": [
       "array([ 0.00000000e+00,  6.42787610e-01,  9.84807753e-01,  8.66025404e-01,\n",
       "        3.42020143e-01, -3.42020143e-01, -8.66025404e-01, -9.84807753e-01,\n",
       "       -6.42787610e-01, -2.44929360e-16])"
      ]
     },
     "execution_count": 15,
     "metadata": {},
     "output_type": "execute_result"
    }
   ],
   "source": [
    "np.sin(x)"
   ]
  },
  {
   "cell_type": "code",
   "execution_count": 16,
   "id": "32d5af0e",
   "metadata": {},
   "outputs": [
    {
     "data": {
      "text/plain": [
       "array([ 1.        ,  0.76604444,  0.17364818, -0.5       , -0.93969262,\n",
       "       -0.93969262, -0.5       ,  0.17364818,  0.76604444,  1.        ])"
      ]
     },
     "execution_count": 16,
     "metadata": {},
     "output_type": "execute_result"
    }
   ],
   "source": [
    "np.cos(x)"
   ]
  },
  {
   "cell_type": "code",
   "execution_count": 17,
   "id": "a0b820ca",
   "metadata": {},
   "outputs": [
    {
     "data": {
      "text/plain": [
       "array([ 0.00000000e+00,  8.39099631e-01,  5.67128182e+00, -1.73205081e+00,\n",
       "       -3.63970234e-01,  3.63970234e-01,  1.73205081e+00, -5.67128182e+00,\n",
       "       -8.39099631e-01, -2.44929360e-16])"
      ]
     },
     "execution_count": 17,
     "metadata": {},
     "output_type": "execute_result"
    }
   ],
   "source": [
    "np.tan(x)"
   ]
  },
  {
   "cell_type": "code",
   "execution_count": 18,
   "id": "11114f71",
   "metadata": {},
   "outputs": [
    {
     "data": {
      "text/plain": [
       "array([ 0.00000000e+00,  6.98131701e-01,  1.39626340e+00,  1.04719755e+00,\n",
       "        3.49065850e-01, -3.49065850e-01, -1.04719755e+00, -1.39626340e+00,\n",
       "       -6.98131701e-01, -2.44929360e-16])"
      ]
     },
     "execution_count": 18,
     "metadata": {},
     "output_type": "execute_result"
    }
   ],
   "source": [
    "np.arcsin(np.sin(x))"
   ]
  },
  {
   "cell_type": "code",
   "execution_count": 20,
   "id": "82d6b5a2",
   "metadata": {},
   "outputs": [
    {
     "data": {
      "text/plain": [
       "array([0.       , 0.6981317, 1.3962634, 2.0943951, 2.7925268, 2.7925268,\n",
       "       2.0943951, 1.3962634, 0.6981317, 0.       ])"
      ]
     },
     "execution_count": 20,
     "metadata": {},
     "output_type": "execute_result"
    }
   ],
   "source": [
    "np.arccos(np.cos(x))"
   ]
  },
  {
   "cell_type": "code",
   "execution_count": 21,
   "id": "01a5282a",
   "metadata": {},
   "outputs": [
    {
     "data": {
      "text/plain": [
       "array([ 0.00000000e+00,  6.98131701e-01,  1.39626340e+00, -1.04719755e+00,\n",
       "       -3.49065850e-01,  3.49065850e-01,  1.04719755e+00, -1.39626340e+00,\n",
       "       -6.98131701e-01, -2.44929360e-16])"
      ]
     },
     "execution_count": 21,
     "metadata": {},
     "output_type": "execute_result"
    }
   ],
   "source": [
    "np.arctan(np.tan(x))"
   ]
  },
  {
   "cell_type": "markdown",
   "id": "80a9591c",
   "metadata": {},
   "source": [
    "### exponential and logrithm"
   ]
  },
  {
   "cell_type": "code",
   "execution_count": 22,
   "id": "e5c46cdf",
   "metadata": {},
   "outputs": [],
   "source": [
    "a = np.arange(1,11)"
   ]
  },
  {
   "cell_type": "code",
   "execution_count": 23,
   "id": "fa580a11",
   "metadata": {},
   "outputs": [
    {
     "data": {
      "text/plain": [
       "array([ 1,  2,  3,  4,  5,  6,  7,  8,  9, 10])"
      ]
     },
     "execution_count": 23,
     "metadata": {},
     "output_type": "execute_result"
    }
   ],
   "source": [
    "a"
   ]
  },
  {
   "cell_type": "code",
   "execution_count": 24,
   "id": "0eb3c497",
   "metadata": {},
   "outputs": [
    {
     "data": {
      "text/plain": [
       "array([   2.,    4.,    8.,   16.,   32.,   64.,  128.,  256.,  512.,\n",
       "       1024.])"
      ]
     },
     "execution_count": 24,
     "metadata": {},
     "output_type": "execute_result"
    }
   ],
   "source": [
    "np.exp2(a)"
   ]
  },
  {
   "cell_type": "code",
   "execution_count": 27,
   "id": "e996eab0",
   "metadata": {},
   "outputs": [],
   "source": [
    "b= np.exp(a)"
   ]
  },
  {
   "cell_type": "code",
   "execution_count": 28,
   "id": "378462b4",
   "metadata": {},
   "outputs": [
    {
     "data": {
      "text/plain": [
       "array([2.71828183e+00, 7.38905610e+00, 2.00855369e+01, 5.45981500e+01,\n",
       "       1.48413159e+02, 4.03428793e+02, 1.09663316e+03, 2.98095799e+03,\n",
       "       8.10308393e+03, 2.20264658e+04])"
      ]
     },
     "execution_count": 28,
     "metadata": {},
     "output_type": "execute_result"
    }
   ],
   "source": [
    "np.exp(a)"
   ]
  },
  {
   "cell_type": "code",
   "execution_count": 29,
   "id": "e1662698",
   "metadata": {},
   "outputs": [],
   "source": [
    "c = np.exp2(a)"
   ]
  },
  {
   "cell_type": "code",
   "execution_count": 30,
   "id": "e7ee292b",
   "metadata": {},
   "outputs": [
    {
     "data": {
      "text/plain": [
       "array([ 1.,  2.,  3.,  4.,  5.,  6.,  7.,  8.,  9., 10.])"
      ]
     },
     "execution_count": 30,
     "metadata": {},
     "output_type": "execute_result"
    }
   ],
   "source": [
    "np.log(b)"
   ]
  },
  {
   "cell_type": "code",
   "execution_count": 31,
   "id": "4b56358c",
   "metadata": {},
   "outputs": [
    {
     "data": {
      "text/plain": [
       "array([ 1.,  2.,  3.,  4.,  5.,  6.,  7.,  8.,  9., 10.])"
      ]
     },
     "execution_count": 31,
     "metadata": {},
     "output_type": "execute_result"
    }
   ],
   "source": [
    "np.log2(c)"
   ]
  },
  {
   "cell_type": "markdown",
   "id": "041d8e70",
   "metadata": {},
   "source": [
    "## sum cumsum prod cumprod"
   ]
  },
  {
   "cell_type": "code",
   "execution_count": 32,
   "id": "68c74d17",
   "metadata": {},
   "outputs": [],
   "source": [
    "a = np.arange(1,26).reshape(5,5)"
   ]
  },
  {
   "cell_type": "code",
   "execution_count": 33,
   "id": "c69caf79",
   "metadata": {},
   "outputs": [
    {
     "data": {
      "text/plain": [
       "array([[ 1,  2,  3,  4,  5],\n",
       "       [ 6,  7,  8,  9, 10],\n",
       "       [11, 12, 13, 14, 15],\n",
       "       [16, 17, 18, 19, 20],\n",
       "       [21, 22, 23, 24, 25]])"
      ]
     },
     "execution_count": 33,
     "metadata": {},
     "output_type": "execute_result"
    }
   ],
   "source": [
    "a"
   ]
  },
  {
   "cell_type": "code",
   "execution_count": 34,
   "id": "08585c70",
   "metadata": {},
   "outputs": [
    {
     "data": {
      "text/plain": [
       "325"
      ]
     },
     "execution_count": 34,
     "metadata": {},
     "output_type": "execute_result"
    }
   ],
   "source": [
    "np.sum(a)"
   ]
  },
  {
   "cell_type": "code",
   "execution_count": 35,
   "id": "38e5159a",
   "metadata": {},
   "outputs": [
    {
     "data": {
      "text/plain": [
       "array([55, 60, 65, 70, 75])"
      ]
     },
     "execution_count": 35,
     "metadata": {},
     "output_type": "execute_result"
    }
   ],
   "source": [
    "np.sum(a,axis=0)"
   ]
  },
  {
   "cell_type": "code",
   "execution_count": 36,
   "id": "9c922fee",
   "metadata": {},
   "outputs": [
    {
     "data": {
      "text/plain": [
       "array([ 15,  40,  65,  90, 115])"
      ]
     },
     "execution_count": 36,
     "metadata": {},
     "output_type": "execute_result"
    }
   ],
   "source": [
    "np.sum(a,axis=1)"
   ]
  },
  {
   "cell_type": "code",
   "execution_count": 37,
   "id": "0d60da80",
   "metadata": {},
   "outputs": [
    {
     "data": {
      "text/plain": [
       "array([  1,   3,   6,  10,  15,  21,  28,  36,  45,  55,  66,  78,  91,\n",
       "       105, 120, 136, 153, 171, 190, 210, 231, 253, 276, 300, 325],\n",
       "      dtype=int32)"
      ]
     },
     "execution_count": 37,
     "metadata": {},
     "output_type": "execute_result"
    }
   ],
   "source": [
    "np.cumsum(a)"
   ]
  },
  {
   "cell_type": "code",
   "execution_count": 38,
   "id": "5be7f46f",
   "metadata": {},
   "outputs": [
    {
     "data": {
      "text/plain": [
       "array([[ 1,  2,  3,  4,  5],\n",
       "       [ 7,  9, 11, 13, 15],\n",
       "       [18, 21, 24, 27, 30],\n",
       "       [34, 38, 42, 46, 50],\n",
       "       [55, 60, 65, 70, 75]], dtype=int32)"
      ]
     },
     "execution_count": 38,
     "metadata": {},
     "output_type": "execute_result"
    }
   ],
   "source": [
    "np.cumsum(a,axis=0)"
   ]
  },
  {
   "cell_type": "code",
   "execution_count": 39,
   "id": "b2985bd0",
   "metadata": {},
   "outputs": [
    {
     "data": {
      "text/plain": [
       "array([[  1,   3,   6,  10,  15],\n",
       "       [  6,  13,  21,  30,  40],\n",
       "       [ 11,  23,  36,  50,  65],\n",
       "       [ 16,  33,  51,  70,  90],\n",
       "       [ 21,  43,  66,  90, 115]], dtype=int32)"
      ]
     },
     "execution_count": 39,
     "metadata": {},
     "output_type": "execute_result"
    }
   ],
   "source": [
    "np.cumsum(a,axis=1)"
   ]
  },
  {
   "cell_type": "code",
   "execution_count": 40,
   "id": "f31ee437",
   "metadata": {},
   "outputs": [
    {
     "data": {
      "text/plain": [
       "2076180480"
      ]
     },
     "execution_count": 40,
     "metadata": {},
     "output_type": "execute_result"
    }
   ],
   "source": [
    "np.prod(a)"
   ]
  },
  {
   "cell_type": "code",
   "execution_count": 41,
   "id": "6cb94cfa",
   "metadata": {},
   "outputs": [
    {
     "data": {
      "text/plain": [
       "array([ 22176,  62832, 129168, 229824, 375000])"
      ]
     },
     "execution_count": 41,
     "metadata": {},
     "output_type": "execute_result"
    }
   ],
   "source": [
    "np.prod(a,axis=0)"
   ]
  },
  {
   "cell_type": "code",
   "execution_count": 42,
   "id": "727cd9db",
   "metadata": {},
   "outputs": [
    {
     "data": {
      "text/plain": [
       "array([    120,   30240,  360360, 1860480, 6375600])"
      ]
     },
     "execution_count": 42,
     "metadata": {},
     "output_type": "execute_result"
    }
   ],
   "source": [
    "np.prod(a,axis=1)"
   ]
  },
  {
   "cell_type": "code",
   "execution_count": 43,
   "id": "c2bdb312",
   "metadata": {},
   "outputs": [
    {
     "data": {
      "text/plain": [
       "array([          1,           2,           6,          24,         120,\n",
       "               720,        5040,       40320,      362880,     3628800,\n",
       "          39916800,   479001600,  1932053504,  1278945280,  2004310016,\n",
       "        2004189184,  -288522240,  -898433024,   109641728, -2102132736,\n",
       "       -1195114496,  -522715136,   862453760,  -775946240,  2076180480],\n",
       "      dtype=int32)"
      ]
     },
     "execution_count": 43,
     "metadata": {},
     "output_type": "execute_result"
    }
   ],
   "source": [
    "np.cumprod(a)"
   ]
  },
  {
   "cell_type": "code",
   "execution_count": 44,
   "id": "317b0816",
   "metadata": {},
   "outputs": [
    {
     "data": {
      "text/plain": [
       "array([[     1,      2,      3,      4,      5],\n",
       "       [     6,     14,     24,     36,     50],\n",
       "       [    66,    168,    312,    504,    750],\n",
       "       [  1056,   2856,   5616,   9576,  15000],\n",
       "       [ 22176,  62832, 129168, 229824, 375000]], dtype=int32)"
      ]
     },
     "execution_count": 44,
     "metadata": {},
     "output_type": "execute_result"
    }
   ],
   "source": [
    "np.cumprod(a,axis=0)"
   ]
  },
  {
   "cell_type": "code",
   "execution_count": 45,
   "id": "09f014ba",
   "metadata": {},
   "outputs": [
    {
     "data": {
      "text/plain": [
       "array([[      1,       2,       6,      24,     120],\n",
       "       [      6,      42,     336,    3024,   30240],\n",
       "       [     11,     132,    1716,   24024,  360360],\n",
       "       [     16,     272,    4896,   93024, 1860480],\n",
       "       [     21,     462,   10626,  255024, 6375600]], dtype=int32)"
      ]
     },
     "execution_count": 45,
     "metadata": {},
     "output_type": "execute_result"
    }
   ],
   "source": [
    "np.cumprod(a,axis=1)"
   ]
  },
  {
   "cell_type": "markdown",
   "id": "f6350d44",
   "metadata": {},
   "source": [
    "### np.diff"
   ]
  },
  {
   "cell_type": "code",
   "execution_count": 46,
   "id": "bc87f3eb",
   "metadata": {},
   "outputs": [],
   "source": [
    "a = np.arange(1,17).reshape(4,4)"
   ]
  },
  {
   "cell_type": "code",
   "execution_count": 48,
   "id": "570a1d65",
   "metadata": {},
   "outputs": [
    {
     "data": {
      "text/plain": [
       "array([[ 1,  2,  3,  4],\n",
       "       [ 5,  6,  7,  8],\n",
       "       [ 9, 10, 11, 12],\n",
       "       [13, 14, 15, 16]])"
      ]
     },
     "execution_count": 48,
     "metadata": {},
     "output_type": "execute_result"
    }
   ],
   "source": [
    "a"
   ]
  },
  {
   "cell_type": "code",
   "execution_count": 47,
   "id": "e679b9dc",
   "metadata": {},
   "outputs": [
    {
     "data": {
      "text/plain": [
       "array([[1, 1, 1],\n",
       "       [1, 1, 1],\n",
       "       [1, 1, 1],\n",
       "       [1, 1, 1]])"
      ]
     },
     "execution_count": 47,
     "metadata": {},
     "output_type": "execute_result"
    }
   ],
   "source": [
    "np.diff(a)"
   ]
  },
  {
   "cell_type": "code",
   "execution_count": 49,
   "id": "090080be",
   "metadata": {},
   "outputs": [
    {
     "data": {
      "text/plain": [
       "array([[4, 4, 4, 4],\n",
       "       [4, 4, 4, 4],\n",
       "       [4, 4, 4, 4]])"
      ]
     },
     "execution_count": 49,
     "metadata": {},
     "output_type": "execute_result"
    }
   ],
   "source": [
    "np.diff(a,axis=0)"
   ]
  },
  {
   "cell_type": "code",
   "execution_count": 50,
   "id": "8cc8c926",
   "metadata": {},
   "outputs": [
    {
     "data": {
      "text/plain": [
       "array([[1, 1, 1],\n",
       "       [1, 1, 1],\n",
       "       [1, 1, 1],\n",
       "       [1, 1, 1]])"
      ]
     },
     "execution_count": 50,
     "metadata": {},
     "output_type": "execute_result"
    }
   ],
   "source": [
    "np.diff(a,axis=1)"
   ]
  },
  {
   "cell_type": "markdown",
   "id": "8ab61bda",
   "metadata": {},
   "source": [
    "### np.round()"
   ]
  },
  {
   "cell_type": "code",
   "execution_count": 53,
   "id": "751a96fb",
   "metadata": {},
   "outputs": [],
   "source": [
    "a = np.random.rand(3,3) * 10"
   ]
  },
  {
   "cell_type": "code",
   "execution_count": 54,
   "id": "f549f9b4",
   "metadata": {},
   "outputs": [
    {
     "data": {
      "text/plain": [
       "array([[6.18225936, 9.55835404, 3.23867826],\n",
       "       [8.16746463, 8.34145236, 5.81914739],\n",
       "       [0.71584634, 0.86572853, 8.4964908 ]])"
      ]
     },
     "execution_count": 54,
     "metadata": {},
     "output_type": "execute_result"
    }
   ],
   "source": [
    "a"
   ]
  },
  {
   "cell_type": "code",
   "execution_count": 55,
   "id": "af257f4f",
   "metadata": {},
   "outputs": [
    {
     "data": {
      "text/plain": [
       "array([[ 6., 10.,  3.],\n",
       "       [ 8.,  8.,  6.],\n",
       "       [ 1.,  1.,  8.]])"
      ]
     },
     "execution_count": 55,
     "metadata": {},
     "output_type": "execute_result"
    }
   ],
   "source": [
    "np.round(a)"
   ]
  },
  {
   "cell_type": "code",
   "execution_count": 56,
   "id": "dae904b2",
   "metadata": {},
   "outputs": [
    {
     "data": {
      "text/plain": [
       "array([[6.18, 9.56, 3.24],\n",
       "       [8.17, 8.34, 5.82],\n",
       "       [0.72, 0.87, 8.5 ]])"
      ]
     },
     "execution_count": 56,
     "metadata": {},
     "output_type": "execute_result"
    }
   ],
   "source": [
    "np.round(a, decimals=2)"
   ]
  },
  {
   "cell_type": "markdown",
   "id": "62d66860",
   "metadata": {},
   "source": [
    "### ceil and floor"
   ]
  },
  {
   "cell_type": "code",
   "execution_count": 57,
   "id": "af527e64",
   "metadata": {},
   "outputs": [
    {
     "data": {
      "text/plain": [
       "array([[ 7., 10.,  4.],\n",
       "       [ 9.,  9.,  6.],\n",
       "       [ 1.,  1.,  9.]])"
      ]
     },
     "execution_count": 57,
     "metadata": {},
     "output_type": "execute_result"
    }
   ],
   "source": [
    "np.ceil(a)"
   ]
  },
  {
   "cell_type": "code",
   "execution_count": 58,
   "id": "56397f02",
   "metadata": {},
   "outputs": [
    {
     "data": {
      "text/plain": [
       "array([[6., 9., 3.],\n",
       "       [8., 8., 5.],\n",
       "       [0., 0., 8.]])"
      ]
     },
     "execution_count": 58,
     "metadata": {},
     "output_type": "execute_result"
    }
   ],
   "source": [
    "np.floor(a)"
   ]
  },
  {
   "cell_type": "markdown",
   "id": "271d1368",
   "metadata": {},
   "source": [
    "## np.clip"
   ]
  },
  {
   "cell_type": "code",
   "execution_count": 63,
   "id": "ea740e69",
   "metadata": {},
   "outputs": [],
   "source": [
    "a = np.random.rand(5,5)*10"
   ]
  },
  {
   "cell_type": "code",
   "execution_count": 64,
   "id": "6591f37f",
   "metadata": {},
   "outputs": [],
   "source": [
    "a = np.round(a)"
   ]
  },
  {
   "cell_type": "code",
   "execution_count": 65,
   "id": "c33e4b0e",
   "metadata": {},
   "outputs": [
    {
     "data": {
      "text/plain": [
       "array([[5., 6., 6., 6., 8.],\n",
       "       [8., 5., 0., 1., 1.],\n",
       "       [8., 7., 5., 3., 4.],\n",
       "       [3., 8., 0., 4., 3.],\n",
       "       [7., 2., 8., 1., 1.]])"
      ]
     },
     "execution_count": 65,
     "metadata": {},
     "output_type": "execute_result"
    }
   ],
   "source": [
    "a"
   ]
  },
  {
   "cell_type": "code",
   "execution_count": 66,
   "id": "e86ae68b",
   "metadata": {},
   "outputs": [
    {
     "data": {
      "text/plain": [
       "array([[5., 6., 6., 6., 7.],\n",
       "       [7., 5., 3., 3., 3.],\n",
       "       [7., 7., 5., 3., 4.],\n",
       "       [3., 7., 3., 4., 3.],\n",
       "       [7., 3., 7., 3., 3.]])"
      ]
     },
     "execution_count": 66,
     "metadata": {},
     "output_type": "execute_result"
    }
   ],
   "source": [
    "np.clip(a, a_min=3,a_max=7)"
   ]
  },
  {
   "cell_type": "markdown",
   "id": "26b72d10",
   "metadata": {},
   "source": [
    "## np.clip  will replace values smaller than min with min, bigger than max with max"
   ]
  },
  {
   "cell_type": "markdown",
   "id": "7be3b86a",
   "metadata": {},
   "source": [
    "## np.absolute np.abs"
   ]
  },
  {
   "cell_type": "code",
   "execution_count": 67,
   "id": "455e3671",
   "metadata": {},
   "outputs": [],
   "source": [
    "a = np.array([0,10,-20,-8,7,3,-11,9,-3])"
   ]
  },
  {
   "cell_type": "code",
   "execution_count": 68,
   "id": "71647709",
   "metadata": {},
   "outputs": [
    {
     "data": {
      "text/plain": [
       "array([  0,  10, -20,  -8,   7,   3, -11,   9,  -3])"
      ]
     },
     "execution_count": 68,
     "metadata": {},
     "output_type": "execute_result"
    }
   ],
   "source": [
    "a"
   ]
  },
  {
   "cell_type": "code",
   "execution_count": 69,
   "id": "fcef5011",
   "metadata": {},
   "outputs": [
    {
     "data": {
      "text/plain": [
       "array([ 0, 10, 20,  8,  7,  3, 11,  9,  3])"
      ]
     },
     "execution_count": 69,
     "metadata": {},
     "output_type": "execute_result"
    }
   ],
   "source": [
    "np.abs(a)"
   ]
  },
  {
   "cell_type": "code",
   "execution_count": 70,
   "id": "0385447e",
   "metadata": {},
   "outputs": [
    {
     "data": {
      "text/plain": [
       "array([ 0, 10, 20,  8,  7,  3, 11,  9,  3])"
      ]
     },
     "execution_count": 70,
     "metadata": {},
     "output_type": "execute_result"
    }
   ],
   "source": [
    "np.absolute(a)"
   ]
  },
  {
   "cell_type": "markdown",
   "id": "693cd771",
   "metadata": {},
   "source": [
    "## to get sign of values with `np.sign()`"
   ]
  },
  {
   "cell_type": "code",
   "execution_count": 72,
   "id": "a036697d",
   "metadata": {},
   "outputs": [
    {
     "data": {
      "text/plain": [
       "array([ 0,  1, -1, -1,  1,  1, -1,  1, -1])"
      ]
     },
     "execution_count": 72,
     "metadata": {},
     "output_type": "execute_result"
    }
   ],
   "source": [
    "np.sign(a)"
   ]
  },
  {
   "cell_type": "code",
   "execution_count": null,
   "id": "1d121263",
   "metadata": {},
   "outputs": [],
   "source": []
  }
 ],
 "metadata": {
  "kernelspec": {
   "display_name": "Python 3 (ipykernel)",
   "language": "python",
   "name": "python3"
  },
  "language_info": {
   "codemirror_mode": {
    "name": "ipython",
    "version": 3
   },
   "file_extension": ".py",
   "mimetype": "text/x-python",
   "name": "python",
   "nbconvert_exporter": "python",
   "pygments_lexer": "ipython3",
   "version": "3.9.13"
  }
 },
 "nbformat": 4,
 "nbformat_minor": 5
}
