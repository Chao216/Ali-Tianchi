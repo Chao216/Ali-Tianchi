{
 "cells": [
  {
   "cell_type": "markdown",
   "id": "b580d528",
   "metadata": {},
   "source": [
    "## save() savez(), and load()"
   ]
  },
  {
   "cell_type": "code",
   "execution_count": 1,
   "id": "be988aa9",
   "metadata": {},
   "outputs": [],
   "source": [
    "import numpy as np"
   ]
  },
  {
   "cell_type": "markdown",
   "id": "f6ebf967",
   "metadata": {},
   "source": [
    "### save a load one array"
   ]
  },
  {
   "cell_type": "code",
   "execution_count": 2,
   "id": "38e2802a",
   "metadata": {},
   "outputs": [],
   "source": [
    "a = np.arange(1,11)"
   ]
  },
  {
   "cell_type": "code",
   "execution_count": 3,
   "id": "78e19d3a",
   "metadata": {},
   "outputs": [
    {
     "data": {
      "text/plain": [
       "array([ 1,  2,  3,  4,  5,  6,  7,  8,  9, 10])"
      ]
     },
     "execution_count": 3,
     "metadata": {},
     "output_type": "execute_result"
    }
   ],
   "source": [
    "a"
   ]
  },
  {
   "cell_type": "code",
   "execution_count": 8,
   "id": "f8588623",
   "metadata": {},
   "outputs": [],
   "source": [
    "outfile = r\"./data/test.npy\""
   ]
  },
  {
   "cell_type": "code",
   "execution_count": 9,
   "id": "b7e81c50",
   "metadata": {},
   "outputs": [],
   "source": [
    "np.save(outfile,a)"
   ]
  },
  {
   "cell_type": "code",
   "execution_count": 10,
   "id": "9dd1f3f4",
   "metadata": {},
   "outputs": [],
   "source": [
    "y = np.load(outfile)"
   ]
  },
  {
   "cell_type": "code",
   "execution_count": 11,
   "id": "f168192a",
   "metadata": {},
   "outputs": [
    {
     "data": {
      "text/plain": [
       "array([ 1,  2,  3,  4,  5,  6,  7,  8,  9, 10])"
      ]
     },
     "execution_count": 11,
     "metadata": {},
     "output_type": "execute_result"
    }
   ],
   "source": [
    "y"
   ]
  },
  {
   "cell_type": "markdown",
   "id": "a0fbc555",
   "metadata": {},
   "source": [
    "### save and load multiple array"
   ]
  },
  {
   "cell_type": "code",
   "execution_count": 12,
   "id": "6188bca9",
   "metadata": {},
   "outputs": [],
   "source": [
    "outfile1 = r\"./data/test1.npz\""
   ]
  },
  {
   "cell_type": "code",
   "execution_count": 14,
   "id": "13e6cf29",
   "metadata": {},
   "outputs": [],
   "source": [
    "b = np.sin(a)\n",
    "c = np.cos(a)\n",
    "d = np.tan(a)"
   ]
  },
  {
   "cell_type": "code",
   "execution_count": 15,
   "id": "687c474b",
   "metadata": {},
   "outputs": [],
   "source": [
    "np.savez(outfile1,b,c,d)"
   ]
  },
  {
   "cell_type": "code",
   "execution_count": 16,
   "id": "9f3c560c",
   "metadata": {},
   "outputs": [],
   "source": [
    "y1 = np.load(outfile1)"
   ]
  },
  {
   "cell_type": "code",
   "execution_count": 17,
   "id": "24c05add",
   "metadata": {},
   "outputs": [
    {
     "data": {
      "text/plain": [
       "<numpy.lib.npyio.NpzFile at 0x20fb54542e0>"
      ]
     },
     "execution_count": 17,
     "metadata": {},
     "output_type": "execute_result"
    }
   ],
   "source": [
    "y1"
   ]
  },
  {
   "cell_type": "code",
   "execution_count": 19,
   "id": "6e086e8f",
   "metadata": {},
   "outputs": [],
   "source": [
    "np.set_printoptions(suppress=True)"
   ]
  },
  {
   "cell_type": "code",
   "execution_count": 20,
   "id": "70ab5b82",
   "metadata": {},
   "outputs": [
    {
     "name": "stdout",
     "output_type": "stream",
     "text": [
      "['arr_0', 'arr_1', 'arr_2']\n"
     ]
    }
   ],
   "source": [
    "print(y1.files)"
   ]
  },
  {
   "cell_type": "code",
   "execution_count": 22,
   "id": "9bad1a64",
   "metadata": {},
   "outputs": [
    {
     "name": "stdout",
     "output_type": "stream",
     "text": [
      "[ 0.84147098  0.90929743  0.14112001 -0.7568025  -0.95892427 -0.2794155\n",
      "  0.6569866   0.98935825  0.41211849 -0.54402111]\n"
     ]
    }
   ],
   "source": [
    "print(y1[\"arr_0\"])"
   ]
  },
  {
   "cell_type": "code",
   "execution_count": 23,
   "id": "8b27c6bd",
   "metadata": {},
   "outputs": [
    {
     "name": "stdout",
     "output_type": "stream",
     "text": [
      "[ 0.54030231 -0.41614684 -0.9899925  -0.65364362  0.28366219  0.96017029\n",
      "  0.75390225 -0.14550003 -0.91113026 -0.83907153]\n"
     ]
    }
   ],
   "source": [
    "print(y1[\"arr_1\"])"
   ]
  },
  {
   "cell_type": "code",
   "execution_count": 24,
   "id": "5b980e3e",
   "metadata": {},
   "outputs": [
    {
     "name": "stdout",
     "output_type": "stream",
     "text": [
      "[ 1.55740772 -2.18503986 -0.14254654  1.15782128 -3.38051501 -0.29100619\n",
      "  0.87144798 -6.79971146 -0.45231566  0.64836083]\n"
     ]
    }
   ],
   "source": [
    "print(y1[\"arr_2\"])"
   ]
  },
  {
   "cell_type": "markdown",
   "id": "cd2b3dd3",
   "metadata": {},
   "source": [
    "## 文本文件"
   ]
  },
  {
   "cell_type": "markdown",
   "id": "d7b40388",
   "metadata": {},
   "source": [
    "### txt file"
   ]
  },
  {
   "cell_type": "code",
   "execution_count": 26,
   "id": "7a96f3f2",
   "metadata": {},
   "outputs": [],
   "source": [
    "outtxt = r\"./data/test.txt\""
   ]
  },
  {
   "cell_type": "code",
   "execution_count": 27,
   "id": "18aedba3",
   "metadata": {},
   "outputs": [],
   "source": [
    "np.savetxt(outtxt,b)"
   ]
  },
  {
   "cell_type": "code",
   "execution_count": 29,
   "id": "fc1ebfd2",
   "metadata": {},
   "outputs": [],
   "source": [
    "y2 = np.loadtxt(outtxt)"
   ]
  },
  {
   "cell_type": "code",
   "execution_count": 30,
   "id": "770d1bd2",
   "metadata": {},
   "outputs": [
    {
     "data": {
      "text/plain": [
       "array([ 0.84147098,  0.90929743,  0.14112001, -0.7568025 , -0.95892427,\n",
       "       -0.2794155 ,  0.6569866 ,  0.98935825,  0.41211849, -0.54402111])"
      ]
     },
     "execution_count": 30,
     "metadata": {},
     "output_type": "execute_result"
    }
   ],
   "source": [
    "y2"
   ]
  },
  {
   "cell_type": "markdown",
   "id": "fa2c37dc",
   "metadata": {},
   "source": [
    "### csv file    fmt= '%.3f',  delimiter=','"
   ]
  },
  {
   "cell_type": "code",
   "execution_count": 31,
   "id": "9a0c6e5f",
   "metadata": {},
   "outputs": [],
   "source": [
    "outcsv = r\"./data/test.csv\""
   ]
  },
  {
   "cell_type": "code",
   "execution_count": 32,
   "id": "053cf5a9",
   "metadata": {},
   "outputs": [],
   "source": [
    "np.savetxt(outcsv,b, fmt='%.3f', delimiter=',')"
   ]
  },
  {
   "cell_type": "code",
   "execution_count": 33,
   "id": "938faeb7",
   "metadata": {},
   "outputs": [],
   "source": [
    "y3 = np.loadtxt(outcsv, delimiter=\",\")"
   ]
  },
  {
   "cell_type": "code",
   "execution_count": 34,
   "id": "2980ed35",
   "metadata": {},
   "outputs": [
    {
     "data": {
      "text/plain": [
       "array([ 0.841,  0.909,  0.141, -0.757, -0.959, -0.279,  0.657,  0.989,\n",
       "        0.412, -0.544])"
      ]
     },
     "execution_count": 34,
     "metadata": {},
     "output_type": "execute_result"
    }
   ],
   "source": [
    "y3"
   ]
  },
  {
   "cell_type": "code",
   "execution_count": 35,
   "id": "2f4550c8",
   "metadata": {},
   "outputs": [],
   "source": [
    "readfile = r\"./data/readme.csv\""
   ]
  },
  {
   "cell_type": "markdown",
   "id": "4ca3b7aa",
   "metadata": {},
   "source": [
    "### skip first row, use columns index from 1, unpack=True"
   ]
  },
  {
   "cell_type": "code",
   "execution_count": 42,
   "id": "e807917f",
   "metadata": {},
   "outputs": [],
   "source": [
    "col1,col2,col3 = np.loadtxt(readfile, delimiter=\",\",skiprows=1, usecols=(1,2,3),unpack=True)"
   ]
  },
  {
   "cell_type": "code",
   "execution_count": 43,
   "id": "96263015",
   "metadata": {},
   "outputs": [
    {
     "data": {
      "text/plain": [
       "array([11., 12., 13., 14., 15., 16., 17., 18., 19., 20., 21., 22., 23.,\n",
       "       24., 25., 26., 27., 28., 29., 30., 31., 32., 33., 34., 35., 36.,\n",
       "       37., 38., 39.])"
      ]
     },
     "execution_count": 43,
     "metadata": {},
     "output_type": "execute_result"
    }
   ],
   "source": [
    "col1"
   ]
  },
  {
   "cell_type": "code",
   "execution_count": 44,
   "id": "d22ec856",
   "metadata": {},
   "outputs": [
    {
     "data": {
      "text/plain": [
       "array([101., 102., 103., 104., 105., 106., 107., 108., 109., 110., 111.,\n",
       "       112., 113., 114., 115., 116., 117., 118., 119., 120., 121., 122.,\n",
       "       123., 124., 125., 126., 127., 128., 129.])"
      ]
     },
     "execution_count": 44,
     "metadata": {},
     "output_type": "execute_result"
    }
   ],
   "source": [
    "col2"
   ]
  },
  {
   "cell_type": "code",
   "execution_count": 45,
   "id": "3952680f",
   "metadata": {},
   "outputs": [
    {
     "data": {
      "text/plain": [
       "array([1010., 1011., 1012., 1013., 1014., 1015., 1016., 1017., 1018.,\n",
       "       1019., 1020., 1021., 1022., 1023., 1024., 1025., 1026., 1027.,\n",
       "       1028., 1029., 1030., 1031., 1032., 1033., 1034., 1035., 1036.,\n",
       "       1037., 1038.])"
      ]
     },
     "execution_count": 45,
     "metadata": {},
     "output_type": "execute_result"
    }
   ],
   "source": [
    "col3"
   ]
  },
  {
   "cell_type": "markdown",
   "id": "157ff6b2",
   "metadata": {},
   "source": [
    "## np.genfromtext()"
   ]
  },
  {
   "cell_type": "code",
   "execution_count": 46,
   "id": "8909f41e",
   "metadata": {},
   "outputs": [],
   "source": [
    "x = np.genfromtxt(readfile,delimiter=\",\",names=True)"
   ]
  },
  {
   "cell_type": "code",
   "execution_count": 47,
   "id": "9213650e",
   "metadata": {},
   "outputs": [
    {
     "data": {
      "text/plain": [
       "array([( 1., 11., 101., 1010.), ( 2., 12., 102., 1011.),\n",
       "       ( 3., 13., 103., 1012.), ( 4., 14., 104., 1013.),\n",
       "       ( 5., 15., 105., 1014.), ( 6., 16., 106., 1015.),\n",
       "       ( 7., 17., 107., 1016.), ( 8., 18., 108., 1017.),\n",
       "       ( 9., 19., 109., 1018.), (10., 20., 110., 1019.),\n",
       "       (11., 21., 111., 1020.), (12., 22., 112., 1021.),\n",
       "       (13., 23., 113., 1022.), (14., 24., 114., 1023.),\n",
       "       (15., 25., 115., 1024.), (16., 26., 116., 1025.),\n",
       "       (17., 27., 117., 1026.), (18., 28., 118., 1027.),\n",
       "       (19., 29., 119., 1028.), (20., 30., 120., 1029.),\n",
       "       (21., 31., 121., 1030.), (22., 32., 122., 1031.),\n",
       "       (23., 33., 123., 1032.), (24., 34., 124., 1033.),\n",
       "       (25., 35., 125., 1034.), (26., 36., 126., 1035.),\n",
       "       (27., 37., 127., 1036.), (28., 38., 128., 1037.),\n",
       "       (29., 39., 129., 1038.)],\n",
       "      dtype=[('id', '<f8'), ('col1', '<f8'), ('col2', '<f8'), ('col3', '<f8')])"
      ]
     },
     "execution_count": 47,
     "metadata": {},
     "output_type": "execute_result"
    }
   ],
   "source": [
    "x"
   ]
  },
  {
   "cell_type": "code",
   "execution_count": 48,
   "id": "39f96345",
   "metadata": {},
   "outputs": [
    {
     "data": {
      "text/plain": [
       "array([ 1.,  2.,  3.,  4.,  5.,  6.,  7.,  8.,  9., 10., 11., 12., 13.,\n",
       "       14., 15., 16., 17., 18., 19., 20., 21., 22., 23., 24., 25., 26.,\n",
       "       27., 28., 29.])"
      ]
     },
     "execution_count": 48,
     "metadata": {},
     "output_type": "execute_result"
    }
   ],
   "source": [
    "x[\"id\"]"
   ]
  },
  {
   "cell_type": "code",
   "execution_count": 49,
   "id": "d8934834",
   "metadata": {},
   "outputs": [
    {
     "data": {
      "text/plain": [
       "array([11., 12., 13., 14., 15., 16., 17., 18., 19., 20., 21., 22., 23.,\n",
       "       24., 25., 26., 27., 28., 29., 30., 31., 32., 33., 34., 35., 36.,\n",
       "       37., 38., 39.])"
      ]
     },
     "execution_count": 49,
     "metadata": {},
     "output_type": "execute_result"
    }
   ],
   "source": [
    "x[\"col1\"]"
   ]
  },
  {
   "cell_type": "code",
   "execution_count": 50,
   "id": "87e490f0",
   "metadata": {},
   "outputs": [
    {
     "data": {
      "text/plain": [
       "array([101., 102., 103., 104., 105., 106., 107., 108., 109., 110., 111.,\n",
       "       112., 113., 114., 115., 116., 117., 118., 119., 120., 121., 122.,\n",
       "       123., 124., 125., 126., 127., 128., 129.])"
      ]
     },
     "execution_count": 50,
     "metadata": {},
     "output_type": "execute_result"
    }
   ],
   "source": [
    "x[\"col2\"]"
   ]
  },
  {
   "cell_type": "code",
   "execution_count": 51,
   "id": "e9018cd1",
   "metadata": {},
   "outputs": [
    {
     "data": {
      "text/plain": [
       "array([1010., 1011., 1012., 1013., 1014., 1015., 1016., 1017., 1018.,\n",
       "       1019., 1020., 1021., 1022., 1023., 1024., 1025., 1026., 1027.,\n",
       "       1028., 1029., 1030., 1031., 1032., 1033., 1034., 1035., 1036.,\n",
       "       1037., 1038.])"
      ]
     },
     "execution_count": 51,
     "metadata": {},
     "output_type": "execute_result"
    }
   ],
   "source": [
    "x[\"col3\"]"
   ]
  },
  {
   "cell_type": "code",
   "execution_count": null,
   "id": "27931e71",
   "metadata": {},
   "outputs": [],
   "source": []
  }
 ],
 "metadata": {
  "kernelspec": {
   "display_name": "Python 3 (ipykernel)",
   "language": "python",
   "name": "python3"
  },
  "language_info": {
   "codemirror_mode": {
    "name": "ipython",
    "version": 3
   },
   "file_extension": ".py",
   "mimetype": "text/x-python",
   "name": "python",
   "nbconvert_exporter": "python",
   "pygments_lexer": "ipython3",
   "version": "3.9.13"
  }
 },
 "nbformat": 4,
 "nbformat_minor": 5
}
