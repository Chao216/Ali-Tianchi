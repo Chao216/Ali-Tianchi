{
 "cells": [
  {
   "cell_type": "code",
   "execution_count": 1,
   "id": "b40cd697",
   "metadata": {},
   "outputs": [],
   "source": [
    "import numpy as np"
   ]
  },
  {
   "cell_type": "code",
   "execution_count": 2,
   "id": "4dd342b1",
   "metadata": {},
   "outputs": [],
   "source": [
    "a = np.array([1,2,3])\n",
    "b = np.array([4,5,6])"
   ]
  },
  {
   "cell_type": "markdown",
   "id": "e962d9c0",
   "metadata": {},
   "source": [
    "# dot product 点积"
   ]
  },
  {
   "cell_type": "code",
   "execution_count": 3,
   "id": "46cc1c9a",
   "metadata": {},
   "outputs": [
    {
     "data": {
      "text/plain": [
       "32"
      ]
     },
     "execution_count": 3,
     "metadata": {},
     "output_type": "execute_result"
    }
   ],
   "source": [
    "np.dot(a,b)"
   ]
  },
  {
   "cell_type": "markdown",
   "id": "1683f78d",
   "metadata": {},
   "source": [
    "# corss product ×积"
   ]
  },
  {
   "cell_type": "code",
   "execution_count": 7,
   "id": "280a02db",
   "metadata": {},
   "outputs": [
    {
     "data": {
      "text/plain": [
       "array([-3,  6, -3])"
      ]
     },
     "execution_count": 7,
     "metadata": {},
     "output_type": "execute_result"
    }
   ],
   "source": [
    "np.cross(a,b)"
   ]
  },
  {
   "cell_type": "code",
   "execution_count": 8,
   "id": "4b236d8d",
   "metadata": {},
   "outputs": [],
   "source": [
    "A = np.arange(1,5).reshape(2,2)"
   ]
  },
  {
   "cell_type": "code",
   "execution_count": 9,
   "id": "50dcdaab",
   "metadata": {},
   "outputs": [
    {
     "data": {
      "text/plain": [
       "array([[1, 2],\n",
       "       [3, 4]])"
      ]
     },
     "execution_count": 9,
     "metadata": {},
     "output_type": "execute_result"
    }
   ],
   "source": [
    "A"
   ]
  },
  {
   "cell_type": "code",
   "execution_count": 11,
   "id": "a53cca0a",
   "metadata": {},
   "outputs": [],
   "source": [
    "B = np.eye(2)"
   ]
  },
  {
   "cell_type": "code",
   "execution_count": 12,
   "id": "f94c8323",
   "metadata": {},
   "outputs": [
    {
     "data": {
      "text/plain": [
       "array([[1., 0.],\n",
       "       [0., 1.]])"
      ]
     },
     "execution_count": 12,
     "metadata": {},
     "output_type": "execute_result"
    }
   ],
   "source": [
    "B"
   ]
  },
  {
   "cell_type": "code",
   "execution_count": 13,
   "id": "a594681d",
   "metadata": {},
   "outputs": [
    {
     "data": {
      "text/plain": [
       "array([[1., 2.],\n",
       "       [3., 4.]])"
      ]
     },
     "execution_count": 13,
     "metadata": {},
     "output_type": "execute_result"
    }
   ],
   "source": [
    "np.dot(A,B)"
   ]
  },
  {
   "cell_type": "code",
   "execution_count": 14,
   "id": "981b9fbd",
   "metadata": {},
   "outputs": [
    {
     "data": {
      "text/plain": [
       "array([-2.,  3.])"
      ]
     },
     "execution_count": 14,
     "metadata": {},
     "output_type": "execute_result"
    }
   ],
   "source": [
    "np.cross(A,B)"
   ]
  },
  {
   "cell_type": "markdown",
   "id": "88496940",
   "metadata": {},
   "source": [
    "# eigenvalue eigenvector"
   ]
  },
  {
   "cell_type": "code",
   "execution_count": 16,
   "id": "0c6ff200",
   "metadata": {},
   "outputs": [],
   "source": [
    "D = np.diag([1,2,3])"
   ]
  },
  {
   "cell_type": "code",
   "execution_count": 17,
   "id": "8cac9e46",
   "metadata": {},
   "outputs": [
    {
     "data": {
      "text/plain": [
       "array([[1, 0, 0],\n",
       "       [0, 2, 0],\n",
       "       [0, 0, 3]])"
      ]
     },
     "execution_count": 17,
     "metadata": {},
     "output_type": "execute_result"
    }
   ],
   "source": [
    "D"
   ]
  },
  {
   "cell_type": "code",
   "execution_count": 22,
   "id": "66ec8171",
   "metadata": {},
   "outputs": [],
   "source": [
    "vals, vecs = np.linalg.eig(D)"
   ]
  },
  {
   "cell_type": "code",
   "execution_count": 23,
   "id": "3160a5d8",
   "metadata": {},
   "outputs": [
    {
     "name": "stdout",
     "output_type": "stream",
     "text": [
      "1.0 \n",
      "\n",
      "2.0 \n",
      "\n",
      "3.0 \n",
      "\n"
     ]
    }
   ],
   "source": [
    "for i in vals:\n",
    "    print(i,\"\\n\")"
   ]
  },
  {
   "cell_type": "code",
   "execution_count": 24,
   "id": "d047349e",
   "metadata": {},
   "outputs": [
    {
     "name": "stdout",
     "output_type": "stream",
     "text": [
      "[1. 0. 0.] \n",
      "\n",
      "[0. 1. 0.] \n",
      "\n",
      "[0. 0. 1.] \n",
      "\n"
     ]
    }
   ],
   "source": [
    "for j in vecs:\n",
    "    print(j,\"\\n\")"
   ]
  },
  {
   "cell_type": "markdown",
   "id": "767314bc",
   "metadata": {},
   "source": [
    "# SVD 奇异值分解"
   ]
  },
  {
   "cell_type": "code",
   "execution_count": 31,
   "id": "ef49b477",
   "metadata": {},
   "outputs": [],
   "source": [
    "M = np.round(np.random.rand(12).reshape(4,3)*10)"
   ]
  },
  {
   "cell_type": "code",
   "execution_count": 37,
   "id": "4f9cdb4b",
   "metadata": {},
   "outputs": [
    {
     "data": {
      "text/plain": [
       "array([[6., 1., 7.],\n",
       "       [1., 7., 7.],\n",
       "       [6., 3., 7.],\n",
       "       [7., 7., 5.]])"
      ]
     },
     "execution_count": 37,
     "metadata": {},
     "output_type": "execute_result"
    }
   ],
   "source": [
    "M"
   ]
  },
  {
   "cell_type": "code",
   "execution_count": 38,
   "id": "bad3dd7f",
   "metadata": {},
   "outputs": [],
   "source": [
    "u,s,v = np.linalg.svd(M)"
   ]
  },
  {
   "cell_type": "code",
   "execution_count": 39,
   "id": "0548b23b",
   "metadata": {},
   "outputs": [
    {
     "data": {
      "text/plain": [
       "array([[-0.45382334, -0.57698279, -0.34921399, -0.58239576],\n",
       "       [-0.46584305,  0.74296383, -0.47212452, -0.08996357],\n",
       "       [-0.5059957 , -0.313014  , -0.14398875,  0.79073246],\n",
       "       [-0.56657125,  0.1308352 ,  0.79650189, -0.16572237]])"
      ]
     },
     "execution_count": 39,
     "metadata": {},
     "output_type": "execute_result"
    }
   ],
   "source": [
    "u"
   ]
  },
  {
   "cell_type": "code",
   "execution_count": 40,
   "id": "e1ac41b7",
   "metadata": {},
   "outputs": [
    {
     "data": {
      "text/plain": [
       "array([18.77838402,  5.90397425,  3.80990572])"
      ]
     },
     "execution_count": 40,
     "metadata": {},
     "output_type": "execute_result"
    }
   ],
   "source": [
    "s"
   ]
  },
  {
   "cell_type": "code",
   "execution_count": 41,
   "id": "9c6eada4",
   "metadata": {},
   "outputs": [
    {
     "data": {
      "text/plain": [
       "array([[-0.54268546, -0.48985634, -0.68229997],\n",
       "       [-0.62350721,  0.77923246, -0.06352581],\n",
       "       [ 0.56278881,  0.39094442, -0.72830709]])"
      ]
     },
     "execution_count": 41,
     "metadata": {},
     "output_type": "execute_result"
    }
   ],
   "source": [
    "v"
   ]
  },
  {
   "cell_type": "markdown",
   "id": "2bc1b27c",
   "metadata": {},
   "source": [
    "# QR 分解"
   ]
  },
  {
   "cell_type": "code",
   "execution_count": 42,
   "id": "5517ec28",
   "metadata": {},
   "outputs": [],
   "source": [
    "q,r = np.linalg.qr(M)"
   ]
  },
  {
   "cell_type": "code",
   "execution_count": 43,
   "id": "304ebdfd",
   "metadata": {},
   "outputs": [
    {
     "data": {
      "text/plain": [
       "array([[-0.54321448,  0.39374623, -0.45901755],\n",
       "       [-0.09053575, -0.85128376, -0.50894577],\n",
       "       [-0.54321448,  0.12538288, -0.2528623 ],\n",
       "       [-0.63375022, -0.32335585,  0.68288927]])"
      ]
     },
     "execution_count": 43,
     "metadata": {},
     "output_type": "execute_result"
    }
   ],
   "source": [
    "q"
   ]
  },
  {
   "cell_type": "code",
   "execution_count": 44,
   "id": "b55bc44c",
   "metadata": {},
   "outputs": [
    {
     "data": {
      "text/plain": [
       "array([[-11.04536102,  -7.24285968, -11.407504  ],\n",
       "       [  0.        ,  -7.45258234,  -3.94186174],\n",
       "       [  0.        ,   0.        ,  -5.13133302]])"
      ]
     },
     "execution_count": 44,
     "metadata": {},
     "output_type": "execute_result"
    }
   ],
   "source": [
    "r"
   ]
  },
  {
   "cell_type": "markdown",
   "id": "04f480ba",
   "metadata": {},
   "source": [
    "# Chelosky 分解"
   ]
  },
  {
   "cell_type": "code",
   "execution_count": 52,
   "id": "2512649b",
   "metadata": {},
   "outputs": [],
   "source": [
    "M = np.array([[4, 12, -16],\n",
    "              [12, 37, -43],\n",
    "              [-16, -43, 98]])"
   ]
  },
  {
   "cell_type": "code",
   "execution_count": 53,
   "id": "cb0f80b1",
   "metadata": {},
   "outputs": [],
   "source": [
    "L = np.linalg.cholesky(M)"
   ]
  },
  {
   "cell_type": "code",
   "execution_count": 54,
   "id": "c2a06116",
   "metadata": {},
   "outputs": [
    {
     "data": {
      "text/plain": [
       "array([[ 2.,  0.,  0.],\n",
       "       [ 6.,  1.,  0.],\n",
       "       [-8.,  5.,  3.]])"
      ]
     },
     "execution_count": 54,
     "metadata": {},
     "output_type": "execute_result"
    }
   ],
   "source": [
    "L"
   ]
  },
  {
   "cell_type": "markdown",
   "id": "a75e31c8",
   "metadata": {},
   "source": [
    "# 范数  Norm 可以理解为向量长度"
   ]
  },
  {
   "cell_type": "code",
   "execution_count": 55,
   "id": "51115d81",
   "metadata": {},
   "outputs": [],
   "source": [
    "a = np.array([3,4])"
   ]
  },
  {
   "cell_type": "code",
   "execution_count": 56,
   "id": "7050f7be",
   "metadata": {},
   "outputs": [
    {
     "data": {
      "text/plain": [
       "5.0"
      ]
     },
     "execution_count": 56,
     "metadata": {},
     "output_type": "execute_result"
    }
   ],
   "source": [
    "np.linalg.norm(a)"
   ]
  },
  {
   "cell_type": "code",
   "execution_count": 57,
   "id": "deffd5f7",
   "metadata": {},
   "outputs": [],
   "source": [
    "b = np.array([np.sqrt(2),np.sqrt(2)])"
   ]
  },
  {
   "cell_type": "code",
   "execution_count": 58,
   "id": "0aa95715",
   "metadata": {},
   "outputs": [
    {
     "data": {
      "text/plain": [
       "array([1.41421356, 1.41421356])"
      ]
     },
     "execution_count": 58,
     "metadata": {},
     "output_type": "execute_result"
    }
   ],
   "source": [
    "b"
   ]
  },
  {
   "cell_type": "code",
   "execution_count": 59,
   "id": "da99f407",
   "metadata": {},
   "outputs": [
    {
     "data": {
      "text/plain": [
       "2.0"
      ]
     },
     "execution_count": 59,
     "metadata": {},
     "output_type": "execute_result"
    }
   ],
   "source": [
    "np.linalg.norm(b)"
   ]
  },
  {
   "cell_type": "code",
   "execution_count": 60,
   "id": "7d7490f1",
   "metadata": {},
   "outputs": [
    {
     "data": {
      "text/plain": [
       "124.44677577181339"
      ]
     },
     "execution_count": 60,
     "metadata": {},
     "output_type": "execute_result"
    }
   ],
   "source": [
    "np.linalg.norm(M)"
   ]
  },
  {
   "cell_type": "markdown",
   "id": "324e295f",
   "metadata": {},
   "source": [
    "# determinant 行列式 线性变化 面积变换值"
   ]
  },
  {
   "cell_type": "code",
   "execution_count": 61,
   "id": "bb19cd0d",
   "metadata": {},
   "outputs": [],
   "source": [
    "det = np.linalg.det(M)"
   ]
  },
  {
   "cell_type": "code",
   "execution_count": 62,
   "id": "d9546667",
   "metadata": {},
   "outputs": [
    {
     "data": {
      "text/plain": [
       "36.00000000000003"
      ]
     },
     "execution_count": 62,
     "metadata": {},
     "output_type": "execute_result"
    }
   ],
   "source": [
    "det"
   ]
  },
  {
   "cell_type": "markdown",
   "id": "595fec03",
   "metadata": {},
   "source": [
    "# Rank of a matrix"
   ]
  },
  {
   "cell_type": "code",
   "execution_count": 63,
   "id": "96c30d8a",
   "metadata": {},
   "outputs": [],
   "source": [
    "M = np.eye(5)"
   ]
  },
  {
   "cell_type": "code",
   "execution_count": 64,
   "id": "b9fab017",
   "metadata": {},
   "outputs": [
    {
     "data": {
      "text/plain": [
       "5"
      ]
     },
     "execution_count": 64,
     "metadata": {},
     "output_type": "execute_result"
    }
   ],
   "source": [
    "np.linalg.matrix_rank(M)"
   ]
  },
  {
   "cell_type": "code",
   "execution_count": 65,
   "id": "5548b1d3",
   "metadata": {},
   "outputs": [],
   "source": [
    "M[0,0]=0"
   ]
  },
  {
   "cell_type": "code",
   "execution_count": 66,
   "id": "d68e82cd",
   "metadata": {},
   "outputs": [
    {
     "data": {
      "text/plain": [
       "4"
      ]
     },
     "execution_count": 66,
     "metadata": {},
     "output_type": "execute_result"
    }
   ],
   "source": [
    "np.linalg.matrix_rank(M)"
   ]
  },
  {
   "cell_type": "code",
   "execution_count": 67,
   "id": "6c092580",
   "metadata": {},
   "outputs": [],
   "source": [
    "M[4,4]=0"
   ]
  },
  {
   "cell_type": "code",
   "execution_count": 68,
   "id": "d8601787",
   "metadata": {},
   "outputs": [
    {
     "data": {
      "text/plain": [
       "3"
      ]
     },
     "execution_count": 68,
     "metadata": {},
     "output_type": "execute_result"
    }
   ],
   "source": [
    "np.linalg.matrix_rank(M)"
   ]
  },
  {
   "cell_type": "markdown",
   "id": "6d4c226d",
   "metadata": {},
   "source": [
    "# trace sum over matrix diagnoal"
   ]
  },
  {
   "cell_type": "code",
   "execution_count": 69,
   "id": "517185bb",
   "metadata": {},
   "outputs": [],
   "source": [
    "M = np.diag((2,5,3,2,4,1))"
   ]
  },
  {
   "cell_type": "code",
   "execution_count": 70,
   "id": "82719ee6",
   "metadata": {},
   "outputs": [
    {
     "data": {
      "text/plain": [
       "array([[2, 0, 0, 0, 0, 0],\n",
       "       [0, 5, 0, 0, 0, 0],\n",
       "       [0, 0, 3, 0, 0, 0],\n",
       "       [0, 0, 0, 2, 0, 0],\n",
       "       [0, 0, 0, 0, 4, 0],\n",
       "       [0, 0, 0, 0, 0, 1]])"
      ]
     },
     "execution_count": 70,
     "metadata": {},
     "output_type": "execute_result"
    }
   ],
   "source": [
    "M"
   ]
  },
  {
   "cell_type": "code",
   "execution_count": 71,
   "id": "0c32b067",
   "metadata": {},
   "outputs": [
    {
     "data": {
      "text/plain": [
       "17"
      ]
     },
     "execution_count": 71,
     "metadata": {},
     "output_type": "execute_result"
    }
   ],
   "source": [
    "np.trace(M)"
   ]
  },
  {
   "cell_type": "markdown",
   "id": "d0261d08",
   "metadata": {},
   "source": [
    "#  Inverse Matrix, 逆矩阵\n",
    "\n",
    "## Ax=b \n",
    "## x = A<sup>-1</sup> .b"
   ]
  },
  {
   "cell_type": "code",
   "execution_count": 75,
   "id": "69986849",
   "metadata": {},
   "outputs": [],
   "source": [
    "A = np.array([[2,3,5],\n",
    "              [2,5,8],\n",
    "              [5,2,2]])"
   ]
  },
  {
   "cell_type": "code",
   "execution_count": 76,
   "id": "f669401d",
   "metadata": {},
   "outputs": [
    {
     "data": {
      "text/plain": [
       "array([[2, 3, 5],\n",
       "       [2, 5, 8],\n",
       "       [5, 2, 2]])"
      ]
     },
     "execution_count": 76,
     "metadata": {},
     "output_type": "execute_result"
    }
   ],
   "source": [
    "A"
   ]
  },
  {
   "cell_type": "code",
   "execution_count": 77,
   "id": "106a25aa",
   "metadata": {},
   "outputs": [],
   "source": [
    "Ainv = np.linalg.inv(A)"
   ]
  },
  {
   "cell_type": "code",
   "execution_count": 78,
   "id": "12cce4e7",
   "metadata": {},
   "outputs": [
    {
     "data": {
      "text/plain": [
       "array([[ 0.66666667, -0.44444444,  0.11111111],\n",
       "       [-4.        ,  2.33333333,  0.66666667],\n",
       "       [ 2.33333333, -1.22222222, -0.44444444]])"
      ]
     },
     "execution_count": 78,
     "metadata": {},
     "output_type": "execute_result"
    }
   ],
   "source": [
    "Ainv"
   ]
  },
  {
   "cell_type": "code",
   "execution_count": 79,
   "id": "21103a8d",
   "metadata": {},
   "outputs": [],
   "source": [
    "b = np.array([7,2,13])"
   ]
  },
  {
   "cell_type": "code",
   "execution_count": 80,
   "id": "fc6c6586",
   "metadata": {},
   "outputs": [
    {
     "data": {
      "text/plain": [
       "array([  5.22222222, -14.66666667,   8.11111111])"
      ]
     },
     "execution_count": 80,
     "metadata": {},
     "output_type": "execute_result"
    }
   ],
   "source": [
    "np.linalg.solve(A,b)"
   ]
  },
  {
   "cell_type": "code",
   "execution_count": 82,
   "id": "e03493aa",
   "metadata": {},
   "outputs": [
    {
     "data": {
      "text/plain": [
       "array([  5.22222222, -14.66666667,   8.11111111])"
      ]
     },
     "execution_count": 82,
     "metadata": {},
     "output_type": "execute_result"
    }
   ],
   "source": [
    "np.dot(Ainv,b)"
   ]
  },
  {
   "cell_type": "code",
   "execution_count": null,
   "id": "9bfc3b54",
   "metadata": {},
   "outputs": [],
   "source": []
  }
 ],
 "metadata": {
  "kernelspec": {
   "display_name": "Python 3 (ipykernel)",
   "language": "python",
   "name": "python3"
  },
  "language_info": {
   "codemirror_mode": {
    "name": "ipython",
    "version": 3
   },
   "file_extension": ".py",
   "mimetype": "text/x-python",
   "name": "python",
   "nbconvert_exporter": "python",
   "pygments_lexer": "ipython3",
   "version": "3.9.13"
  }
 },
 "nbformat": 4,
 "nbformat_minor": 5
}
