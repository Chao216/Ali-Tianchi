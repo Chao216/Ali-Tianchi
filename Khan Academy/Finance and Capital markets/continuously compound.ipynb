{
 "cells": [
  {
   "cell_type": "code",
   "execution_count": 1,
   "id": "fc927e1d",
   "metadata": {},
   "outputs": [],
   "source": [
    "import numpy as np"
   ]
  },
  {
   "cell_type": "code",
   "execution_count": 4,
   "id": "cde30e92",
   "metadata": {},
   "outputs": [],
   "source": [
    "def cc(principal, rate, year):\n",
    "    return principal*np.e**(rate*year)\n"
   ]
  },
  {
   "cell_type": "code",
   "execution_count": 5,
   "id": "bd2980c1",
   "metadata": {},
   "outputs": [
    {
     "data": {
      "text/plain": [
       "2.718281828459045"
      ]
     },
     "execution_count": 5,
     "metadata": {},
     "output_type": "execute_result"
    }
   ],
   "source": [
    "cc(1,1,1)"
   ]
  },
  {
   "cell_type": "code",
   "execution_count": 8,
   "id": "a8b7ceaa",
   "metadata": {},
   "outputs": [
    {
     "data": {
      "text/plain": [
       "161.60744021928932"
      ]
     },
     "execution_count": 8,
     "metadata": {},
     "output_type": "execute_result"
    }
   ],
   "source": [
    "cc(100,0.16,3)"
   ]
  },
  {
   "cell_type": "code",
   "execution_count": 9,
   "id": "91692f3a",
   "metadata": {},
   "outputs": [
    {
     "data": {
      "text/plain": [
       "117.35108709918103"
      ]
     },
     "execution_count": 9,
     "metadata": {},
     "output_type": "execute_result"
    }
   ],
   "source": [
    "cc(100,0.16,1)"
   ]
  },
  {
   "cell_type": "code",
   "execution_count": 10,
   "id": "25cc3b78",
   "metadata": {},
   "outputs": [
    {
     "data": {
      "text/plain": [
       "11051.709180756478"
      ]
     },
     "execution_count": 10,
     "metadata": {},
     "output_type": "execute_result"
    }
   ],
   "source": [
    "cc(10000,0.05,2)"
   ]
  },
  {
   "cell_type": "code",
   "execution_count": 11,
   "id": "110c1e63",
   "metadata": {},
   "outputs": [
    {
     "data": {
      "text/plain": [
       "21236.730930907193"
      ]
     },
     "execution_count": 11,
     "metadata": {},
     "output_type": "execute_result"
    }
   ],
   "source": [
    "cc(20000,0.06,1)"
   ]
  },
  {
   "cell_type": "code",
   "execution_count": 13,
   "id": "911bddea",
   "metadata": {},
   "outputs": [
    {
     "data": {
      "text/plain": [
       "10414.806384163297"
      ]
     },
     "execution_count": 13,
     "metadata": {},
     "output_type": "execute_result"
    }
   ],
   "source": [
    "cc(90000,0.0365,3) - 90000"
   ]
  },
  {
   "cell_type": "code",
   "execution_count": null,
   "id": "10b7013a",
   "metadata": {},
   "outputs": [],
   "source": []
  }
 ],
 "metadata": {
  "kernelspec": {
   "display_name": "Python 3 (ipykernel)",
   "language": "python",
   "name": "python3"
  },
  "language_info": {
   "codemirror_mode": {
    "name": "ipython",
    "version": 3
   },
   "file_extension": ".py",
   "mimetype": "text/x-python",
   "name": "python",
   "nbconvert_exporter": "python",
   "pygments_lexer": "ipython3",
   "version": "3.9.13"
  }
 },
 "nbformat": 4,
 "nbformat_minor": 5
}
