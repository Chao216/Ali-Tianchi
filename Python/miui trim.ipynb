{
 "cells": [
  {
   "cell_type": "code",
   "execution_count": 1,
   "id": "f86730c2",
   "metadata": {},
   "outputs": [],
   "source": [
    "import re, pyperclip"
   ]
  },
  {
   "cell_type": "code",
   "execution_count": 2,
   "id": "e11d3226",
   "metadata": {},
   "outputs": [],
   "source": [
    "app_list = pyperclip.paste()"
   ]
  },
  {
   "cell_type": "code",
   "execution_count": 3,
   "id": "c2ea9e0e",
   "metadata": {},
   "outputs": [
    {
     "data": {
      "text/plain": [
       "'com.miui.systemAdSolution （小米系统广告解决方案，必删）\\r\\ncom.miui.analytics （小米广告分析，必删）\\r\\ncom.xiaomi.gamecenter.sdk.service （小米游戏中心服务）\\r\\ncom.xiaomi.gamecenter （小米游戏中心）\\r\\ncom.sohu.inputmethod.sogou.xiaomi （搜狗输入法）\\r\\ncom.baidu.input_mi （百度输入法小米版）\\r\\n\\r\\ncom.miui.player （小米音乐）\\r\\ncom.miui.video （小米视频）\\r\\ncom.miui.notes （小米便签）\\r\\ncom.miui.translation.youdao （有道翻译）\\r\\ncom.miui.translation.kingsoft （金山翻译）\\r\\ncom.android.email （邮件）\\r\\ncom.xiaomi.scanner （小米扫描）\\r\\ncom.miui.hybrid （混合器）\\r\\ncom.miui.bugreport （bug 反馈）\\r\\ncom.milink.service （米连服务）\\r\\ncom.android.browser （浏览器）\\r\\ncom.miui.gallery （相册）\\r\\ncom.miui.yellowpage （黄页）\\r\\ncom.xiaomi.midrop （小米快传）\\r\\ncom.miui.virtualsim （小米虚拟器）\\r\\ncom.xiaomi.payment （小米支付）\\r\\ncom.mipay.wallet （小米钱包）\\r\\ncom.android.soundrecorder （录音机）\\r\\ncom.miui.screenrecorder （屏幕录制）\\r\\ncom.android.wallpaper （壁纸）\\r\\ncom.miui.voiceassist （语音助手）\\r\\ncom.miui.fm （收音机）\\r\\ncom.miui.touchassistant （悬浮球）\\r\\ncom.android.cellbroadcastreceiver （小米广播）\\r\\ncom.xiaomi.mitunes （小米助手）\\r\\ncom.xiaomi.pass （小米卡包）\\r\\ncom.android.thememanager （个性主题管理）\\r\\ncom.android.wallpaper （动态壁纸）\\r\\ncom.android.wallpaper.livepicker （动态壁纸获取）\\r\\ncom.miui.klo.bugreport （KLO bug 反馈）'"
      ]
     },
     "execution_count": 3,
     "metadata": {},
     "output_type": "execute_result"
    }
   ],
   "source": [
    "app_list"
   ]
  },
  {
   "cell_type": "code",
   "execution_count": 18,
   "id": "d9b4afe1",
   "metadata": {},
   "outputs": [],
   "source": [
    "pattern = re.compile(r\"(com\\.[a-zA-z.]*)(\\s)\")"
   ]
  },
  {
   "cell_type": "code",
   "execution_count": 19,
   "id": "90cdd069",
   "metadata": {},
   "outputs": [],
   "source": [
    "list1 = pattern.findall(app_list)"
   ]
  },
  {
   "cell_type": "code",
   "execution_count": 20,
   "id": "383fac23",
   "metadata": {},
   "outputs": [
    {
     "data": {
      "text/plain": [
       "[('com.miui.systemAdSolution', ' '),\n",
       " ('com.miui.analytics', ' '),\n",
       " ('com.xiaomi.gamecenter.sdk.service', ' '),\n",
       " ('com.xiaomi.gamecenter', ' '),\n",
       " ('com.sohu.inputmethod.sogou.xiaomi', ' '),\n",
       " ('com.baidu.input_mi', ' '),\n",
       " ('com.miui.player', ' '),\n",
       " ('com.miui.video', ' '),\n",
       " ('com.miui.notes', ' '),\n",
       " ('com.miui.translation.youdao', ' '),\n",
       " ('com.miui.translation.kingsoft', ' '),\n",
       " ('com.android.email', ' '),\n",
       " ('com.xiaomi.scanner', ' '),\n",
       " ('com.miui.hybrid', ' '),\n",
       " ('com.miui.bugreport', ' '),\n",
       " ('com.milink.service', ' '),\n",
       " ('com.android.browser', ' '),\n",
       " ('com.miui.gallery', ' '),\n",
       " ('com.miui.yellowpage', ' '),\n",
       " ('com.xiaomi.midrop', ' '),\n",
       " ('com.miui.virtualsim', ' '),\n",
       " ('com.xiaomi.payment', ' '),\n",
       " ('com.mipay.wallet', ' '),\n",
       " ('com.android.soundrecorder', ' '),\n",
       " ('com.miui.screenrecorder', ' '),\n",
       " ('com.android.wallpaper', ' '),\n",
       " ('com.miui.voiceassist', ' '),\n",
       " ('com.miui.fm', ' '),\n",
       " ('com.miui.touchassistant', ' '),\n",
       " ('com.android.cellbroadcastreceiver', ' '),\n",
       " ('com.xiaomi.mitunes', ' '),\n",
       " ('com.xiaomi.pass', ' '),\n",
       " ('com.android.thememanager', ' '),\n",
       " ('com.android.wallpaper', ' '),\n",
       " ('com.android.wallpaper.livepicker', ' '),\n",
       " ('com.miui.klo.bugreport', ' ')]"
      ]
     },
     "execution_count": 20,
     "metadata": {},
     "output_type": "execute_result"
    }
   ],
   "source": [
    "list1"
   ]
  },
  {
   "cell_type": "code",
   "execution_count": 21,
   "id": "2ac3c70c",
   "metadata": {},
   "outputs": [
    {
     "data": {
      "text/plain": [
       "2"
      ]
     },
     "execution_count": 21,
     "metadata": {},
     "output_type": "execute_result"
    }
   ],
   "source": [
    "len(list1[0])"
   ]
  },
  {
   "cell_type": "code",
   "execution_count": 22,
   "id": "718d1f27",
   "metadata": {},
   "outputs": [
    {
     "data": {
      "text/plain": [
       "('com.miui.systemAdSolution', ' ')"
      ]
     },
     "execution_count": 22,
     "metadata": {},
     "output_type": "execute_result"
    }
   ],
   "source": [
    "list1[0]"
   ]
  },
  {
   "cell_type": "code",
   "execution_count": 23,
   "id": "f4ae135e",
   "metadata": {},
   "outputs": [
    {
     "data": {
      "text/plain": [
       "['com.miui.systemAdSolution',\n",
       " 'com.miui.analytics',\n",
       " 'com.xiaomi.gamecenter.sdk.service',\n",
       " 'com.xiaomi.gamecenter',\n",
       " 'com.sohu.inputmethod.sogou.xiaomi',\n",
       " 'com.baidu.input_mi',\n",
       " 'com.miui.player',\n",
       " 'com.miui.video',\n",
       " 'com.miui.notes',\n",
       " 'com.miui.translation.youdao',\n",
       " 'com.miui.translation.kingsoft',\n",
       " 'com.android.email',\n",
       " 'com.xiaomi.scanner',\n",
       " 'com.miui.hybrid',\n",
       " 'com.miui.bugreport',\n",
       " 'com.milink.service',\n",
       " 'com.android.browser',\n",
       " 'com.miui.gallery',\n",
       " 'com.miui.yellowpage',\n",
       " 'com.xiaomi.midrop',\n",
       " 'com.miui.virtualsim',\n",
       " 'com.xiaomi.payment',\n",
       " 'com.mipay.wallet',\n",
       " 'com.android.soundrecorder',\n",
       " 'com.miui.screenrecorder',\n",
       " 'com.android.wallpaper',\n",
       " 'com.miui.voiceassist',\n",
       " 'com.miui.fm',\n",
       " 'com.miui.touchassistant',\n",
       " 'com.android.cellbroadcastreceiver',\n",
       " 'com.xiaomi.mitunes',\n",
       " 'com.xiaomi.pass',\n",
       " 'com.android.thememanager',\n",
       " 'com.android.wallpaper',\n",
       " 'com.android.wallpaper.livepicker',\n",
       " 'com.miui.klo.bugreport']"
      ]
     },
     "execution_count": 23,
     "metadata": {},
     "output_type": "execute_result"
    }
   ],
   "source": [
    "app_names = []\n",
    "for i in list1:\n",
    "    app_names.append(i[0])\n",
    "app_names"
   ]
  },
  {
   "cell_type": "code",
   "execution_count": 24,
   "id": "5b2f144e",
   "metadata": {},
   "outputs": [],
   "source": [
    "uninstall = \"adb shell pm uninstall --user 0\""
   ]
  },
  {
   "cell_type": "code",
   "execution_count": 27,
   "id": "02c64d80",
   "metadata": {},
   "outputs": [
    {
     "data": {
      "text/plain": [
       "36"
      ]
     },
     "execution_count": 27,
     "metadata": {},
     "output_type": "execute_result"
    }
   ],
   "source": [
    "len(app_names)"
   ]
  },
  {
   "cell_type": "code",
   "execution_count": 28,
   "id": "9280a8a4",
   "metadata": {},
   "outputs": [],
   "source": [
    "uninstall = [uninstall] * len(app_names)"
   ]
  },
  {
   "cell_type": "code",
   "execution_count": 29,
   "id": "72fe7988",
   "metadata": {},
   "outputs": [
    {
     "data": {
      "text/plain": [
       "['adb shell pm uninstall --user 0',\n",
       " 'adb shell pm uninstall --user 0',\n",
       " 'adb shell pm uninstall --user 0',\n",
       " 'adb shell pm uninstall --user 0',\n",
       " 'adb shell pm uninstall --user 0',\n",
       " 'adb shell pm uninstall --user 0',\n",
       " 'adb shell pm uninstall --user 0',\n",
       " 'adb shell pm uninstall --user 0',\n",
       " 'adb shell pm uninstall --user 0',\n",
       " 'adb shell pm uninstall --user 0',\n",
       " 'adb shell pm uninstall --user 0',\n",
       " 'adb shell pm uninstall --user 0',\n",
       " 'adb shell pm uninstall --user 0',\n",
       " 'adb shell pm uninstall --user 0',\n",
       " 'adb shell pm uninstall --user 0',\n",
       " 'adb shell pm uninstall --user 0',\n",
       " 'adb shell pm uninstall --user 0',\n",
       " 'adb shell pm uninstall --user 0',\n",
       " 'adb shell pm uninstall --user 0',\n",
       " 'adb shell pm uninstall --user 0',\n",
       " 'adb shell pm uninstall --user 0',\n",
       " 'adb shell pm uninstall --user 0',\n",
       " 'adb shell pm uninstall --user 0',\n",
       " 'adb shell pm uninstall --user 0',\n",
       " 'adb shell pm uninstall --user 0',\n",
       " 'adb shell pm uninstall --user 0',\n",
       " 'adb shell pm uninstall --user 0',\n",
       " 'adb shell pm uninstall --user 0',\n",
       " 'adb shell pm uninstall --user 0',\n",
       " 'adb shell pm uninstall --user 0',\n",
       " 'adb shell pm uninstall --user 0',\n",
       " 'adb shell pm uninstall --user 0',\n",
       " 'adb shell pm uninstall --user 0',\n",
       " 'adb shell pm uninstall --user 0',\n",
       " 'adb shell pm uninstall --user 0',\n",
       " 'adb shell pm uninstall --user 0']"
      ]
     },
     "execution_count": 29,
     "metadata": {},
     "output_type": "execute_result"
    }
   ],
   "source": [
    "uninstall"
   ]
  },
  {
   "cell_type": "code",
   "execution_count": 33,
   "id": "6854d431",
   "metadata": {},
   "outputs": [
    {
     "data": {
      "text/plain": [
       "['adb shell pm uninstall --user 0com.miui.systemAdSolution',\n",
       " 'adb shell pm uninstall --user 0com.miui.analytics',\n",
       " 'adb shell pm uninstall --user 0com.xiaomi.gamecenter.sdk.service',\n",
       " 'adb shell pm uninstall --user 0com.xiaomi.gamecenter',\n",
       " 'adb shell pm uninstall --user 0com.sohu.inputmethod.sogou.xiaomi',\n",
       " 'adb shell pm uninstall --user 0com.baidu.input_mi',\n",
       " 'adb shell pm uninstall --user 0com.miui.player',\n",
       " 'adb shell pm uninstall --user 0com.miui.video',\n",
       " 'adb shell pm uninstall --user 0com.miui.notes',\n",
       " 'adb shell pm uninstall --user 0com.miui.translation.youdao',\n",
       " 'adb shell pm uninstall --user 0com.miui.translation.kingsoft',\n",
       " 'adb shell pm uninstall --user 0com.android.email',\n",
       " 'adb shell pm uninstall --user 0com.xiaomi.scanner',\n",
       " 'adb shell pm uninstall --user 0com.miui.hybrid',\n",
       " 'adb shell pm uninstall --user 0com.miui.bugreport',\n",
       " 'adb shell pm uninstall --user 0com.milink.service',\n",
       " 'adb shell pm uninstall --user 0com.android.browser',\n",
       " 'adb shell pm uninstall --user 0com.miui.gallery',\n",
       " 'adb shell pm uninstall --user 0com.miui.yellowpage',\n",
       " 'adb shell pm uninstall --user 0com.xiaomi.midrop',\n",
       " 'adb shell pm uninstall --user 0com.miui.virtualsim',\n",
       " 'adb shell pm uninstall --user 0com.xiaomi.payment',\n",
       " 'adb shell pm uninstall --user 0com.mipay.wallet',\n",
       " 'adb shell pm uninstall --user 0com.android.soundrecorder',\n",
       " 'adb shell pm uninstall --user 0com.miui.screenrecorder',\n",
       " 'adb shell pm uninstall --user 0com.android.wallpaper',\n",
       " 'adb shell pm uninstall --user 0com.miui.voiceassist',\n",
       " 'adb shell pm uninstall --user 0com.miui.fm',\n",
       " 'adb shell pm uninstall --user 0com.miui.touchassistant',\n",
       " 'adb shell pm uninstall --user 0com.android.cellbroadcastreceiver',\n",
       " 'adb shell pm uninstall --user 0com.xiaomi.mitunes',\n",
       " 'adb shell pm uninstall --user 0com.xiaomi.pass',\n",
       " 'adb shell pm uninstall --user 0com.android.thememanager',\n",
       " 'adb shell pm uninstall --user 0com.android.wallpaper',\n",
       " 'adb shell pm uninstall --user 0com.android.wallpaper.livepicker',\n",
       " 'adb shell pm uninstall --user 0com.miui.klo.bugreport']"
      ]
     },
     "execution_count": 33,
     "metadata": {},
     "output_type": "execute_result"
    }
   ],
   "source": [
    "combined_commands =[]\n",
    "for i,j in zip(uninstall,app_names):\n",
    "    k = i + j\n",
    "    combined_commands.append(k)\n",
    "combined_commands"
   ]
  },
  {
   "cell_type": "code",
   "execution_count": 34,
   "id": "a5d98f00",
   "metadata": {},
   "outputs": [],
   "source": [
    "import pandas as pd\n",
    "\n",
    "df = pd.DataFrame({\"col1\":combined_commands})"
   ]
  },
  {
   "cell_type": "code",
   "execution_count": 35,
   "id": "e49da06c",
   "metadata": {},
   "outputs": [
    {
     "data": {
      "text/html": [
       "<div>\n",
       "<style scoped>\n",
       "    .dataframe tbody tr th:only-of-type {\n",
       "        vertical-align: middle;\n",
       "    }\n",
       "\n",
       "    .dataframe tbody tr th {\n",
       "        vertical-align: top;\n",
       "    }\n",
       "\n",
       "    .dataframe thead th {\n",
       "        text-align: right;\n",
       "    }\n",
       "</style>\n",
       "<table border=\"1\" class=\"dataframe\">\n",
       "  <thead>\n",
       "    <tr style=\"text-align: right;\">\n",
       "      <th></th>\n",
       "      <th>col1</th>\n",
       "    </tr>\n",
       "  </thead>\n",
       "  <tbody>\n",
       "    <tr>\n",
       "      <th>0</th>\n",
       "      <td>adb shell pm uninstall --user 0com.miui.system...</td>\n",
       "    </tr>\n",
       "    <tr>\n",
       "      <th>1</th>\n",
       "      <td>adb shell pm uninstall --user 0com.miui.analytics</td>\n",
       "    </tr>\n",
       "    <tr>\n",
       "      <th>2</th>\n",
       "      <td>adb shell pm uninstall --user 0com.xiaomi.game...</td>\n",
       "    </tr>\n",
       "    <tr>\n",
       "      <th>3</th>\n",
       "      <td>adb shell pm uninstall --user 0com.xiaomi.game...</td>\n",
       "    </tr>\n",
       "    <tr>\n",
       "      <th>4</th>\n",
       "      <td>adb shell pm uninstall --user 0com.sohu.inputm...</td>\n",
       "    </tr>\n",
       "    <tr>\n",
       "      <th>5</th>\n",
       "      <td>adb shell pm uninstall --user 0com.baidu.input_mi</td>\n",
       "    </tr>\n",
       "    <tr>\n",
       "      <th>6</th>\n",
       "      <td>adb shell pm uninstall --user 0com.miui.player</td>\n",
       "    </tr>\n",
       "    <tr>\n",
       "      <th>7</th>\n",
       "      <td>adb shell pm uninstall --user 0com.miui.video</td>\n",
       "    </tr>\n",
       "    <tr>\n",
       "      <th>8</th>\n",
       "      <td>adb shell pm uninstall --user 0com.miui.notes</td>\n",
       "    </tr>\n",
       "    <tr>\n",
       "      <th>9</th>\n",
       "      <td>adb shell pm uninstall --user 0com.miui.transl...</td>\n",
       "    </tr>\n",
       "    <tr>\n",
       "      <th>10</th>\n",
       "      <td>adb shell pm uninstall --user 0com.miui.transl...</td>\n",
       "    </tr>\n",
       "    <tr>\n",
       "      <th>11</th>\n",
       "      <td>adb shell pm uninstall --user 0com.android.email</td>\n",
       "    </tr>\n",
       "    <tr>\n",
       "      <th>12</th>\n",
       "      <td>adb shell pm uninstall --user 0com.xiaomi.scanner</td>\n",
       "    </tr>\n",
       "    <tr>\n",
       "      <th>13</th>\n",
       "      <td>adb shell pm uninstall --user 0com.miui.hybrid</td>\n",
       "    </tr>\n",
       "    <tr>\n",
       "      <th>14</th>\n",
       "      <td>adb shell pm uninstall --user 0com.miui.bugreport</td>\n",
       "    </tr>\n",
       "    <tr>\n",
       "      <th>15</th>\n",
       "      <td>adb shell pm uninstall --user 0com.milink.service</td>\n",
       "    </tr>\n",
       "    <tr>\n",
       "      <th>16</th>\n",
       "      <td>adb shell pm uninstall --user 0com.android.bro...</td>\n",
       "    </tr>\n",
       "    <tr>\n",
       "      <th>17</th>\n",
       "      <td>adb shell pm uninstall --user 0com.miui.gallery</td>\n",
       "    </tr>\n",
       "    <tr>\n",
       "      <th>18</th>\n",
       "      <td>adb shell pm uninstall --user 0com.miui.yellow...</td>\n",
       "    </tr>\n",
       "    <tr>\n",
       "      <th>19</th>\n",
       "      <td>adb shell pm uninstall --user 0com.xiaomi.midrop</td>\n",
       "    </tr>\n",
       "    <tr>\n",
       "      <th>20</th>\n",
       "      <td>adb shell pm uninstall --user 0com.miui.virtua...</td>\n",
       "    </tr>\n",
       "    <tr>\n",
       "      <th>21</th>\n",
       "      <td>adb shell pm uninstall --user 0com.xiaomi.payment</td>\n",
       "    </tr>\n",
       "    <tr>\n",
       "      <th>22</th>\n",
       "      <td>adb shell pm uninstall --user 0com.mipay.wallet</td>\n",
       "    </tr>\n",
       "    <tr>\n",
       "      <th>23</th>\n",
       "      <td>adb shell pm uninstall --user 0com.android.sou...</td>\n",
       "    </tr>\n",
       "    <tr>\n",
       "      <th>24</th>\n",
       "      <td>adb shell pm uninstall --user 0com.miui.screen...</td>\n",
       "    </tr>\n",
       "    <tr>\n",
       "      <th>25</th>\n",
       "      <td>adb shell pm uninstall --user 0com.android.wal...</td>\n",
       "    </tr>\n",
       "    <tr>\n",
       "      <th>26</th>\n",
       "      <td>adb shell pm uninstall --user 0com.miui.voicea...</td>\n",
       "    </tr>\n",
       "    <tr>\n",
       "      <th>27</th>\n",
       "      <td>adb shell pm uninstall --user 0com.miui.fm</td>\n",
       "    </tr>\n",
       "    <tr>\n",
       "      <th>28</th>\n",
       "      <td>adb shell pm uninstall --user 0com.miui.toucha...</td>\n",
       "    </tr>\n",
       "    <tr>\n",
       "      <th>29</th>\n",
       "      <td>adb shell pm uninstall --user 0com.android.cel...</td>\n",
       "    </tr>\n",
       "    <tr>\n",
       "      <th>30</th>\n",
       "      <td>adb shell pm uninstall --user 0com.xiaomi.mitunes</td>\n",
       "    </tr>\n",
       "    <tr>\n",
       "      <th>31</th>\n",
       "      <td>adb shell pm uninstall --user 0com.xiaomi.pass</td>\n",
       "    </tr>\n",
       "    <tr>\n",
       "      <th>32</th>\n",
       "      <td>adb shell pm uninstall --user 0com.android.the...</td>\n",
       "    </tr>\n",
       "    <tr>\n",
       "      <th>33</th>\n",
       "      <td>adb shell pm uninstall --user 0com.android.wal...</td>\n",
       "    </tr>\n",
       "    <tr>\n",
       "      <th>34</th>\n",
       "      <td>adb shell pm uninstall --user 0com.android.wal...</td>\n",
       "    </tr>\n",
       "    <tr>\n",
       "      <th>35</th>\n",
       "      <td>adb shell pm uninstall --user 0com.miui.klo.bu...</td>\n",
       "    </tr>\n",
       "  </tbody>\n",
       "</table>\n",
       "</div>"
      ],
      "text/plain": [
       "                                                 col1\n",
       "0   adb shell pm uninstall --user 0com.miui.system...\n",
       "1   adb shell pm uninstall --user 0com.miui.analytics\n",
       "2   adb shell pm uninstall --user 0com.xiaomi.game...\n",
       "3   adb shell pm uninstall --user 0com.xiaomi.game...\n",
       "4   adb shell pm uninstall --user 0com.sohu.inputm...\n",
       "5   adb shell pm uninstall --user 0com.baidu.input_mi\n",
       "6      adb shell pm uninstall --user 0com.miui.player\n",
       "7       adb shell pm uninstall --user 0com.miui.video\n",
       "8       adb shell pm uninstall --user 0com.miui.notes\n",
       "9   adb shell pm uninstall --user 0com.miui.transl...\n",
       "10  adb shell pm uninstall --user 0com.miui.transl...\n",
       "11   adb shell pm uninstall --user 0com.android.email\n",
       "12  adb shell pm uninstall --user 0com.xiaomi.scanner\n",
       "13     adb shell pm uninstall --user 0com.miui.hybrid\n",
       "14  adb shell pm uninstall --user 0com.miui.bugreport\n",
       "15  adb shell pm uninstall --user 0com.milink.service\n",
       "16  adb shell pm uninstall --user 0com.android.bro...\n",
       "17    adb shell pm uninstall --user 0com.miui.gallery\n",
       "18  adb shell pm uninstall --user 0com.miui.yellow...\n",
       "19   adb shell pm uninstall --user 0com.xiaomi.midrop\n",
       "20  adb shell pm uninstall --user 0com.miui.virtua...\n",
       "21  adb shell pm uninstall --user 0com.xiaomi.payment\n",
       "22    adb shell pm uninstall --user 0com.mipay.wallet\n",
       "23  adb shell pm uninstall --user 0com.android.sou...\n",
       "24  adb shell pm uninstall --user 0com.miui.screen...\n",
       "25  adb shell pm uninstall --user 0com.android.wal...\n",
       "26  adb shell pm uninstall --user 0com.miui.voicea...\n",
       "27         adb shell pm uninstall --user 0com.miui.fm\n",
       "28  adb shell pm uninstall --user 0com.miui.toucha...\n",
       "29  adb shell pm uninstall --user 0com.android.cel...\n",
       "30  adb shell pm uninstall --user 0com.xiaomi.mitunes\n",
       "31     adb shell pm uninstall --user 0com.xiaomi.pass\n",
       "32  adb shell pm uninstall --user 0com.android.the...\n",
       "33  adb shell pm uninstall --user 0com.android.wal...\n",
       "34  adb shell pm uninstall --user 0com.android.wal...\n",
       "35  adb shell pm uninstall --user 0com.miui.klo.bu..."
      ]
     },
     "execution_count": 35,
     "metadata": {},
     "output_type": "execute_result"
    }
   ],
   "source": [
    "df"
   ]
  },
  {
   "cell_type": "code",
   "execution_count": 37,
   "id": "d60ade7d",
   "metadata": {},
   "outputs": [],
   "source": [
    "df.to_csv(\"./Files/bacch_adb_uninstall.txt\",sep=\"\\n\", index=False)"
   ]
  },
  {
   "cell_type": "code",
   "execution_count": null,
   "id": "6f80066b",
   "metadata": {},
   "outputs": [],
   "source": []
  }
 ],
 "metadata": {
  "kernelspec": {
   "display_name": "Python 3 (ipykernel)",
   "language": "python",
   "name": "python3"
  },
  "language_info": {
   "codemirror_mode": {
    "name": "ipython",
    "version": 3
   },
   "file_extension": ".py",
   "mimetype": "text/x-python",
   "name": "python",
   "nbconvert_exporter": "python",
   "pygments_lexer": "ipython3",
   "version": "3.9.13"
  }
 },
 "nbformat": 4,
 "nbformat_minor": 5
}
