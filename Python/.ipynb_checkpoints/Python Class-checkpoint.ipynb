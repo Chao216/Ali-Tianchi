{
 "cells": [
  {
   "cell_type": "code",
   "execution_count": 1,
   "id": "9e4d727a",
   "metadata": {},
   "outputs": [],
   "source": [
    "class Dog:\n",
    "    def __init__(self,name,age):\n",
    "        self.name = name\n",
    "        self.age = age\n",
    "    \n",
    "    def greeting(self):\n",
    "        print(f\"hello, my name is {self.name}\")\n",
    "    def answering(self):\n",
    "        print(f\"I am {self.age} years old.\")\n",
    "huahua = Dog(\"Huahua\",3)"
   ]
  },
  {
   "cell_type": "code",
   "execution_count": 3,
   "id": "6ce4cbca",
   "metadata": {},
   "outputs": [
    {
     "data": {
      "text/plain": [
       "<__main__.Dog at 0x1f146d4d910>"
      ]
     },
     "execution_count": 3,
     "metadata": {},
     "output_type": "execute_result"
    }
   ],
   "source": [
    "huahua"
   ]
  },
  {
   "cell_type": "code",
   "execution_count": 5,
   "id": "b807fa35",
   "metadata": {},
   "outputs": [
    {
     "data": {
      "text/plain": [
       "'Huahua'"
      ]
     },
     "execution_count": 5,
     "metadata": {},
     "output_type": "execute_result"
    }
   ],
   "source": [
    "huahua.name"
   ]
  },
  {
   "cell_type": "code",
   "execution_count": 6,
   "id": "0daef9f6",
   "metadata": {},
   "outputs": [
    {
     "data": {
      "text/plain": [
       "3"
      ]
     },
     "execution_count": 6,
     "metadata": {},
     "output_type": "execute_result"
    }
   ],
   "source": [
    "huahua.age"
   ]
  },
  {
   "cell_type": "code",
   "execution_count": 7,
   "id": "3ac33666",
   "metadata": {},
   "outputs": [
    {
     "name": "stdout",
     "output_type": "stream",
     "text": [
      "hello, my name is Huahua\n"
     ]
    }
   ],
   "source": [
    "huahua.greeting()"
   ]
  },
  {
   "cell_type": "code",
   "execution_count": 8,
   "id": "dd8ae32e",
   "metadata": {},
   "outputs": [
    {
     "name": "stdout",
     "output_type": "stream",
     "text": [
      "I am 3 years old.\n"
     ]
    }
   ],
   "source": [
    "huahua.answering()"
   ]
  },
  {
   "cell_type": "code",
   "execution_count": 9,
   "id": "8c42a6c3",
   "metadata": {},
   "outputs": [],
   "source": [
    "ella, alex, tommy = Dog(\"Ella\",2),Dog(\"Alex\",5),Dog(\"Tommy\",3)"
   ]
  },
  {
   "cell_type": "code",
   "execution_count": 10,
   "id": "53d8eb56",
   "metadata": {},
   "outputs": [
    {
     "name": "stdout",
     "output_type": "stream",
     "text": [
      "I am 5 years old.\n"
     ]
    }
   ],
   "source": [
    "alex.answering()"
   ]
  },
  {
   "cell_type": "code",
   "execution_count": 11,
   "id": "bd49a4ff",
   "metadata": {},
   "outputs": [
    {
     "name": "stdout",
     "output_type": "stream",
     "text": [
      "hello, my name is Tommy\n"
     ]
    }
   ],
   "source": [
    "tommy.greeting()"
   ]
  },
  {
   "cell_type": "code",
   "execution_count": 20,
   "id": "ede8d2c5",
   "metadata": {},
   "outputs": [],
   "source": [
    "class Car:\n",
    "    def __init__(self,maker,model,year):\n",
    "        self.maker = maker\n",
    "        self.model =model\n",
    "        self.year = year\n",
    "    def describe_car(self):\n",
    "        long_name = f\"{self.maker } {self.model } {self.year}\"\n",
    "        return long_name\n",
    "        \n",
    "my_car = Car(\"Benz\",\"A9\",2019)"
   ]
  },
  {
   "cell_type": "code",
   "execution_count": 21,
   "id": "e4445ae6",
   "metadata": {},
   "outputs": [
    {
     "data": {
      "text/plain": [
       "'A9'"
      ]
     },
     "execution_count": 21,
     "metadata": {},
     "output_type": "execute_result"
    }
   ],
   "source": [
    "my_car.model"
   ]
  },
  {
   "cell_type": "code",
   "execution_count": 23,
   "id": "83d50b1a",
   "metadata": {},
   "outputs": [
    {
     "name": "stdout",
     "output_type": "stream",
     "text": [
      "Benz A9 2019\n"
     ]
    }
   ],
   "source": [
    "print(my_car.describe_car())"
   ]
  },
  {
   "cell_type": "markdown",
   "id": "2d24a465",
   "metadata": {},
   "source": [
    "## 添加默认属性"
   ]
  },
  {
   "cell_type": "code",
   "execution_count": 24,
   "id": "4d758dd0",
   "metadata": {},
   "outputs": [],
   "source": [
    "class Car:\n",
    "    def __init__(self,maker,model,year):\n",
    "        self.maker = maker\n",
    "        self.model =model\n",
    "        self.year = year\n",
    "        self.odometer = 0\n",
    "    def describe_car(self):\n",
    "        long_name = f\"{self.maker } {self.model } {self.year}\"\n",
    "        return long_name\n",
    "    def read_odometer(self):\n",
    "        print(f\"this car has been driving for {self.odometer} kilometers.\")\n",
    "        \n",
    "my_car = Car(\"Benz\",\"A9\",2019)"
   ]
  },
  {
   "cell_type": "code",
   "execution_count": 25,
   "id": "11518cf9",
   "metadata": {},
   "outputs": [
    {
     "name": "stdout",
     "output_type": "stream",
     "text": [
      "this car has been driving for 0 kilometers.\n"
     ]
    }
   ],
   "source": [
    "my_car.read_odometer()"
   ]
  },
  {
   "cell_type": "markdown",
   "id": "cd0e3fc8",
   "metadata": {},
   "source": [
    "# 修改属性的值"
   ]
  },
  {
   "cell_type": "markdown",
   "id": "99f4270b",
   "metadata": {},
   "source": [
    "## a 直接修改"
   ]
  },
  {
   "cell_type": "code",
   "execution_count": 26,
   "id": "84008a74",
   "metadata": {},
   "outputs": [],
   "source": [
    "class Car:\n",
    "    def __init__(self,maker,model,year):\n",
    "        self.maker = maker\n",
    "        self.model =model\n",
    "        self.year = year\n",
    "        self.odometer = 0\n",
    "    def describe_car(self):\n",
    "        long_name = f\"{self.maker } {self.model } {self.year}\"\n",
    "        return long_name\n",
    "    def read_odometer(self):\n",
    "        print(f\"this car has been driving for {self.odometer} kilometers.\")\n",
    "        \n",
    "my_car = Car(\"Benz\",\"A9\",2019)"
   ]
  },
  {
   "cell_type": "code",
   "execution_count": 27,
   "id": "4037f89f",
   "metadata": {},
   "outputs": [
    {
     "data": {
      "text/plain": [
       "0"
      ]
     },
     "execution_count": 27,
     "metadata": {},
     "output_type": "execute_result"
    }
   ],
   "source": [
    "my_car.odometer"
   ]
  },
  {
   "cell_type": "code",
   "execution_count": 28,
   "id": "5474f749",
   "metadata": {},
   "outputs": [],
   "source": [
    "my_car.odometer = 100"
   ]
  },
  {
   "cell_type": "code",
   "execution_count": 29,
   "id": "40b76691",
   "metadata": {},
   "outputs": [
    {
     "data": {
      "text/plain": [
       "100"
      ]
     },
     "execution_count": 29,
     "metadata": {},
     "output_type": "execute_result"
    }
   ],
   "source": [
    "my_car.odometer"
   ]
  },
  {
   "cell_type": "code",
   "execution_count": 30,
   "id": "4eaa6693",
   "metadata": {},
   "outputs": [
    {
     "name": "stdout",
     "output_type": "stream",
     "text": [
      "this car has been driving for 100 kilometers.\n"
     ]
    }
   ],
   "source": [
    "my_car.read_odometer()"
   ]
  },
  {
   "cell_type": "markdown",
   "id": "a6cc10f2",
   "metadata": {},
   "source": [
    "## 通过类方法更改"
   ]
  },
  {
   "cell_type": "code",
   "execution_count": 38,
   "id": "418c7d02",
   "metadata": {},
   "outputs": [],
   "source": [
    "class Car:\n",
    "    def __init__(self,maker,model,year):\n",
    "        self.maker = maker\n",
    "        self.model =model\n",
    "        self.year = year\n",
    "        self.odometer = 0\n",
    "    def describe_car(self):\n",
    "        long_name = f\"{self.maker } {self.model } {self.year}\"\n",
    "        return long_name\n",
    "    def read_odometer(self):\n",
    "        print(f\"this car has been driving for {self.odometer} kilometers.\")\n",
    "    def update_odometer(self,milage):\n",
    "        if milage >= self.odometer:\n",
    "            self.odometer = milage\n",
    "        else:\n",
    "            print(\"You are not allowed to roll back the odometer! \")\n",
    "        \n",
    "my_car = Car(\"Benz\",\"A9\",2019)"
   ]
  },
  {
   "cell_type": "code",
   "execution_count": 39,
   "id": "d5dfe3c0",
   "metadata": {},
   "outputs": [
    {
     "name": "stdout",
     "output_type": "stream",
     "text": [
      "this car has been driving for 0 kilometers.\n"
     ]
    }
   ],
   "source": [
    "my_car.read_odometer()"
   ]
  },
  {
   "cell_type": "code",
   "execution_count": 40,
   "id": "73526ac7",
   "metadata": {},
   "outputs": [],
   "source": [
    "my_car.update_odometer(693)"
   ]
  },
  {
   "cell_type": "code",
   "execution_count": 41,
   "id": "ba403e31",
   "metadata": {},
   "outputs": [
    {
     "name": "stdout",
     "output_type": "stream",
     "text": [
      "this car has been driving for 693 kilometers.\n"
     ]
    }
   ],
   "source": [
    "my_car.read_odometer()"
   ]
  },
  {
   "cell_type": "code",
   "execution_count": 42,
   "id": "a01bbddc",
   "metadata": {},
   "outputs": [
    {
     "name": "stdout",
     "output_type": "stream",
     "text": [
      "You are not allowed to roll back the odometer! \n"
     ]
    }
   ],
   "source": [
    "my_car.update_odometer(100)"
   ]
  },
  {
   "cell_type": "code",
   "execution_count": 43,
   "id": "afb9b0dd",
   "metadata": {},
   "outputs": [
    {
     "name": "stdout",
     "output_type": "stream",
     "text": [
      "You are not allowed to roll back the odometer! \n"
     ]
    }
   ],
   "source": [
    "my_car.update_odometer(500)"
   ]
  },
  {
   "cell_type": "code",
   "execution_count": 44,
   "id": "6f173745",
   "metadata": {},
   "outputs": [],
   "source": [
    "my_car.update_odometer(700)"
   ]
  },
  {
   "cell_type": "code",
   "execution_count": 45,
   "id": "86242d8b",
   "metadata": {},
   "outputs": [
    {
     "name": "stdout",
     "output_type": "stream",
     "text": [
      "this car has been driving for 700 kilometers.\n"
     ]
    }
   ],
   "source": [
    "my_car.read_odometer()"
   ]
  },
  {
   "cell_type": "markdown",
   "id": "7af9d3fb",
   "metadata": {},
   "source": [
    "## c 通过方法递增"
   ]
  },
  {
   "cell_type": "code",
   "execution_count": 46,
   "id": "cc488552",
   "metadata": {},
   "outputs": [],
   "source": [
    "class Car:\n",
    "    def __init__(self,maker,model,year):\n",
    "        self.maker = maker\n",
    "        self.model =model\n",
    "        self.year = year\n",
    "        self.odometer = 0\n",
    "    def describe_car(self):\n",
    "        long_name = f\"{self.maker } {self.model } {self.year}\"\n",
    "        return long_name\n",
    "    def read_odometer(self):\n",
    "        print(f\"this car has been driving for {self.odometer} kilometers.\")\n",
    "    def update_odometer(self,milage):\n",
    "        if milage >= self.odometer:\n",
    "            self.odometer = milage\n",
    "        else:\n",
    "            print(\"You are not allowed to roll back the odometer! \")\n",
    "    def increase_odometer(self,delta):\n",
    "        if delta >= 0:\n",
    "            self.odometer += delta\n",
    "        else:\n",
    "            print(\"delta must be non-negative !\")\n",
    "        \n",
    "my_car = Car(\"Benz\",\"A9\",2019)"
   ]
  },
  {
   "cell_type": "code",
   "execution_count": 47,
   "id": "7d039391",
   "metadata": {},
   "outputs": [
    {
     "name": "stdout",
     "output_type": "stream",
     "text": [
      "this car has been driving for 0 kilometers.\n"
     ]
    }
   ],
   "source": [
    "my_car.read_odometer()"
   ]
  },
  {
   "cell_type": "code",
   "execution_count": 49,
   "id": "a7b4fd75",
   "metadata": {},
   "outputs": [
    {
     "name": "stdout",
     "output_type": "stream",
     "text": [
      "this car has been driving for 20 kilometers.\n"
     ]
    }
   ],
   "source": [
    "my_car.increase_odometer(10)\n",
    "my_car.read_odometer()"
   ]
  },
  {
   "cell_type": "code",
   "execution_count": 50,
   "id": "29c35ae0",
   "metadata": {},
   "outputs": [
    {
     "name": "stdout",
     "output_type": "stream",
     "text": [
      "this car has been driving for 5020 kilometers.\n"
     ]
    }
   ],
   "source": [
    "my_car.increase_odometer(5000)\n",
    "my_car.read_odometer()"
   ]
  },
  {
   "cell_type": "code",
   "execution_count": 51,
   "id": "3510dd7e",
   "metadata": {},
   "outputs": [
    {
     "name": "stdout",
     "output_type": "stream",
     "text": [
      "delta must be non-negative !\n",
      "this car has been driving for 5020 kilometers.\n"
     ]
    }
   ],
   "source": [
    "my_car.increase_odometer(-20)\n",
    "my_car.read_odometer()"
   ]
  },
  {
   "cell_type": "code",
   "execution_count": 74,
   "id": "2f84ff02",
   "metadata": {},
   "outputs": [],
   "source": [
    "class EV(Car):\n",
    "    def __init__(self,maker,model,year,price):\n",
    "        super().__init__(maker,model,year)\n",
    "        self.price = price\n",
    "    def change_price(self,newprice):\n",
    "        self.price=newprice\n",
    "        "
   ]
  },
  {
   "cell_type": "code",
   "execution_count": 75,
   "id": "abb0a0d6",
   "metadata": {},
   "outputs": [],
   "source": [
    "my_ev = EV(\"Wuling\",\"A8\",2023,27999)"
   ]
  },
  {
   "cell_type": "code",
   "execution_count": 76,
   "id": "42d21d9b",
   "metadata": {},
   "outputs": [
    {
     "data": {
      "text/plain": [
       "'Wuling'"
      ]
     },
     "execution_count": 76,
     "metadata": {},
     "output_type": "execute_result"
    }
   ],
   "source": [
    "my_ev.maker"
   ]
  },
  {
   "cell_type": "code",
   "execution_count": 77,
   "id": "7bdcd8df",
   "metadata": {},
   "outputs": [
    {
     "data": {
      "text/plain": [
       "'A8'"
      ]
     },
     "execution_count": 77,
     "metadata": {},
     "output_type": "execute_result"
    }
   ],
   "source": [
    "my_ev.model"
   ]
  },
  {
   "cell_type": "code",
   "execution_count": 78,
   "id": "19cbd7c9",
   "metadata": {},
   "outputs": [
    {
     "data": {
      "text/plain": [
       "2023"
      ]
     },
     "execution_count": 78,
     "metadata": {},
     "output_type": "execute_result"
    }
   ],
   "source": [
    "my_ev.year"
   ]
  },
  {
   "cell_type": "code",
   "execution_count": 79,
   "id": "3d9b4c9e",
   "metadata": {},
   "outputs": [
    {
     "data": {
      "text/plain": [
       "27999"
      ]
     },
     "execution_count": 79,
     "metadata": {},
     "output_type": "execute_result"
    }
   ],
   "source": [
    "my_ev.price"
   ]
  },
  {
   "cell_type": "code",
   "execution_count": 80,
   "id": "d3231a3d",
   "metadata": {},
   "outputs": [
    {
     "data": {
      "text/plain": [
       "'Wuling A8 2023'"
      ]
     },
     "execution_count": 80,
     "metadata": {},
     "output_type": "execute_result"
    }
   ],
   "source": [
    "my_ev.describe_car()"
   ]
  },
  {
   "cell_type": "code",
   "execution_count": 81,
   "id": "59874c82",
   "metadata": {},
   "outputs": [
    {
     "name": "stdout",
     "output_type": "stream",
     "text": [
      "this car has been driving for 0 kilometers.\n"
     ]
    }
   ],
   "source": [
    "my_ev.read_odometer()"
   ]
  },
  {
   "cell_type": "code",
   "execution_count": 82,
   "id": "de1b0848",
   "metadata": {},
   "outputs": [],
   "source": [
    "my_ev.update_odometer(10086)"
   ]
  },
  {
   "cell_type": "code",
   "execution_count": 83,
   "id": "6b90677d",
   "metadata": {},
   "outputs": [
    {
     "name": "stdout",
     "output_type": "stream",
     "text": [
      "this car has been driving for 10086 kilometers.\n"
     ]
    }
   ],
   "source": [
    "my_ev.read_odometer()"
   ]
  },
  {
   "cell_type": "code",
   "execution_count": 84,
   "id": "2eb04391",
   "metadata": {},
   "outputs": [],
   "source": [
    "my_ev.increase_odometer(100)"
   ]
  },
  {
   "cell_type": "code",
   "execution_count": 85,
   "id": "8b275c3b",
   "metadata": {},
   "outputs": [
    {
     "name": "stdout",
     "output_type": "stream",
     "text": [
      "this car has been driving for 10186 kilometers.\n"
     ]
    }
   ],
   "source": [
    "my_ev.read_odometer()"
   ]
  },
  {
   "cell_type": "code",
   "execution_count": 86,
   "id": "817e01d6",
   "metadata": {},
   "outputs": [
    {
     "data": {
      "text/plain": [
       "27999"
      ]
     },
     "execution_count": 86,
     "metadata": {},
     "output_type": "execute_result"
    }
   ],
   "source": [
    "my_ev.price"
   ]
  },
  {
   "cell_type": "code",
   "execution_count": 87,
   "id": "0fb8ea0f",
   "metadata": {},
   "outputs": [],
   "source": [
    "my_ev.change_price(998)"
   ]
  },
  {
   "cell_type": "code",
   "execution_count": 88,
   "id": "d81d586d",
   "metadata": {},
   "outputs": [
    {
     "data": {
      "text/plain": [
       "998"
      ]
     },
     "execution_count": 88,
     "metadata": {},
     "output_type": "execute_result"
    }
   ],
   "source": [
    "my_ev.price"
   ]
  },
  {
   "cell_type": "code",
   "execution_count": 89,
   "id": "31b2e5ac",
   "metadata": {},
   "outputs": [],
   "source": [
    "my_ev.change_price(8008208820)"
   ]
  },
  {
   "cell_type": "code",
   "execution_count": 90,
   "id": "eda13e09",
   "metadata": {},
   "outputs": [
    {
     "data": {
      "text/plain": [
       "8008208820"
      ]
     },
     "execution_count": 90,
     "metadata": {},
     "output_type": "execute_result"
    }
   ],
   "source": [
    "my_ev.price"
   ]
  },
  {
   "cell_type": "code",
   "execution_count": null,
   "id": "4c0c26ca",
   "metadata": {},
   "outputs": [],
   "source": []
  }
 ],
 "metadata": {
  "kernelspec": {
   "display_name": "Python 3 (ipykernel)",
   "language": "python",
   "name": "python3"
  },
  "language_info": {
   "codemirror_mode": {
    "name": "ipython",
    "version": 3
   },
   "file_extension": ".py",
   "mimetype": "text/x-python",
   "name": "python",
   "nbconvert_exporter": "python",
   "pygments_lexer": "ipython3",
   "version": "3.9.13"
  }
 },
 "nbformat": 4,
 "nbformat_minor": 5
}
