{
 "cells": [
  {
   "cell_type": "code",
   "execution_count": 1,
   "id": "d3188756",
   "metadata": {},
   "outputs": [],
   "source": [
    "class Dog:\n",
    "    def __init__(self,name,age):\n",
    "        self.name = name\n",
    "        self.age = age\n",
    "    \n",
    "    def greeting(self):\n",
    "        print(f\"hello, my name is {self.name}\")\n",
    "    def answering(self):\n",
    "        print(f\"I am {self.age} years old.\")\n",
    "huahua = Dog(\"Huahua\",3)"
   ]
  },
  {
   "cell_type": "code",
   "execution_count": 3,
   "id": "4d34df2d",
   "metadata": {},
   "outputs": [
    {
     "data": {
      "text/plain": [
       "<__main__.Dog at 0x1f146d4d910>"
      ]
     },
     "execution_count": 3,
     "metadata": {},
     "output_type": "execute_result"
    }
   ],
   "source": [
    "huahua"
   ]
  },
  {
   "cell_type": "code",
   "execution_count": 5,
   "id": "c600f906",
   "metadata": {},
   "outputs": [
    {
     "data": {
      "text/plain": [
       "'Huahua'"
      ]
     },
     "execution_count": 5,
     "metadata": {},
     "output_type": "execute_result"
    }
   ],
   "source": [
    "huahua.name"
   ]
  },
  {
   "cell_type": "code",
   "execution_count": 6,
   "id": "de8e2578",
   "metadata": {},
   "outputs": [
    {
     "data": {
      "text/plain": [
       "3"
      ]
     },
     "execution_count": 6,
     "metadata": {},
     "output_type": "execute_result"
    }
   ],
   "source": [
    "huahua.age"
   ]
  },
  {
   "cell_type": "code",
   "execution_count": 7,
   "id": "b76dd407",
   "metadata": {},
   "outputs": [
    {
     "name": "stdout",
     "output_type": "stream",
     "text": [
      "hello, my name is Huahua\n"
     ]
    }
   ],
   "source": [
    "huahua.greeting()"
   ]
  },
  {
   "cell_type": "code",
   "execution_count": 8,
   "id": "be8d6476",
   "metadata": {},
   "outputs": [
    {
     "name": "stdout",
     "output_type": "stream",
     "text": [
      "I am 3 years old.\n"
     ]
    }
   ],
   "source": [
    "huahua.answering()"
   ]
  },
  {
   "cell_type": "code",
   "execution_count": 9,
   "id": "2a70c652",
   "metadata": {},
   "outputs": [],
   "source": [
    "ella, alex, tommy = Dog(\"Ella\",2),Dog(\"Alex\",5),Dog(\"Tommy\",3)"
   ]
  },
  {
   "cell_type": "code",
   "execution_count": 10,
   "id": "d78869c7",
   "metadata": {},
   "outputs": [
    {
     "name": "stdout",
     "output_type": "stream",
     "text": [
      "I am 5 years old.\n"
     ]
    }
   ],
   "source": [
    "alex.answering()"
   ]
  },
  {
   "cell_type": "code",
   "execution_count": 11,
   "id": "0abe06c5",
   "metadata": {},
   "outputs": [
    {
     "name": "stdout",
     "output_type": "stream",
     "text": [
      "hello, my name is Tommy\n"
     ]
    }
   ],
   "source": [
    "tommy.greeting()"
   ]
  },
  {
   "cell_type": "code",
   "execution_count": 20,
   "id": "956edd1b",
   "metadata": {},
   "outputs": [],
   "source": [
    "class Car:\n",
    "    def __init__(self,maker,model,year):\n",
    "        self.maker = maker\n",
    "        self.model =model\n",
    "        self.year = year\n",
    "    def describe_car(self):\n",
    "        long_name = f\"{self.maker } {self.model } {self.year}\"\n",
    "        return long_name\n",
    "        \n",
    "my_car = Car(\"Benz\",\"A9\",2019)"
   ]
  },
  {
   "cell_type": "code",
   "execution_count": 21,
   "id": "d27a612c",
   "metadata": {},
   "outputs": [
    {
     "data": {
      "text/plain": [
       "'A9'"
      ]
     },
     "execution_count": 21,
     "metadata": {},
     "output_type": "execute_result"
    }
   ],
   "source": [
    "my_car.model"
   ]
  },
  {
   "cell_type": "code",
   "execution_count": 23,
   "id": "f2f3094f",
   "metadata": {},
   "outputs": [
    {
     "name": "stdout",
     "output_type": "stream",
     "text": [
      "Benz A9 2019\n"
     ]
    }
   ],
   "source": [
    "print(my_car.describe_car())"
   ]
  },
  {
   "cell_type": "markdown",
   "id": "2e276e23",
   "metadata": {},
   "source": [
    "## 添加默认属性"
   ]
  },
  {
   "cell_type": "code",
   "execution_count": 24,
   "id": "1f045de7",
   "metadata": {},
   "outputs": [],
   "source": [
    "class Car:\n",
    "    def __init__(self,maker,model,year):\n",
    "        self.maker = maker\n",
    "        self.model =model\n",
    "        self.year = year\n",
    "        self.odometer = 0\n",
    "    def describe_car(self):\n",
    "        long_name = f\"{self.maker } {self.model } {self.year}\"\n",
    "        return long_name\n",
    "    def read_odometer(self):\n",
    "        print(f\"this car has been driving for {self.odometer} kilometers.\")\n",
    "        \n",
    "my_car = Car(\"Benz\",\"A9\",2019)"
   ]
  },
  {
   "cell_type": "code",
   "execution_count": 25,
   "id": "08174160",
   "metadata": {},
   "outputs": [
    {
     "name": "stdout",
     "output_type": "stream",
     "text": [
      "this car has been driving for 0 kilometers.\n"
     ]
    }
   ],
   "source": [
    "my_car.read_odometer()"
   ]
  },
  {
   "cell_type": "markdown",
   "id": "06eb1432",
   "metadata": {},
   "source": [
    "# 修改属性的值"
   ]
  },
  {
   "cell_type": "markdown",
   "id": "c9303ce6",
   "metadata": {},
   "source": [
    "## a 直接修改"
   ]
  },
  {
   "cell_type": "code",
   "execution_count": 26,
   "id": "dc5f677a",
   "metadata": {},
   "outputs": [],
   "source": [
    "class Car:\n",
    "    def __init__(self,maker,model,year):\n",
    "        self.maker = maker\n",
    "        self.model =model\n",
    "        self.year = year\n",
    "        self.odometer = 0\n",
    "    def describe_car(self):\n",
    "        long_name = f\"{self.maker } {self.model } {self.year}\"\n",
    "        return long_name\n",
    "    def read_odometer(self):\n",
    "        print(f\"this car has been driving for {self.odometer} kilometers.\")\n",
    "        \n",
    "my_car = Car(\"Benz\",\"A9\",2019)"
   ]
  },
  {
   "cell_type": "code",
   "execution_count": 27,
   "id": "56174e14",
   "metadata": {},
   "outputs": [
    {
     "data": {
      "text/plain": [
       "0"
      ]
     },
     "execution_count": 27,
     "metadata": {},
     "output_type": "execute_result"
    }
   ],
   "source": [
    "my_car.odometer"
   ]
  },
  {
   "cell_type": "code",
   "execution_count": 28,
   "id": "8126f698",
   "metadata": {},
   "outputs": [],
   "source": [
    "my_car.odometer = 100"
   ]
  },
  {
   "cell_type": "code",
   "execution_count": 29,
   "id": "83d6dc71",
   "metadata": {},
   "outputs": [
    {
     "data": {
      "text/plain": [
       "100"
      ]
     },
     "execution_count": 29,
     "metadata": {},
     "output_type": "execute_result"
    }
   ],
   "source": [
    "my_car.odometer"
   ]
  },
  {
   "cell_type": "code",
   "execution_count": 30,
   "id": "ad7391f9",
   "metadata": {},
   "outputs": [
    {
     "name": "stdout",
     "output_type": "stream",
     "text": [
      "this car has been driving for 100 kilometers.\n"
     ]
    }
   ],
   "source": [
    "my_car.read_odometer()"
   ]
  },
  {
   "cell_type": "markdown",
   "id": "437785ac",
   "metadata": {},
   "source": [
    "## 通过类方法更改"
   ]
  },
  {
   "cell_type": "code",
   "execution_count": 38,
   "id": "9a1e893e",
   "metadata": {},
   "outputs": [],
   "source": [
    "class Car:\n",
    "    def __init__(self,maker,model,year):\n",
    "        self.maker = maker\n",
    "        self.model =model\n",
    "        self.year = year\n",
    "        self.odometer = 0\n",
    "    def describe_car(self):\n",
    "        long_name = f\"{self.maker } {self.model } {self.year}\"\n",
    "        return long_name\n",
    "    def read_odometer(self):\n",
    "        print(f\"this car has been driving for {self.odometer} kilometers.\")\n",
    "    def update_odometer(self,milage):\n",
    "        if milage >= self.odometer:\n",
    "            self.odometer = milage\n",
    "        else:\n",
    "            print(\"You are not allowed to roll back the odometer! \")\n",
    "        \n",
    "my_car = Car(\"Benz\",\"A9\",2019)"
   ]
  },
  {
   "cell_type": "code",
   "execution_count": 39,
   "id": "7dd90967",
   "metadata": {},
   "outputs": [
    {
     "name": "stdout",
     "output_type": "stream",
     "text": [
      "this car has been driving for 0 kilometers.\n"
     ]
    }
   ],
   "source": [
    "my_car.read_odometer()"
   ]
  },
  {
   "cell_type": "code",
   "execution_count": 40,
   "id": "f1bb4c03",
   "metadata": {},
   "outputs": [],
   "source": [
    "my_car.update_odometer(693)"
   ]
  },
  {
   "cell_type": "code",
   "execution_count": 41,
   "id": "b00b23f6",
   "metadata": {},
   "outputs": [
    {
     "name": "stdout",
     "output_type": "stream",
     "text": [
      "this car has been driving for 693 kilometers.\n"
     ]
    }
   ],
   "source": [
    "my_car.read_odometer()"
   ]
  },
  {
   "cell_type": "code",
   "execution_count": 42,
   "id": "54b7825c",
   "metadata": {},
   "outputs": [
    {
     "name": "stdout",
     "output_type": "stream",
     "text": [
      "You are not allowed to roll back the odometer! \n"
     ]
    }
   ],
   "source": [
    "my_car.update_odometer(100)"
   ]
  },
  {
   "cell_type": "code",
   "execution_count": 43,
   "id": "3b73a0e8",
   "metadata": {},
   "outputs": [
    {
     "name": "stdout",
     "output_type": "stream",
     "text": [
      "You are not allowed to roll back the odometer! \n"
     ]
    }
   ],
   "source": [
    "my_car.update_odometer(500)"
   ]
  },
  {
   "cell_type": "code",
   "execution_count": 44,
   "id": "6d54ce32",
   "metadata": {},
   "outputs": [],
   "source": [
    "my_car.update_odometer(700)"
   ]
  },
  {
   "cell_type": "code",
   "execution_count": 45,
   "id": "ee8dda00",
   "metadata": {},
   "outputs": [
    {
     "name": "stdout",
     "output_type": "stream",
     "text": [
      "this car has been driving for 700 kilometers.\n"
     ]
    }
   ],
   "source": [
    "my_car.read_odometer()"
   ]
  },
  {
   "cell_type": "markdown",
   "id": "1843c8f3",
   "metadata": {},
   "source": [
    "## c 通过方法递增"
   ]
  },
  {
   "cell_type": "code",
   "execution_count": 46,
   "id": "e4ca0f48",
   "metadata": {},
   "outputs": [],
   "source": [
    "class Car:\n",
    "    def __init__(self,maker,model,year):\n",
    "        self.maker = maker\n",
    "        self.model =model\n",
    "        self.year = year\n",
    "        self.odometer = 0\n",
    "    def describe_car(self):\n",
    "        long_name = f\"{self.maker } {self.model } {self.year}\"\n",
    "        return long_name\n",
    "    def read_odometer(self):\n",
    "        print(f\"this car has been driving for {self.odometer} kilometers.\")\n",
    "    def update_odometer(self,milage):\n",
    "        if milage >= self.odometer:\n",
    "            self.odometer = milage\n",
    "        else:\n",
    "            print(\"You are not allowed to roll back the odometer! \")\n",
    "    def increase_odometer(self,delta):\n",
    "        if delta >= 0:\n",
    "            self.odometer += delta\n",
    "        else:\n",
    "            print(\"delta must be non-negative !\")\n",
    "        \n",
    "my_car = Car(\"Benz\",\"A9\",2019)"
   ]
  },
  {
   "cell_type": "code",
   "execution_count": 47,
   "id": "94231bf5",
   "metadata": {},
   "outputs": [
    {
     "name": "stdout",
     "output_type": "stream",
     "text": [
      "this car has been driving for 0 kilometers.\n"
     ]
    }
   ],
   "source": [
    "my_car.read_odometer()"
   ]
  },
  {
   "cell_type": "code",
   "execution_count": 49,
   "id": "a327bba2",
   "metadata": {},
   "outputs": [
    {
     "name": "stdout",
     "output_type": "stream",
     "text": [
      "this car has been driving for 20 kilometers.\n"
     ]
    }
   ],
   "source": [
    "my_car.increase_odometer(10)\n",
    "my_car.read_odometer()"
   ]
  },
  {
   "cell_type": "code",
   "execution_count": 50,
   "id": "c5747c5d",
   "metadata": {},
   "outputs": [
    {
     "name": "stdout",
     "output_type": "stream",
     "text": [
      "this car has been driving for 5020 kilometers.\n"
     ]
    }
   ],
   "source": [
    "my_car.increase_odometer(5000)\n",
    "my_car.read_odometer()"
   ]
  },
  {
   "cell_type": "code",
   "execution_count": 51,
   "id": "1da69999",
   "metadata": {},
   "outputs": [
    {
     "name": "stdout",
     "output_type": "stream",
     "text": [
      "delta must be non-negative !\n",
      "this car has been driving for 5020 kilometers.\n"
     ]
    }
   ],
   "source": [
    "my_car.increase_odometer(-20)\n",
    "my_car.read_odometer()"
   ]
  },
  {
   "cell_type": "code",
   "execution_count": 74,
   "id": "6c5728ab",
   "metadata": {},
   "outputs": [],
   "source": [
    "class EV(Car):\n",
    "    def __init__(self,maker,model,year,price):\n",
    "        super().__init__(maker,model,year)\n",
    "        self.price = price\n",
    "    def change_price(self,newprice):\n",
    "        self.price=newprice\n",
    "        "
   ]
  },
  {
   "cell_type": "code",
   "execution_count": 75,
   "id": "dbf50e26",
   "metadata": {},
   "outputs": [],
   "source": [
    "my_ev = EV(\"Wuling\",\"A8\",2023,27999)"
   ]
  },
  {
   "cell_type": "code",
   "execution_count": 76,
   "id": "876c672e",
   "metadata": {},
   "outputs": [
    {
     "data": {
      "text/plain": [
       "'Wuling'"
      ]
     },
     "execution_count": 76,
     "metadata": {},
     "output_type": "execute_result"
    }
   ],
   "source": [
    "my_ev.maker"
   ]
  },
  {
   "cell_type": "code",
   "execution_count": 77,
   "id": "1cc8e1b0",
   "metadata": {},
   "outputs": [
    {
     "data": {
      "text/plain": [
       "'A8'"
      ]
     },
     "execution_count": 77,
     "metadata": {},
     "output_type": "execute_result"
    }
   ],
   "source": [
    "my_ev.model"
   ]
  },
  {
   "cell_type": "code",
   "execution_count": 78,
   "id": "39d38069",
   "metadata": {},
   "outputs": [
    {
     "data": {
      "text/plain": [
       "2023"
      ]
     },
     "execution_count": 78,
     "metadata": {},
     "output_type": "execute_result"
    }
   ],
   "source": [
    "my_ev.year"
   ]
  },
  {
   "cell_type": "code",
   "execution_count": 79,
   "id": "923991b6",
   "metadata": {},
   "outputs": [
    {
     "data": {
      "text/plain": [
       "27999"
      ]
     },
     "execution_count": 79,
     "metadata": {},
     "output_type": "execute_result"
    }
   ],
   "source": [
    "my_ev.price"
   ]
  },
  {
   "cell_type": "code",
   "execution_count": 80,
   "id": "4c9ac315",
   "metadata": {},
   "outputs": [
    {
     "data": {
      "text/plain": [
       "'Wuling A8 2023'"
      ]
     },
     "execution_count": 80,
     "metadata": {},
     "output_type": "execute_result"
    }
   ],
   "source": [
    "my_ev.describe_car()"
   ]
  },
  {
   "cell_type": "code",
   "execution_count": 81,
   "id": "89693abf",
   "metadata": {},
   "outputs": [
    {
     "name": "stdout",
     "output_type": "stream",
     "text": [
      "this car has been driving for 0 kilometers.\n"
     ]
    }
   ],
   "source": [
    "my_ev.read_odometer()"
   ]
  },
  {
   "cell_type": "code",
   "execution_count": 82,
   "id": "5a54170f",
   "metadata": {},
   "outputs": [],
   "source": [
    "my_ev.update_odometer(10086)"
   ]
  },
  {
   "cell_type": "code",
   "execution_count": 83,
   "id": "7bcd9c3c",
   "metadata": {},
   "outputs": [
    {
     "name": "stdout",
     "output_type": "stream",
     "text": [
      "this car has been driving for 10086 kilometers.\n"
     ]
    }
   ],
   "source": [
    "my_ev.read_odometer()"
   ]
  },
  {
   "cell_type": "code",
   "execution_count": 84,
   "id": "6b4c4b26",
   "metadata": {},
   "outputs": [],
   "source": [
    "my_ev.increase_odometer(100)"
   ]
  },
  {
   "cell_type": "code",
   "execution_count": 85,
   "id": "d8cc2167",
   "metadata": {},
   "outputs": [
    {
     "name": "stdout",
     "output_type": "stream",
     "text": [
      "this car has been driving for 10186 kilometers.\n"
     ]
    }
   ],
   "source": [
    "my_ev.read_odometer()"
   ]
  },
  {
   "cell_type": "code",
   "execution_count": 86,
   "id": "a48c62c9",
   "metadata": {},
   "outputs": [
    {
     "data": {
      "text/plain": [
       "27999"
      ]
     },
     "execution_count": 86,
     "metadata": {},
     "output_type": "execute_result"
    }
   ],
   "source": [
    "my_ev.price"
   ]
  },
  {
   "cell_type": "code",
   "execution_count": 87,
   "id": "c2fb90be",
   "metadata": {},
   "outputs": [],
   "source": [
    "my_ev.change_price(998)"
   ]
  },
  {
   "cell_type": "code",
   "execution_count": 88,
   "id": "a11e5ad9",
   "metadata": {},
   "outputs": [
    {
     "data": {
      "text/plain": [
       "998"
      ]
     },
     "execution_count": 88,
     "metadata": {},
     "output_type": "execute_result"
    }
   ],
   "source": [
    "my_ev.price"
   ]
  },
  {
   "cell_type": "code",
   "execution_count": 89,
   "id": "64345a55",
   "metadata": {},
   "outputs": [],
   "source": [
    "my_ev.change_price(8008208820)"
   ]
  },
  {
   "cell_type": "code",
   "execution_count": 90,
   "id": "faadddbc",
   "metadata": {},
   "outputs": [
    {
     "data": {
      "text/plain": [
       "8008208820"
      ]
     },
     "execution_count": 90,
     "metadata": {},
     "output_type": "execute_result"
    }
   ],
   "source": [
    "my_ev.price"
   ]
  },
  {
   "cell_type": "markdown",
   "id": "66116807",
   "metadata": {},
   "source": [
    "# 记住 是 super()."
   ]
  },
  {
   "cell_type": "code",
   "execution_count": null,
   "id": "0ddaaab8",
   "metadata": {},
   "outputs": [],
   "source": []
  }
 ],
 "metadata": {
  "kernelspec": {
   "display_name": "Python 3 (ipykernel)",
   "language": "python",
   "name": "python3"
  },
  "language_info": {
   "codemirror_mode": {
    "name": "ipython",
    "version": 3
   },
   "file_extension": ".py",
   "mimetype": "text/x-python",
   "name": "python",
   "nbconvert_exporter": "python",
   "pygments_lexer": "ipython3",
   "version": "3.9.13"
  }
 },
 "nbformat": 4,
 "nbformat_minor": 5
}
