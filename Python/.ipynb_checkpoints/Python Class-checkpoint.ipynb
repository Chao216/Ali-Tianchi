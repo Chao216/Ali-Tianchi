{
 "cells": [
  {
   "cell_type": "code",
   "execution_count": 1,
   "id": "1ff771a6",
   "metadata": {},
   "outputs": [],
   "source": [
    "class Dog:\n",
    "    def __init__(self,name,age):\n",
    "        self.name = name\n",
    "        self.age = age\n",
    "    \n",
    "    def greeting(self):\n",
    "        print(f\"hello, my name is {self.name}\")\n",
    "    def answering(self):\n",
    "        print(f\"I am {self.age} years old.\")\n",
    "huahua = Dog(\"Huahua\",3)"
   ]
  },
  {
   "cell_type": "code",
   "execution_count": 3,
   "id": "cb0c0059",
   "metadata": {},
   "outputs": [
    {
     "data": {
      "text/plain": [
       "<__main__.Dog at 0x1f146d4d910>"
      ]
     },
     "execution_count": 3,
     "metadata": {},
     "output_type": "execute_result"
    }
   ],
   "source": [
    "huahua"
   ]
  },
  {
   "cell_type": "code",
   "execution_count": 5,
   "id": "41a702fa",
   "metadata": {},
   "outputs": [
    {
     "data": {
      "text/plain": [
       "'Huahua'"
      ]
     },
     "execution_count": 5,
     "metadata": {},
     "output_type": "execute_result"
    }
   ],
   "source": [
    "huahua.name"
   ]
  },
  {
   "cell_type": "code",
   "execution_count": 6,
   "id": "b93dac57",
   "metadata": {},
   "outputs": [
    {
     "data": {
      "text/plain": [
       "3"
      ]
     },
     "execution_count": 6,
     "metadata": {},
     "output_type": "execute_result"
    }
   ],
   "source": [
    "huahua.age"
   ]
  },
  {
   "cell_type": "code",
   "execution_count": 7,
   "id": "d22ca3b9",
   "metadata": {},
   "outputs": [
    {
     "name": "stdout",
     "output_type": "stream",
     "text": [
      "hello, my name is Huahua\n"
     ]
    }
   ],
   "source": [
    "huahua.greeting()"
   ]
  },
  {
   "cell_type": "code",
   "execution_count": 8,
   "id": "6996131e",
   "metadata": {},
   "outputs": [
    {
     "name": "stdout",
     "output_type": "stream",
     "text": [
      "I am 3 years old.\n"
     ]
    }
   ],
   "source": [
    "huahua.answering()"
   ]
  },
  {
   "cell_type": "code",
   "execution_count": 9,
   "id": "ffa29a16",
   "metadata": {},
   "outputs": [],
   "source": [
    "ella, alex, tommy = Dog(\"Ella\",2),Dog(\"Alex\",5),Dog(\"Tommy\",3)"
   ]
  },
  {
   "cell_type": "code",
   "execution_count": 10,
   "id": "728e554d",
   "metadata": {},
   "outputs": [
    {
     "name": "stdout",
     "output_type": "stream",
     "text": [
      "I am 5 years old.\n"
     ]
    }
   ],
   "source": [
    "alex.answering()"
   ]
  },
  {
   "cell_type": "code",
   "execution_count": 11,
   "id": "cb0172e6",
   "metadata": {},
   "outputs": [
    {
     "name": "stdout",
     "output_type": "stream",
     "text": [
      "hello, my name is Tommy\n"
     ]
    }
   ],
   "source": [
    "tommy.greeting()"
   ]
  },
  {
   "cell_type": "code",
   "execution_count": 20,
   "id": "3a9b4e2c",
   "metadata": {},
   "outputs": [],
   "source": [
    "class Car:\n",
    "    def __init__(self,maker,model,year):\n",
    "        self.maker = maker\n",
    "        self.model =model\n",
    "        self.year = year\n",
    "    def describe_car(self):\n",
    "        long_name = f\"{self.maker } {self.model } {self.year}\"\n",
    "        return long_name\n",
    "        \n",
    "my_car = Car(\"Benz\",\"A9\",2019)"
   ]
  },
  {
   "cell_type": "code",
   "execution_count": 21,
   "id": "152b2844",
   "metadata": {},
   "outputs": [
    {
     "data": {
      "text/plain": [
       "'A9'"
      ]
     },
     "execution_count": 21,
     "metadata": {},
     "output_type": "execute_result"
    }
   ],
   "source": [
    "my_car.model"
   ]
  },
  {
   "cell_type": "code",
   "execution_count": 23,
   "id": "6c3070d5",
   "metadata": {},
   "outputs": [
    {
     "name": "stdout",
     "output_type": "stream",
     "text": [
      "Benz A9 2019\n"
     ]
    }
   ],
   "source": [
    "print(my_car.describe_car())"
   ]
  },
  {
   "cell_type": "markdown",
   "id": "a62ecbfc",
   "metadata": {},
   "source": [
    "## 添加默认属性"
   ]
  },
  {
   "cell_type": "code",
   "execution_count": 24,
   "id": "d2eda3da",
   "metadata": {},
   "outputs": [],
   "source": [
    "class Car:\n",
    "    def __init__(self,maker,model,year):\n",
    "        self.maker = maker\n",
    "        self.model =model\n",
    "        self.year = year\n",
    "        self.odometer = 0\n",
    "    def describe_car(self):\n",
    "        long_name = f\"{self.maker } {self.model } {self.year}\"\n",
    "        return long_name\n",
    "    def read_odometer(self):\n",
    "        print(f\"this car has been driving for {self.odometer} kilometers.\")\n",
    "        \n",
    "my_car = Car(\"Benz\",\"A9\",2019)"
   ]
  },
  {
   "cell_type": "code",
   "execution_count": 25,
   "id": "dcf371d6",
   "metadata": {},
   "outputs": [
    {
     "name": "stdout",
     "output_type": "stream",
     "text": [
      "this car has been driving for 0 kilometers.\n"
     ]
    }
   ],
   "source": [
    "my_car.read_odometer()"
   ]
  },
  {
   "cell_type": "markdown",
   "id": "44adbf34",
   "metadata": {},
   "source": [
    "# 修改属性的值"
   ]
  },
  {
   "cell_type": "markdown",
   "id": "9515e387",
   "metadata": {},
   "source": [
    "## a 直接修改"
   ]
  },
  {
   "cell_type": "code",
   "execution_count": 26,
   "id": "8d389cb6",
   "metadata": {},
   "outputs": [],
   "source": [
    "class Car:\n",
    "    def __init__(self,maker,model,year):\n",
    "        self.maker = maker\n",
    "        self.model =model\n",
    "        self.year = year\n",
    "        self.odometer = 0\n",
    "    def describe_car(self):\n",
    "        long_name = f\"{self.maker } {self.model } {self.year}\"\n",
    "        return long_name\n",
    "    def read_odometer(self):\n",
    "        print(f\"this car has been driving for {self.odometer} kilometers.\")\n",
    "        \n",
    "my_car = Car(\"Benz\",\"A9\",2019)"
   ]
  },
  {
   "cell_type": "code",
   "execution_count": 27,
   "id": "3c473552",
   "metadata": {},
   "outputs": [
    {
     "data": {
      "text/plain": [
       "0"
      ]
     },
     "execution_count": 27,
     "metadata": {},
     "output_type": "execute_result"
    }
   ],
   "source": [
    "my_car.odometer"
   ]
  },
  {
   "cell_type": "code",
   "execution_count": 28,
   "id": "85f7b7a1",
   "metadata": {},
   "outputs": [],
   "source": [
    "my_car.odometer = 100"
   ]
  },
  {
   "cell_type": "code",
   "execution_count": 29,
   "id": "29abd10f",
   "metadata": {},
   "outputs": [
    {
     "data": {
      "text/plain": [
       "100"
      ]
     },
     "execution_count": 29,
     "metadata": {},
     "output_type": "execute_result"
    }
   ],
   "source": [
    "my_car.odometer"
   ]
  },
  {
   "cell_type": "code",
   "execution_count": 30,
   "id": "f2ae7d00",
   "metadata": {},
   "outputs": [
    {
     "name": "stdout",
     "output_type": "stream",
     "text": [
      "this car has been driving for 100 kilometers.\n"
     ]
    }
   ],
   "source": [
    "my_car.read_odometer()"
   ]
  },
  {
   "cell_type": "markdown",
   "id": "f2841493",
   "metadata": {},
   "source": [
    "## 通过类方法更改"
   ]
  },
  {
   "cell_type": "code",
   "execution_count": 38,
   "id": "4e28a3be",
   "metadata": {},
   "outputs": [],
   "source": [
    "class Car:\n",
    "    def __init__(self,maker,model,year):\n",
    "        self.maker = maker\n",
    "        self.model =model\n",
    "        self.year = year\n",
    "        self.odometer = 0\n",
    "    def describe_car(self):\n",
    "        long_name = f\"{self.maker } {self.model } {self.year}\"\n",
    "        return long_name\n",
    "    def read_odometer(self):\n",
    "        print(f\"this car has been driving for {self.odometer} kilometers.\")\n",
    "    def update_odometer(self,milage):\n",
    "        if milage >= self.odometer:\n",
    "            self.odometer = milage\n",
    "        else:\n",
    "            print(\"You are not allowed to roll back the odometer! \")\n",
    "        \n",
    "my_car = Car(\"Benz\",\"A9\",2019)"
   ]
  },
  {
   "cell_type": "code",
   "execution_count": 39,
   "id": "8aa2d148",
   "metadata": {},
   "outputs": [
    {
     "name": "stdout",
     "output_type": "stream",
     "text": [
      "this car has been driving for 0 kilometers.\n"
     ]
    }
   ],
   "source": [
    "my_car.read_odometer()"
   ]
  },
  {
   "cell_type": "code",
   "execution_count": 40,
   "id": "cb02b298",
   "metadata": {},
   "outputs": [],
   "source": [
    "my_car.update_odometer(693)"
   ]
  },
  {
   "cell_type": "code",
   "execution_count": 41,
   "id": "8738c162",
   "metadata": {},
   "outputs": [
    {
     "name": "stdout",
     "output_type": "stream",
     "text": [
      "this car has been driving for 693 kilometers.\n"
     ]
    }
   ],
   "source": [
    "my_car.read_odometer()"
   ]
  },
  {
   "cell_type": "code",
   "execution_count": 42,
   "id": "87c40d64",
   "metadata": {},
   "outputs": [
    {
     "name": "stdout",
     "output_type": "stream",
     "text": [
      "You are not allowed to roll back the odometer! \n"
     ]
    }
   ],
   "source": [
    "my_car.update_odometer(100)"
   ]
  },
  {
   "cell_type": "code",
   "execution_count": 43,
   "id": "b51eecd0",
   "metadata": {},
   "outputs": [
    {
     "name": "stdout",
     "output_type": "stream",
     "text": [
      "You are not allowed to roll back the odometer! \n"
     ]
    }
   ],
   "source": [
    "my_car.update_odometer(500)"
   ]
  },
  {
   "cell_type": "code",
   "execution_count": 44,
   "id": "7e0d2750",
   "metadata": {},
   "outputs": [],
   "source": [
    "my_car.update_odometer(700)"
   ]
  },
  {
   "cell_type": "code",
   "execution_count": 45,
   "id": "d006c956",
   "metadata": {},
   "outputs": [
    {
     "name": "stdout",
     "output_type": "stream",
     "text": [
      "this car has been driving for 700 kilometers.\n"
     ]
    }
   ],
   "source": [
    "my_car.read_odometer()"
   ]
  },
  {
   "cell_type": "code",
   "execution_count": null,
   "id": "f1c0d2b5",
   "metadata": {},
   "outputs": [],
   "source": []
  }
 ],
 "metadata": {
  "kernelspec": {
   "display_name": "Python 3 (ipykernel)",
   "language": "python",
   "name": "python3"
  },
  "language_info": {
   "codemirror_mode": {
    "name": "ipython",
    "version": 3
   },
   "file_extension": ".py",
   "mimetype": "text/x-python",
   "name": "python",
   "nbconvert_exporter": "python",
   "pygments_lexer": "ipython3",
   "version": "3.9.13"
  }
 },
 "nbformat": 4,
 "nbformat_minor": 5
}
