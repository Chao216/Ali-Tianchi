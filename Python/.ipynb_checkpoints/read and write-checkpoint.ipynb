{
 "cells": [
  {
   "cell_type": "code",
   "execution_count": 3,
   "id": "47709eee",
   "metadata": {},
   "outputs": [],
   "source": [
    "with open(\"./Files/write_with.txt\", \"a\") as activeFile:\n",
    "    activeFile.write(\"Hello, I am writing with Python.\\n\")\n",
    "    activeFile.close()"
   ]
  },
  {
   "cell_type": "code",
   "execution_count": 4,
   "id": "bb59c908",
   "metadata": {},
   "outputs": [],
   "source": [
    "with open(\"./Files/write_with.txt\", \"a\") as activeFile:\n",
    "    activeFile.write(\"append the second line.\\n\")\n",
    "    activeFile.write(\"append the thrid line.\\n\")\n",
    "    activeFile.write(\"append the forth line.\\n\")\n",
    "    activeFile.write(\"append the fifth line.\\n\")\n",
    "    activeFile.close()"
   ]
  },
  {
   "cell_type": "code",
   "execution_count": 6,
   "id": "f257ceef",
   "metadata": {},
   "outputs": [
    {
     "name": "stdout",
     "output_type": "stream",
     "text": [
      "Hello, I am writing with Python.\n",
      "append the second line.\n",
      "append the thrid line.\n",
      "append the forth line.\n",
      "append the fifth line.\n",
      "\n"
     ]
    }
   ],
   "source": [
    "with open(\"./Files/write_with.txt\") as fileToRead:\n",
    "    data = fileToRead.read()\n",
    "    print(data)"
   ]
  },
  {
   "cell_type": "code",
   "execution_count": 8,
   "id": "f2669601",
   "metadata": {},
   "outputs": [
    {
     "name": "stdout",
     "output_type": "stream",
     "text": [
      "Hello, I am writing with Python.\n",
      "\n",
      "append the second line.\n",
      "\n",
      "append the thrid line.\n",
      "\n",
      "append the forth line.\n",
      "\n",
      "append the fifth line.\n",
      "\n"
     ]
    }
   ],
   "source": [
    "with open(\"./Files/write_with.txt\") as fileToRead:\n",
    "    lines = fileToRead.readlines()\n",
    "    for line in lines:\n",
    "        print(line)"
   ]
  },
  {
   "cell_type": "code",
   "execution_count": null,
   "id": "3458cbd1",
   "metadata": {},
   "outputs": [],
   "source": []
  }
 ],
 "metadata": {
  "kernelspec": {
   "display_name": "Python 3 (ipykernel)",
   "language": "python",
   "name": "python3"
  },
  "language_info": {
   "codemirror_mode": {
    "name": "ipython",
    "version": 3
   },
   "file_extension": ".py",
   "mimetype": "text/x-python",
   "name": "python",
   "nbconvert_exporter": "python",
   "pygments_lexer": "ipython3",
   "version": "3.9.13"
  }
 },
 "nbformat": 4,
 "nbformat_minor": 5
}
