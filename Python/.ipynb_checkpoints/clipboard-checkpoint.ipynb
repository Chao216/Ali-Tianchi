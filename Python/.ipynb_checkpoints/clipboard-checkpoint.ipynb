{
 "cells": [
  {
   "cell_type": "code",
   "execution_count": 2,
   "id": "198de06a",
   "metadata": {},
   "outputs": [],
   "source": [
    "import pyperclip"
   ]
  },
  {
   "cell_type": "code",
   "execution_count": 3,
   "id": "28fb8a08",
   "metadata": {},
   "outputs": [],
   "source": [
    "str1 = open(\"./Files/pg2097.txt\", encoding=\"UTF-8\").read()"
   ]
  },
  {
   "cell_type": "code",
   "execution_count": 8,
   "id": "b4aa536f",
   "metadata": {},
   "outputs": [],
   "source": [
    "pyperclip.copy(str1)\n",
    "str2 = pyperclip.paste()"
   ]
  },
  {
   "cell_type": "code",
   "execution_count": 9,
   "id": "e6d37cf7",
   "metadata": {},
   "outputs": [
    {
     "data": {
      "text/plain": [
       "True"
      ]
     },
     "execution_count": 9,
     "metadata": {},
     "output_type": "execute_result"
    }
   ],
   "source": [
    "str1 == str2"
   ]
  },
  {
   "cell_type": "code",
   "execution_count": 10,
   "id": "4c956bbc",
   "metadata": {},
   "outputs": [
    {
     "data": {
      "text/plain": [
       "str"
      ]
     },
     "execution_count": 10,
     "metadata": {},
     "output_type": "execute_result"
    }
   ],
   "source": [
    "type(str2)"
   ]
  },
  {
   "cell_type": "code",
   "execution_count": 19,
   "id": "c92da213",
   "metadata": {},
   "outputs": [
    {
     "name": "stdout",
     "output_type": "stream",
     "text": [
      "我们使用可选的 Cookie，通过社交媒体连接等方式改善你在我们网站上的体验，并且根据你的在线活动投放个性化的广告。 如果你拒绝可选 Cookie，则我们将仅使用为你提供服务所必须的 Cookie。 你可以单击页面底部的“管理 Cookie”更改你的选择。隐私声明 第三方 Cookie\r\n",
      "接受 拒绝 管理 Cookie\r\n",
      "跳转至主内容\r\n",
      "Microsoft\r\n",
      "Microsoft 365 Teams Windows Surface Xbox 优惠 小型企业 支持\r\n",
      "所有 Microsoft\r\n",
      "\r\n",
      "请登录你的帐户\r\n",
      "新年优惠丨精选平板二合一、笔记本电脑及配件惊喜直降。前往折扣专区\r\n",
      "\r\n",
      "Slide 1 of 2. Surface 新年新礼遇\r\n",
      "Skip 特色推荐产品和公告幻灯片：使用幻灯片选项卡进行幻灯片导航 : 使用幻灯片选项卡进行导航\r\n",
      "上一页\r\n",
      "下一页\r\n",
      "包含了 Microsoft Surface 产品\r\n",
      "Surface 新年新礼遇\r\n",
      "Surface 主机 4.5 折起，可叠享 24 期分期免息，更有超值优惠券及新年礼盒等多重好礼，先到先得，赠完即止。\r\n",
      "立享优惠\r\n",
      "End of 特色推荐产品和公告幻灯片：使用幻灯片选项卡进行幻灯片导航 : 使用幻灯片选项卡进行导航 section\r\n",
      "\r\n",
      "选择你的 Microsoft 365\r\n",
      "\r\n",
      "购买 Surface 设备\r\n",
      "\r\n",
      "购买 Xbox 游戏和主机\r\n",
      "\r\n",
      "获取 Windows 11\r\n",
      "\r\n",
      "购买商用版\r\n",
      "包含了 Surface 产品\r\n",
      "Surface Pro 9 新年好礼\r\n",
      "现在入手可享 24 期分期免息，每月低至约 ￥324.50 起，还有限量新年礼盒等你来抢。高校师生更可叠享教育专区 9 折优惠。\r\n",
      "\r\n",
      "立抢优惠 前往教育优惠专区\r\n",
      "Microsoft 365 系列应用（如 Teams、Word、Outlook 等）的图标。\r\n",
      "Microsoft 365\r\n",
      "提供的应用和功能可帮助你将想法变为现实，提高安全性，并让你专注于重要的事项。\r\n",
      "\r\n",
      "限 1 人使用 最多可供 6 人使用\r\n",
      "Surface Laptop 5 的角度视图。\r\n",
      "全新产品\r\n",
      "Surface Laptop 5\r\n",
      "兼具纤薄便携性以及由第 12 代英特尔® 酷睿所支持的多任务高速处理性能，并安装有 Windows 11 系统.\r\n",
      "\r\n",
      "立即购买\r\n",
      "Xbox Series S 和 Xbox Series X 主机，带两个 Xbox 无线控制器\r\n",
      "Power your dreams\r\n",
      "购买 Xbox Series X 和 Xbox Series S，体验新时代的先进性能。\r\n",
      "\r\n",
      "Xbox Series X Xbox Series S\r\n",
      "红色、白色、蓝色和黑色 Xbox 无线控制器\r\n",
      "Xbox 控制器\r\n",
      "Elite 品质，无线连接，随处适用 - 无论你的游戏风格如何，这款控制器都能满足你的需求\r\n",
      "立即购买\r\n",
      "商业版\r\n",
      "Surface Pro 9 的斜角视图\r\n",
      "全新产品\r\n",
      "Surface Pro 9 商用版\r\n",
      "赋能灵活全天工作，兼具平板电脑的便携和笔记本电脑的性能。\r\n",
      "\r\n",
      "立即购买\r\n",
      "平板电脑上的 Microsoft Teams。\r\n",
      "免费获取 Microsoft Teams\r\n",
      "联机会议、聊天以及共享云存储，尽在一处。\r\n",
      "\r\n",
      "免费注册\r\n",
      "\r\n",
      "在采用混合工作模式的世界里取得成功\r\n",
      "探索工具、资源和策略，帮助员工在采用灵活工作模式的全新世界里取得成功。\r\n",
      "\r\n",
      "了解详情\r\n",
      "一位女士一边喝茶，一边与同事一起参加 Microsoft Teams 电话会议。\r\n",
      "免费试用 Microsoft 365\r\n",
      "通过为期一个月的免费 Microsoft 365 商业标准版试用版，获取 Microsoft Teams、安全的云存储空间和跨设备高级应用。\r\n",
      "\r\n",
      "开始免费试用\r\n",
      "关注 Microsoft WeChat. Weibo.\r\n",
      "返回页首\r\n",
      "新增内容\r\n",
      "Microsoft 365\r\n",
      "Surface Laptop 2\r\n",
      "Surface Go\r\n",
      "Windows 11 应用程序\r\n",
      "Microsoft Store\r\n",
      "帐户个人资料\r\n",
      "下载中心\r\n",
      "订单跟踪\r\n",
      "教育\r\n",
      "Microsoft 教育版\r\n",
      "教育设备\r\n",
      "Microsoft Teams 教育版\r\n",
      "Microsoft 365 教育版\r\n",
      "Office 教育版\r\n",
      "教育工作者培训和开发\r\n",
      "面向学生和家长的优惠\r\n",
      "面向学生的 Azure\r\n",
      "企业\r\n",
      "Microsoft Cloud\r\n",
      "Microsoft 安全\r\n",
      "Azure\r\n",
      "Dynamics 365\r\n",
      "Microsoft 365\r\n",
      "Microsoft Advertising\r\n",
      "Microsoft 行业\r\n",
      "Microsoft Teams\r\n",
      "开发人员与 IT\r\n",
      "开发人员中心\r\n",
      "文档\r\n",
      "Microsoft Learn\r\n",
      "Microsoft 技术社区\r\n",
      "Azure 市场\r\n",
      "AppSource\r\n",
      "Microsoft Power Platform\r\n",
      "Visual Studio\r\n",
      "公司\r\n",
      "招贤纳士\r\n",
      "关于 Microsoft\r\n",
      "公司新闻\r\n",
      "Microsoft 隐私\r\n",
      "投资人\r\n",
      "可持续发展\r\n",
      "中文(中国)\r\n",
      "与 Microsoft 联系 隐私 管理 Cookie 使用条款 商标 关于我们的广告 京ICP备09042378号-6 © Microsoft 2023\n"
     ]
    }
   ],
   "source": [
    "while True:\n",
    "    print(pyperclip.paste())\n",
    "    break;"
   ]
  },
  {
   "cell_type": "code",
   "execution_count": null,
   "id": "009e451a",
   "metadata": {},
   "outputs": [],
   "source": []
  },
  {
   "cell_type": "code",
   "execution_count": null,
   "id": "e7ebcd67",
   "metadata": {},
   "outputs": [],
   "source": []
  }
 ],
 "metadata": {
  "kernelspec": {
   "display_name": "Python 3 (ipykernel)",
   "language": "python",
   "name": "python3"
  },
  "language_info": {
   "codemirror_mode": {
    "name": "ipython",
    "version": 3
   },
   "file_extension": ".py",
   "mimetype": "text/x-python",
   "name": "python",
   "nbconvert_exporter": "python",
   "pygments_lexer": "ipython3",
   "version": "3.9.13"
  }
 },
 "nbformat": 4,
 "nbformat_minor": 5
}
