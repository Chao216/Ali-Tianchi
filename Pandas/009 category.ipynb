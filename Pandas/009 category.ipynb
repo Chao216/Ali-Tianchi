{
 "cells": [
  {
   "cell_type": "markdown",
   "id": "d1febbe2",
   "metadata": {},
   "source": [
    "# 分类数据 categories"
   ]
  },
  {
   "cell_type": "code",
   "execution_count": 1,
   "id": "a1d11b50",
   "metadata": {},
   "outputs": [],
   "source": [
    "import numpy as np\n",
    "import pandas as pd"
   ]
  },
  {
   "cell_type": "code",
   "execution_count": 3,
   "id": "83300903",
   "metadata": {},
   "outputs": [],
   "source": [
    "df = pd.read_csv('./data/learn_pandas.csv', usecols = ['Grade', 'Name', 'Gender', 'Height', 'Weight'])"
   ]
  },
  {
   "cell_type": "code",
   "execution_count": 8,
   "id": "9a76b005",
   "metadata": {},
   "outputs": [
    {
     "data": {
      "text/plain": [
       "dtype('O')"
      ]
     },
     "execution_count": 8,
     "metadata": {},
     "output_type": "execute_result"
    }
   ],
   "source": [
    "df.Grade.values.dtype"
   ]
  },
  {
   "cell_type": "code",
   "execution_count": 11,
   "id": "16e93663",
   "metadata": {},
   "outputs": [],
   "source": [
    "s = df.Grade\n",
    "s_cat = df.Grade.astype('category')"
   ]
  },
  {
   "cell_type": "code",
   "execution_count": 12,
   "id": "2635a403",
   "metadata": {},
   "outputs": [
    {
     "data": {
      "text/plain": [
       "0       Freshman\n",
       "1       Freshman\n",
       "2         Senior\n",
       "3      Sophomore\n",
       "4      Sophomore\n",
       "         ...    \n",
       "195       Junior\n",
       "196       Senior\n",
       "197       Senior\n",
       "198       Senior\n",
       "199    Sophomore\n",
       "Name: Grade, Length: 200, dtype: object"
      ]
     },
     "execution_count": 12,
     "metadata": {},
     "output_type": "execute_result"
    }
   ],
   "source": [
    "s"
   ]
  },
  {
   "cell_type": "code",
   "execution_count": 13,
   "id": "645890b7",
   "metadata": {},
   "outputs": [
    {
     "data": {
      "text/plain": [
       "0       Freshman\n",
       "1       Freshman\n",
       "2         Senior\n",
       "3      Sophomore\n",
       "4      Sophomore\n",
       "         ...    \n",
       "195       Junior\n",
       "196       Senior\n",
       "197       Senior\n",
       "198       Senior\n",
       "199    Sophomore\n",
       "Name: Grade, Length: 200, dtype: category\n",
       "Categories (4, object): ['Freshman', 'Junior', 'Senior', 'Sophomore']"
      ]
     },
     "execution_count": 13,
     "metadata": {},
     "output_type": "execute_result"
    }
   ],
   "source": [
    "s_cat"
   ]
  },
  {
   "cell_type": "markdown",
   "id": "7854cff3",
   "metadata": {},
   "source": [
    "## category 的属性 code ordered "
   ]
  },
  {
   "cell_type": "code",
   "execution_count": 15,
   "id": "9157a9a6",
   "metadata": {},
   "outputs": [
    {
     "data": {
      "text/plain": [
       "0      0\n",
       "1      0\n",
       "2      2\n",
       "3      3\n",
       "4      3\n",
       "      ..\n",
       "195    1\n",
       "196    2\n",
       "197    2\n",
       "198    2\n",
       "199    3\n",
       "Length: 200, dtype: int8"
      ]
     },
     "execution_count": 15,
     "metadata": {},
     "output_type": "execute_result"
    }
   ],
   "source": [
    "s_cat.cat.codes"
   ]
  },
  {
   "cell_type": "code",
   "execution_count": 16,
   "id": "cba5e8bf",
   "metadata": {},
   "outputs": [
    {
     "data": {
      "text/plain": [
       "False"
      ]
     },
     "execution_count": 16,
     "metadata": {},
     "output_type": "execute_result"
    }
   ],
   "source": [
    "s_cat.cat.ordered"
   ]
  },
  {
   "cell_type": "code",
   "execution_count": 17,
   "id": "c397936e",
   "metadata": {},
   "outputs": [
    {
     "data": {
      "text/plain": [
       "Index(['Freshman', 'Junior', 'Senior', 'Sophomore'], dtype='object')"
      ]
     },
     "execution_count": 17,
     "metadata": {},
     "output_type": "execute_result"
    }
   ],
   "source": [
    "s_cat.cat.categories"
   ]
  },
  {
   "cell_type": "markdown",
   "id": "53d37aa3",
   "metadata": {},
   "source": [
    "# categories 增加，删除，修改"
   ]
  },
  {
   "cell_type": "code",
   "execution_count": 18,
   "id": "9605c4b6",
   "metadata": {},
   "outputs": [
    {
     "data": {
      "text/plain": [
       "0       Freshman\n",
       "1       Freshman\n",
       "2         Senior\n",
       "3      Sophomore\n",
       "4      Sophomore\n",
       "         ...    \n",
       "195       Junior\n",
       "196       Senior\n",
       "197       Senior\n",
       "198       Senior\n",
       "199    Sophomore\n",
       "Name: Grade, Length: 200, dtype: category\n",
       "Categories (7, object): ['Freshman', 'Junior', 'Senior', 'Sophomore', 'Graduate', 'Aluminum', 'Staff']"
      ]
     },
     "execution_count": 18,
     "metadata": {},
     "output_type": "execute_result"
    }
   ],
   "source": [
    "s_cat.cat.add_categories([\"Graduate\",\"Aluminum\",\"Staff\"])"
   ]
  },
  {
   "cell_type": "markdown",
   "id": "5d81d27c",
   "metadata": {},
   "source": [
    "## remove categories 或者 remove unused categories"
   ]
  },
  {
   "cell_type": "markdown",
   "id": "af61f8d9",
   "metadata": {},
   "source": [
    "## 使用rename_categories"
   ]
  },
  {
   "cell_type": "code",
   "execution_count": 21,
   "id": "5915df01",
   "metadata": {},
   "outputs": [
    {
     "data": {
      "text/plain": [
       "0       菜鸟\n",
       "1       菜鸟\n",
       "2      老油条\n",
       "3       新人\n",
       "4       新人\n",
       "      ... \n",
       "195     骨干\n",
       "196    老油条\n",
       "197    老油条\n",
       "198    老油条\n",
       "199     新人\n",
       "Name: Grade, Length: 200, dtype: category\n",
       "Categories (4, object): ['菜鸟', '骨干', '老油条', '新人']"
      ]
     },
     "execution_count": 21,
     "metadata": {},
     "output_type": "execute_result"
    }
   ],
   "source": [
    "s_cat.cat.rename_categories({\"Freshman\":\"菜鸟\",\"Sophomore\":\"新人\",\"Junior\":\"骨干\",\"Senior\":\"老油条\"})"
   ]
  },
  {
   "cell_type": "markdown",
   "id": "08e737b3",
   "metadata": {},
   "source": [
    "# 为分类排序"
   ]
  },
  {
   "cell_type": "code",
   "execution_count": 24,
   "id": "ec0bf842",
   "metadata": {},
   "outputs": [],
   "source": [
    "s_cat= df.Grade.astype(\"category\")"
   ]
  },
  {
   "cell_type": "code",
   "execution_count": 25,
   "id": "f8068682",
   "metadata": {},
   "outputs": [
    {
     "data": {
      "text/plain": [
       "0       Freshman\n",
       "1       Freshman\n",
       "2         Senior\n",
       "3      Sophomore\n",
       "4      Sophomore\n",
       "         ...    \n",
       "195       Junior\n",
       "196       Senior\n",
       "197       Senior\n",
       "198       Senior\n",
       "199    Sophomore\n",
       "Name: Grade, Length: 200, dtype: category\n",
       "Categories (4, object): ['Freshman' < 'Sophomore' < 'Junior' < 'Senior']"
      ]
     },
     "execution_count": 25,
     "metadata": {},
     "output_type": "execute_result"
    }
   ],
   "source": [
    "s_cat.cat.reorder_categories([\"Freshman\",\"Sophomore\",\"Junior\",\"Senior\"], ordered=True)"
   ]
  },
  {
   "cell_type": "markdown",
   "id": "ed756818",
   "metadata": {},
   "source": [
    "## 如果你想再次调整 先 cat.as_unordered\n",
    "## 再reorder"
   ]
  },
  {
   "cell_type": "code",
   "execution_count": 29,
   "id": "cee35a6d",
   "metadata": {},
   "outputs": [
    {
     "data": {
      "text/plain": [
       "(200, 5)"
      ]
     },
     "execution_count": 29,
     "metadata": {},
     "output_type": "execute_result"
    }
   ],
   "source": [
    "df.shape[:]"
   ]
  },
  {
   "cell_type": "markdown",
   "id": "7bb9820e",
   "metadata": {},
   "source": [
    "## 比较 \n",
    "\n",
    "##     == \n",
    "##     ！= \n",
    "##     <= \n",
    "##     >="
   ]
  },
  {
   "cell_type": "code",
   "execution_count": 30,
   "id": "43239524",
   "metadata": {},
   "outputs": [],
   "source": [
    "ordered_cat = s_cat.cat.reorder_categories([\"Freshman\",\"Sophomore\",\"Junior\",\"Senior\"], ordered=True)"
   ]
  },
  {
   "cell_type": "code",
   "execution_count": 35,
   "id": "19fd6a63",
   "metadata": {},
   "outputs": [
    {
     "data": {
      "text/plain": [
       "0      False\n",
       "1      False\n",
       "2      False\n",
       "3      False\n",
       "4      False\n",
       "       ...  \n",
       "195     True\n",
       "196    False\n",
       "197    False\n",
       "198    False\n",
       "199    False\n",
       "Name: Grade, Length: 200, dtype: bool"
      ]
     },
     "execution_count": 35,
     "metadata": {},
     "output_type": "execute_result"
    }
   ],
   "source": [
    "ordered_cat == \"Junior\""
   ]
  },
  {
   "cell_type": "code",
   "execution_count": 36,
   "id": "cd27b37c",
   "metadata": {},
   "outputs": [
    {
     "data": {
      "text/plain": [
       "0       True\n",
       "1       True\n",
       "2       True\n",
       "3       True\n",
       "4       True\n",
       "       ...  \n",
       "195    False\n",
       "196     True\n",
       "197     True\n",
       "198     True\n",
       "199     True\n",
       "Name: Grade, Length: 200, dtype: bool"
      ]
     },
     "execution_count": 36,
     "metadata": {},
     "output_type": "execute_result"
    }
   ],
   "source": [
    "ordered_cat != \"Junior\""
   ]
  },
  {
   "cell_type": "code",
   "execution_count": 37,
   "id": "21d031bc",
   "metadata": {},
   "outputs": [
    {
     "data": {
      "text/plain": [
       "0       True\n",
       "1       True\n",
       "2      False\n",
       "3       True\n",
       "4       True\n",
       "       ...  \n",
       "195     True\n",
       "196    False\n",
       "197    False\n",
       "198    False\n",
       "199     True\n",
       "Name: Grade, Length: 200, dtype: bool"
      ]
     },
     "execution_count": 37,
     "metadata": {},
     "output_type": "execute_result"
    }
   ],
   "source": [
    "ordered_cat <= \"Junior\""
   ]
  },
  {
   "cell_type": "code",
   "execution_count": 38,
   "id": "a17fbe93",
   "metadata": {},
   "outputs": [
    {
     "data": {
      "text/plain": [
       "0      False\n",
       "1      False\n",
       "2       True\n",
       "3      False\n",
       "4      False\n",
       "       ...  \n",
       "195     True\n",
       "196     True\n",
       "197     True\n",
       "198     True\n",
       "199    False\n",
       "Name: Grade, Length: 200, dtype: bool"
      ]
     },
     "execution_count": 38,
     "metadata": {},
     "output_type": "execute_result"
    }
   ],
   "source": [
    "ordered_cat >= \"Junior\""
   ]
  },
  {
   "cell_type": "markdown",
   "id": "e99e6210",
   "metadata": {},
   "source": [
    "# 使用 cut, qcut 进行区间构造"
   ]
  },
  {
   "cell_type": "code",
   "execution_count": 42,
   "id": "9663ceae",
   "metadata": {},
   "outputs": [],
   "source": [
    "ser1 = pd.Series(np.arange(1,100,5))"
   ]
  },
  {
   "cell_type": "code",
   "execution_count": 43,
   "id": "5c8a6efa",
   "metadata": {},
   "outputs": [
    {
     "data": {
      "text/plain": [
       "0      1\n",
       "1      6\n",
       "2     11\n",
       "3     16\n",
       "4     21\n",
       "5     26\n",
       "6     31\n",
       "7     36\n",
       "8     41\n",
       "9     46\n",
       "10    51\n",
       "11    56\n",
       "12    61\n",
       "13    66\n",
       "14    71\n",
       "15    76\n",
       "16    81\n",
       "17    86\n",
       "18    91\n",
       "19    96\n",
       "dtype: int32"
      ]
     },
     "execution_count": 43,
     "metadata": {},
     "output_type": "execute_result"
    }
   ],
   "source": [
    "ser1"
   ]
  },
  {
   "cell_type": "code",
   "execution_count": 44,
   "id": "fa16df82",
   "metadata": {},
   "outputs": [
    {
     "data": {
      "text/plain": [
       "0      (0.905, 32.667]\n",
       "1      (0.905, 32.667]\n",
       "2      (0.905, 32.667]\n",
       "3      (0.905, 32.667]\n",
       "4      (0.905, 32.667]\n",
       "5      (0.905, 32.667]\n",
       "6      (0.905, 32.667]\n",
       "7     (32.667, 64.333]\n",
       "8     (32.667, 64.333]\n",
       "9     (32.667, 64.333]\n",
       "10    (32.667, 64.333]\n",
       "11    (32.667, 64.333]\n",
       "12    (32.667, 64.333]\n",
       "13      (64.333, 96.0]\n",
       "14      (64.333, 96.0]\n",
       "15      (64.333, 96.0]\n",
       "16      (64.333, 96.0]\n",
       "17      (64.333, 96.0]\n",
       "18      (64.333, 96.0]\n",
       "19      (64.333, 96.0]\n",
       "dtype: category\n",
       "Categories (3, interval[float64, right]): [(0.905, 32.667] < (32.667, 64.333] < (64.333, 96.0]]"
      ]
     },
     "execution_count": 44,
     "metadata": {},
     "output_type": "execute_result"
    }
   ],
   "source": [
    "pd.cut(ser1,bins=3)"
   ]
  },
  {
   "cell_type": "code",
   "execution_count": 45,
   "id": "a5db8d5d",
   "metadata": {},
   "outputs": [
    {
     "data": {
      "text/plain": [
       "0      中杯\n",
       "1      中杯\n",
       "2      中杯\n",
       "3      中杯\n",
       "4      中杯\n",
       "5      中杯\n",
       "6      中杯\n",
       "7      大杯\n",
       "8      大杯\n",
       "9      大杯\n",
       "10     大杯\n",
       "11     大杯\n",
       "12     大杯\n",
       "13    超大杯\n",
       "14    超大杯\n",
       "15    超大杯\n",
       "16    超大杯\n",
       "17    超大杯\n",
       "18    超大杯\n",
       "19    超大杯\n",
       "dtype: category\n",
       "Categories (3, object): ['中杯' < '大杯' < '超大杯']"
      ]
     },
     "execution_count": 45,
     "metadata": {},
     "output_type": "execute_result"
    }
   ],
   "source": [
    "pd.cut(ser1,bins=3, labels=[\"中杯\",\"大杯\",\"超大杯\"])"
   ]
  },
  {
   "cell_type": "code",
   "execution_count": 46,
   "id": "272a1275",
   "metadata": {},
   "outputs": [
    {
     "data": {
      "text/plain": [
       "0      大杯\n",
       "1      大杯\n",
       "2      大杯\n",
       "3      大杯\n",
       "4      大杯\n",
       "5      大杯\n",
       "6      大杯\n",
       "7     超大杯\n",
       "8     超大杯\n",
       "9     超大杯\n",
       "10    超大杯\n",
       "11    超大杯\n",
       "12    超大杯\n",
       "13    巨大杯\n",
       "14    巨大杯\n",
       "15    巨大杯\n",
       "16    巨大杯\n",
       "17    巨大杯\n",
       "18    巨大杯\n",
       "19    巨大杯\n",
       "dtype: category\n",
       "Categories (3, object): ['大杯' < '超大杯' < '巨大杯']"
      ]
     },
     "execution_count": 46,
     "metadata": {},
     "output_type": "execute_result"
    }
   ],
   "source": [
    "pd.qcut(ser1, q=3,labels=[\"大杯\",\"超大杯\",\"巨大杯\"])"
   ]
  },
  {
   "cell_type": "markdown",
   "id": "430484a4",
   "metadata": {},
   "source": [
    "# 一般区间构造\n",
    "\n",
    "# pd.Interval() 包不包括左右边界 right  left, both  enither"
   ]
  },
  {
   "cell_type": "code",
   "execution_count": 48,
   "id": "050c66d6",
   "metadata": {},
   "outputs": [],
   "source": [
    "my_interval = pd.Interval(-1,1,\"both\") # [-1,1]"
   ]
  },
  {
   "cell_type": "code",
   "execution_count": 49,
   "id": "9ba7303b",
   "metadata": {},
   "outputs": [
    {
     "data": {
      "text/plain": [
       "True"
      ]
     },
     "execution_count": 49,
     "metadata": {},
     "output_type": "execute_result"
    }
   ],
   "source": [
    "-1 in my_interval"
   ]
  },
  {
   "cell_type": "code",
   "execution_count": 50,
   "id": "8759c080",
   "metadata": {},
   "outputs": [
    {
     "data": {
      "text/plain": [
       "True"
      ]
     },
     "execution_count": 50,
     "metadata": {},
     "output_type": "execute_result"
    }
   ],
   "source": [
    "1 in my_interval"
   ]
  },
  {
   "cell_type": "code",
   "execution_count": 51,
   "id": "feccc64e",
   "metadata": {},
   "outputs": [],
   "source": [
    "sec_interval = pd.Interval(-5,5, \"right\")"
   ]
  },
  {
   "cell_type": "code",
   "execution_count": 52,
   "id": "aa7987ae",
   "metadata": {},
   "outputs": [
    {
     "data": {
      "text/plain": [
       "False"
      ]
     },
     "execution_count": 52,
     "metadata": {},
     "output_type": "execute_result"
    }
   ],
   "source": [
    "-5 in sec_interval"
   ]
  },
  {
   "cell_type": "code",
   "execution_count": 53,
   "id": "c6fd5554",
   "metadata": {},
   "outputs": [
    {
     "data": {
      "text/plain": [
       "True"
      ]
     },
     "execution_count": 53,
     "metadata": {},
     "output_type": "execute_result"
    }
   ],
   "source": [
    "5 in sec_interval"
   ]
  },
  {
   "cell_type": "code",
   "execution_count": 54,
   "id": "834368be",
   "metadata": {},
   "outputs": [
    {
     "data": {
      "text/plain": [
       "True"
      ]
     },
     "execution_count": 54,
     "metadata": {},
     "output_type": "execute_result"
    }
   ],
   "source": [
    "sec_interval.overlaps(my_interval)"
   ]
  },
  {
   "cell_type": "markdown",
   "id": "f095a464",
   "metadata": {},
   "source": [
    "### interval from break"
   ]
  },
  {
   "cell_type": "code",
   "execution_count": 55,
   "id": "208aee95",
   "metadata": {},
   "outputs": [
    {
     "data": {
      "text/plain": [
       "IntervalIndex([[1, 2], [2, 3], [3, 4], [4, 5]], dtype='interval[int64, both]')"
      ]
     },
     "execution_count": 55,
     "metadata": {},
     "output_type": "execute_result"
    }
   ],
   "source": [
    "pd.IntervalIndex.from_breaks([1,2,3,4,5],\"both\")"
   ]
  },
  {
   "cell_type": "markdown",
   "id": "46187059",
   "metadata": {},
   "source": [
    "### intervl from array"
   ]
  },
  {
   "cell_type": "code",
   "execution_count": 56,
   "id": "c4ef054d",
   "metadata": {},
   "outputs": [
    {
     "data": {
      "text/plain": [
       "IntervalIndex([[1, 6), [2, 7), [3, 8), [4, 9), [5, 10)], dtype='interval[int64, left]')"
      ]
     },
     "execution_count": 56,
     "metadata": {},
     "output_type": "execute_result"
    }
   ],
   "source": [
    "pd.IntervalIndex.from_arrays([1,2,3,4,5],[6,7,8,9,10],\"left\")"
   ]
  },
  {
   "cell_type": "markdown",
   "id": "e881f2e2",
   "metadata": {},
   "source": [
    "### from tuple"
   ]
  },
  {
   "cell_type": "code",
   "execution_count": 59,
   "id": "f3490f0a",
   "metadata": {},
   "outputs": [
    {
     "data": {
      "text/plain": [
       "IntervalIndex([(1, 3], (5, 9], (1, 10]], dtype='interval[int64, right]')"
      ]
     },
     "execution_count": 59,
     "metadata": {},
     "output_type": "execute_result"
    }
   ],
   "source": [
    "pd.IntervalIndex.from_tuples([(1,3),(5,9),(1,10)],\"right\")"
   ]
  },
  {
   "cell_type": "markdown",
   "id": "b73ffa57",
   "metadata": {},
   "source": [
    "### interval range"
   ]
  },
  {
   "cell_type": "code",
   "execution_count": 60,
   "id": "41e5da97",
   "metadata": {},
   "outputs": [
    {
     "data": {
      "text/plain": [
       "IntervalIndex([(1.0, 1.8], (1.8, 2.6], (2.6, 3.4000000000000004], (3.4000000000000004, 4.2], (4.2, 5.0]], dtype='interval[float64, right]')"
      ]
     },
     "execution_count": 60,
     "metadata": {},
     "output_type": "execute_result"
    }
   ],
   "source": [
    "pd.interval_range(start=1,end=5,periods=5)"
   ]
  },
  {
   "cell_type": "markdown",
   "id": "94d58a30",
   "metadata": {},
   "source": [
    "### interval 的属性"
   ]
  },
  {
   "cell_type": "code",
   "execution_count": 61,
   "id": "8c14360a",
   "metadata": {},
   "outputs": [],
   "source": [
    "intervals = pd.IntervalIndex.from_tuples([(1,3),(5,9),(1,10)],\"right\")"
   ]
  },
  {
   "cell_type": "code",
   "execution_count": 62,
   "id": "87566bf0",
   "metadata": {},
   "outputs": [
    {
     "data": {
      "text/plain": [
       "Int64Index([1, 5, 1], dtype='int64')"
      ]
     },
     "execution_count": 62,
     "metadata": {},
     "output_type": "execute_result"
    }
   ],
   "source": [
    "intervals.left"
   ]
  },
  {
   "cell_type": "code",
   "execution_count": 63,
   "id": "8fd71ac5",
   "metadata": {},
   "outputs": [
    {
     "data": {
      "text/plain": [
       "Int64Index([3, 9, 10], dtype='int64')"
      ]
     },
     "execution_count": 63,
     "metadata": {},
     "output_type": "execute_result"
    }
   ],
   "source": [
    "intervals.right"
   ]
  },
  {
   "cell_type": "code",
   "execution_count": 64,
   "id": "398d8522",
   "metadata": {},
   "outputs": [
    {
     "data": {
      "text/plain": [
       "Float64Index([2.0, 7.0, 5.5], dtype='float64')"
      ]
     },
     "execution_count": 64,
     "metadata": {},
     "output_type": "execute_result"
    }
   ],
   "source": [
    "intervals.mid"
   ]
  },
  {
   "cell_type": "code",
   "execution_count": null,
   "id": "28903f9e",
   "metadata": {},
   "outputs": [],
   "source": []
  }
 ],
 "metadata": {
  "kernelspec": {
   "display_name": "Python 3 (ipykernel)",
   "language": "python",
   "name": "python3"
  },
  "language_info": {
   "codemirror_mode": {
    "name": "ipython",
    "version": 3
   },
   "file_extension": ".py",
   "mimetype": "text/x-python",
   "name": "python",
   "nbconvert_exporter": "python",
   "pygments_lexer": "ipython3",
   "version": "3.9.13"
  }
 },
 "nbformat": 4,
 "nbformat_minor": 5
}
