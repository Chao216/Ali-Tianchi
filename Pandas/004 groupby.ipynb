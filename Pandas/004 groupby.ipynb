{
 "cells": [
  {
   "cell_type": "code",
   "execution_count": 2,
   "id": "67bd8002",
   "metadata": {},
   "outputs": [],
   "source": [
    "import numpy as np\n",
    "import pandas as pd"
   ]
  },
  {
   "cell_type": "markdown",
   "id": "fa10f316",
   "metadata": {},
   "source": [
    "# df.groupby(分组依据)[数据来源].使用操作"
   ]
  },
  {
   "cell_type": "code",
   "execution_count": 3,
   "id": "a9c1e592",
   "metadata": {},
   "outputs": [],
   "source": [
    "df = pd.read_csv(\"./data/learn_pandas.csv\")"
   ]
  },
  {
   "cell_type": "code",
   "execution_count": 4,
   "id": "be3a44e1",
   "metadata": {},
   "outputs": [
    {
     "data": {
      "text/html": [
       "<div>\n",
       "<style scoped>\n",
       "    .dataframe tbody tr th:only-of-type {\n",
       "        vertical-align: middle;\n",
       "    }\n",
       "\n",
       "    .dataframe tbody tr th {\n",
       "        vertical-align: top;\n",
       "    }\n",
       "\n",
       "    .dataframe thead th {\n",
       "        text-align: right;\n",
       "    }\n",
       "</style>\n",
       "<table border=\"1\" class=\"dataframe\">\n",
       "  <thead>\n",
       "    <tr style=\"text-align: right;\">\n",
       "      <th></th>\n",
       "      <th>School</th>\n",
       "      <th>Grade</th>\n",
       "      <th>Name</th>\n",
       "      <th>Gender</th>\n",
       "      <th>Height</th>\n",
       "      <th>Weight</th>\n",
       "      <th>Transfer</th>\n",
       "      <th>Test_Number</th>\n",
       "      <th>Test_Date</th>\n",
       "      <th>Time_Record</th>\n",
       "    </tr>\n",
       "  </thead>\n",
       "  <tbody>\n",
       "    <tr>\n",
       "      <th>0</th>\n",
       "      <td>Shanghai Jiao Tong University</td>\n",
       "      <td>Freshman</td>\n",
       "      <td>Gaopeng Yang</td>\n",
       "      <td>Female</td>\n",
       "      <td>158.9</td>\n",
       "      <td>46.0</td>\n",
       "      <td>N</td>\n",
       "      <td>1</td>\n",
       "      <td>2019/10/5</td>\n",
       "      <td>0:04:34</td>\n",
       "    </tr>\n",
       "    <tr>\n",
       "      <th>1</th>\n",
       "      <td>Peking University</td>\n",
       "      <td>Freshman</td>\n",
       "      <td>Changqiang You</td>\n",
       "      <td>Male</td>\n",
       "      <td>166.5</td>\n",
       "      <td>70.0</td>\n",
       "      <td>N</td>\n",
       "      <td>1</td>\n",
       "      <td>2019/9/4</td>\n",
       "      <td>0:04:20</td>\n",
       "    </tr>\n",
       "    <tr>\n",
       "      <th>2</th>\n",
       "      <td>Shanghai Jiao Tong University</td>\n",
       "      <td>Senior</td>\n",
       "      <td>Mei Sun</td>\n",
       "      <td>Male</td>\n",
       "      <td>188.9</td>\n",
       "      <td>89.0</td>\n",
       "      <td>N</td>\n",
       "      <td>2</td>\n",
       "      <td>2019/9/12</td>\n",
       "      <td>0:05:22</td>\n",
       "    </tr>\n",
       "    <tr>\n",
       "      <th>3</th>\n",
       "      <td>Fudan University</td>\n",
       "      <td>Sophomore</td>\n",
       "      <td>Xiaojuan Sun</td>\n",
       "      <td>Female</td>\n",
       "      <td>NaN</td>\n",
       "      <td>41.0</td>\n",
       "      <td>N</td>\n",
       "      <td>2</td>\n",
       "      <td>2020/1/3</td>\n",
       "      <td>0:04:08</td>\n",
       "    </tr>\n",
       "    <tr>\n",
       "      <th>4</th>\n",
       "      <td>Fudan University</td>\n",
       "      <td>Sophomore</td>\n",
       "      <td>Gaojuan You</td>\n",
       "      <td>Male</td>\n",
       "      <td>174.0</td>\n",
       "      <td>74.0</td>\n",
       "      <td>N</td>\n",
       "      <td>2</td>\n",
       "      <td>2019/11/6</td>\n",
       "      <td>0:05:22</td>\n",
       "    </tr>\n",
       "  </tbody>\n",
       "</table>\n",
       "</div>"
      ],
      "text/plain": [
       "                          School      Grade            Name  Gender  Height  \\\n",
       "0  Shanghai Jiao Tong University   Freshman    Gaopeng Yang  Female   158.9   \n",
       "1              Peking University   Freshman  Changqiang You    Male   166.5   \n",
       "2  Shanghai Jiao Tong University     Senior         Mei Sun    Male   188.9   \n",
       "3               Fudan University  Sophomore    Xiaojuan Sun  Female     NaN   \n",
       "4               Fudan University  Sophomore     Gaojuan You    Male   174.0   \n",
       "\n",
       "   Weight Transfer  Test_Number  Test_Date Time_Record  \n",
       "0    46.0        N            1  2019/10/5     0:04:34  \n",
       "1    70.0        N            1   2019/9/4     0:04:20  \n",
       "2    89.0        N            2  2019/9/12     0:05:22  \n",
       "3    41.0        N            2   2020/1/3     0:04:08  \n",
       "4    74.0        N            2  2019/11/6     0:05:22  "
      ]
     },
     "execution_count": 4,
     "metadata": {},
     "output_type": "execute_result"
    }
   ],
   "source": [
    "df.head()"
   ]
  },
  {
   "cell_type": "markdown",
   "id": "848c9e59",
   "metadata": {},
   "source": [
    "## 各校平均身高"
   ]
  },
  {
   "cell_type": "code",
   "execution_count": 5,
   "id": "6136b1c6",
   "metadata": {},
   "outputs": [
    {
     "data": {
      "text/plain": [
       "School\n",
       "Fudan University                 162.408824\n",
       "Peking University                162.977419\n",
       "Shanghai Jiao Tong University    163.932727\n",
       "Tsinghua University              163.149206\n",
       "Name: Height, dtype: float64"
      ]
     },
     "execution_count": 5,
     "metadata": {},
     "output_type": "execute_result"
    }
   ],
   "source": [
    "df.groupby(\"School\")[\"Height\"].mean()"
   ]
  },
  {
   "cell_type": "markdown",
   "id": "0060a3be",
   "metadata": {},
   "source": [
    "## 各校 男女的平均体重"
   ]
  },
  {
   "cell_type": "code",
   "execution_count": 6,
   "id": "d357db88",
   "metadata": {},
   "outputs": [
    {
     "data": {
      "text/plain": [
       "School                         Gender\n",
       "Fudan University               Female    47.900000\n",
       "                               Male      72.300000\n",
       "Peking University              Female    46.650000\n",
       "                               Male      73.700000\n",
       "Shanghai Jiao Tong University  Female    48.513514\n",
       "                               Male      76.000000\n",
       "Tsinghua University            Female    48.000000\n",
       "                               Male      69.947368\n",
       "Name: Weight, dtype: float64"
      ]
     },
     "execution_count": 6,
     "metadata": {},
     "output_type": "execute_result"
    }
   ],
   "source": [
    "df.groupby([\"School\",\"Gender\"])[\"Weight\"].mean()"
   ]
  },
  {
   "cell_type": "markdown",
   "id": "754ed27e",
   "metadata": {},
   "source": [
    "## condition for groupby"
   ]
  },
  {
   "cell_type": "code",
   "execution_count": 7,
   "id": "44eef885",
   "metadata": {},
   "outputs": [],
   "source": [
    "condition = df.Weight >= df.Weight.median()"
   ]
  },
  {
   "cell_type": "code",
   "execution_count": 8,
   "id": "b56d86c0",
   "metadata": {},
   "outputs": [
    {
     "data": {
      "text/plain": [
       "0      False\n",
       "1       True\n",
       "2       True\n",
       "3      False\n",
       "4       True\n",
       "       ...  \n",
       "195    False\n",
       "196    False\n",
       "197    False\n",
       "198     True\n",
       "199     True\n",
       "Name: Weight, Length: 200, dtype: bool"
      ]
     },
     "execution_count": 8,
     "metadata": {},
     "output_type": "execute_result"
    }
   ],
   "source": [
    "condition"
   ]
  },
  {
   "cell_type": "code",
   "execution_count": 10,
   "id": "970358e2",
   "metadata": {},
   "outputs": [
    {
     "data": {
      "text/plain": [
       "Weight\n",
       "False    157.15\n",
       "True     167.00\n",
       "Name: Height, dtype: float64"
      ]
     },
     "execution_count": 10,
     "metadata": {},
     "output_type": "execute_result"
    }
   ],
   "source": [
    "df.groupby(condition)[\"Height\"].median()"
   ]
  },
  {
   "cell_type": "markdown",
   "id": "e05dd812",
   "metadata": {},
   "source": [
    "### 体重不超过中位数的一组，身高中位数157， 体重超过中位数的另一组，身高中位数167."
   ]
  },
  {
   "cell_type": "markdown",
   "id": "dddb6d8f",
   "metadata": {},
   "source": [
    "# Groupby 对象"
   ]
  },
  {
   "cell_type": "code",
   "execution_count": 11,
   "id": "a25fd373",
   "metadata": {},
   "outputs": [],
   "source": [
    "gb = df.groupby([\"School\",\"Grade\"])"
   ]
  },
  {
   "cell_type": "code",
   "execution_count": 12,
   "id": "62e8c499",
   "metadata": {},
   "outputs": [
    {
     "data": {
      "text/plain": [
       "16"
      ]
     },
     "execution_count": 12,
     "metadata": {},
     "output_type": "execute_result"
    }
   ],
   "source": [
    "gb.ngroups"
   ]
  },
  {
   "cell_type": "code",
   "execution_count": 15,
   "id": "1d3a4e13",
   "metadata": {},
   "outputs": [
    {
     "data": {
      "text/plain": [
       "dict_keys([('Fudan University', 'Freshman'), ('Fudan University', 'Junior'), ('Fudan University', 'Senior'), ('Fudan University', 'Sophomore'), ('Peking University', 'Freshman'), ('Peking University', 'Junior'), ('Peking University', 'Senior'), ('Peking University', 'Sophomore'), ('Shanghai Jiao Tong University', 'Freshman'), ('Shanghai Jiao Tong University', 'Junior'), ('Shanghai Jiao Tong University', 'Senior'), ('Shanghai Jiao Tong University', 'Sophomore'), ('Tsinghua University', 'Freshman'), ('Tsinghua University', 'Junior'), ('Tsinghua University', 'Senior'), ('Tsinghua University', 'Sophomore')])"
      ]
     },
     "execution_count": 15,
     "metadata": {},
     "output_type": "execute_result"
    }
   ],
   "source": [
    "results = gb.groups\n",
    "results.keys()"
   ]
  },
  {
   "cell_type": "code",
   "execution_count": 17,
   "id": "d520918e",
   "metadata": {},
   "outputs": [
    {
     "data": {
      "text/plain": [
       "School                         Grade    \n",
       "Fudan University               Freshman      9\n",
       "                               Junior       12\n",
       "                               Senior       11\n",
       "                               Sophomore     8\n",
       "Peking University              Freshman     13\n",
       "                               Junior        8\n",
       "                               Senior        8\n",
       "                               Sophomore     5\n",
       "Shanghai Jiao Tong University  Freshman     13\n",
       "                               Junior       17\n",
       "                               Senior       22\n",
       "                               Sophomore     5\n",
       "Tsinghua University            Freshman     17\n",
       "                               Junior       22\n",
       "                               Senior       14\n",
       "                               Sophomore    16\n",
       "dtype: int64"
      ]
     },
     "execution_count": 17,
     "metadata": {},
     "output_type": "execute_result"
    }
   ],
   "source": [
    "gb.size()"
   ]
  },
  {
   "cell_type": "code",
   "execution_count": 21,
   "id": "5618777f",
   "metadata": {},
   "outputs": [
    {
     "data": {
      "text/html": [
       "<div>\n",
       "<style scoped>\n",
       "    .dataframe tbody tr th:only-of-type {\n",
       "        vertical-align: middle;\n",
       "    }\n",
       "\n",
       "    .dataframe tbody tr th {\n",
       "        vertical-align: top;\n",
       "    }\n",
       "\n",
       "    .dataframe thead th {\n",
       "        text-align: right;\n",
       "    }\n",
       "</style>\n",
       "<table border=\"1\" class=\"dataframe\">\n",
       "  <thead>\n",
       "    <tr style=\"text-align: right;\">\n",
       "      <th></th>\n",
       "      <th>School</th>\n",
       "      <th>Grade</th>\n",
       "      <th>Name</th>\n",
       "      <th>Gender</th>\n",
       "      <th>Height</th>\n",
       "      <th>Weight</th>\n",
       "      <th>Transfer</th>\n",
       "      <th>Test_Number</th>\n",
       "      <th>Test_Date</th>\n",
       "      <th>Time_Record</th>\n",
       "    </tr>\n",
       "  </thead>\n",
       "  <tbody>\n",
       "    <tr>\n",
       "      <th>39</th>\n",
       "      <td>Fudan University</td>\n",
       "      <td>Senior</td>\n",
       "      <td>Chengpeng Zheng</td>\n",
       "      <td>Female</td>\n",
       "      <td>151.7</td>\n",
       "      <td>38.0</td>\n",
       "      <td>N</td>\n",
       "      <td>2</td>\n",
       "      <td>2019/11/1</td>\n",
       "      <td>0:03:39</td>\n",
       "    </tr>\n",
       "    <tr>\n",
       "      <th>46</th>\n",
       "      <td>Fudan University</td>\n",
       "      <td>Senior</td>\n",
       "      <td>Feng Zhou</td>\n",
       "      <td>Female</td>\n",
       "      <td>155.6</td>\n",
       "      <td>47.0</td>\n",
       "      <td>N</td>\n",
       "      <td>2</td>\n",
       "      <td>2019/11/18</td>\n",
       "      <td>0:04:59</td>\n",
       "    </tr>\n",
       "    <tr>\n",
       "      <th>49</th>\n",
       "      <td>Fudan University</td>\n",
       "      <td>Senior</td>\n",
       "      <td>Gaomei Lv</td>\n",
       "      <td>Female</td>\n",
       "      <td>147.3</td>\n",
       "      <td>34.0</td>\n",
       "      <td>N</td>\n",
       "      <td>2</td>\n",
       "      <td>2019/10/16</td>\n",
       "      <td>0:03:44</td>\n",
       "    </tr>\n",
       "    <tr>\n",
       "      <th>52</th>\n",
       "      <td>Fudan University</td>\n",
       "      <td>Senior</td>\n",
       "      <td>Chunli Lv</td>\n",
       "      <td>Female</td>\n",
       "      <td>166.7</td>\n",
       "      <td>56.0</td>\n",
       "      <td>N</td>\n",
       "      <td>2</td>\n",
       "      <td>2019/11/12</td>\n",
       "      <td>0:03:53</td>\n",
       "    </tr>\n",
       "    <tr>\n",
       "      <th>66</th>\n",
       "      <td>Fudan University</td>\n",
       "      <td>Senior</td>\n",
       "      <td>Chengpeng Zhou</td>\n",
       "      <td>Male</td>\n",
       "      <td>177.1</td>\n",
       "      <td>81.0</td>\n",
       "      <td>N</td>\n",
       "      <td>1</td>\n",
       "      <td>2019/9/5</td>\n",
       "      <td>0:03:38</td>\n",
       "    </tr>\n",
       "    <tr>\n",
       "      <th>77</th>\n",
       "      <td>Fudan University</td>\n",
       "      <td>Senior</td>\n",
       "      <td>Gaopeng Qin</td>\n",
       "      <td>Female</td>\n",
       "      <td>159.4</td>\n",
       "      <td>52.0</td>\n",
       "      <td>N</td>\n",
       "      <td>3</td>\n",
       "      <td>2019/9/28</td>\n",
       "      <td>0:05:15</td>\n",
       "    </tr>\n",
       "    <tr>\n",
       "      <th>112</th>\n",
       "      <td>Fudan University</td>\n",
       "      <td>Senior</td>\n",
       "      <td>Chunjuan Xu</td>\n",
       "      <td>Female</td>\n",
       "      <td>159.8</td>\n",
       "      <td>47.0</td>\n",
       "      <td>N</td>\n",
       "      <td>1</td>\n",
       "      <td>2019/10/18</td>\n",
       "      <td>0:05:03</td>\n",
       "    </tr>\n",
       "    <tr>\n",
       "      <th>129</th>\n",
       "      <td>Fudan University</td>\n",
       "      <td>Senior</td>\n",
       "      <td>Juan Zhang</td>\n",
       "      <td>Female</td>\n",
       "      <td>159.9</td>\n",
       "      <td>47.0</td>\n",
       "      <td>N</td>\n",
       "      <td>2</td>\n",
       "      <td>2019/11/11</td>\n",
       "      <td>0:03:34</td>\n",
       "    </tr>\n",
       "    <tr>\n",
       "      <th>131</th>\n",
       "      <td>Fudan University</td>\n",
       "      <td>Senior</td>\n",
       "      <td>Chengpeng Qian</td>\n",
       "      <td>Male</td>\n",
       "      <td>177.2</td>\n",
       "      <td>73.0</td>\n",
       "      <td>Y</td>\n",
       "      <td>1</td>\n",
       "      <td>2019/12/19</td>\n",
       "      <td>0:05:18</td>\n",
       "    </tr>\n",
       "    <tr>\n",
       "      <th>138</th>\n",
       "      <td>Fudan University</td>\n",
       "      <td>Senior</td>\n",
       "      <td>Xiaojuan Qian</td>\n",
       "      <td>Female</td>\n",
       "      <td>160.6</td>\n",
       "      <td>50.0</td>\n",
       "      <td>N</td>\n",
       "      <td>1</td>\n",
       "      <td>2020/1/1</td>\n",
       "      <td>0:04:45</td>\n",
       "    </tr>\n",
       "    <tr>\n",
       "      <th>144</th>\n",
       "      <td>Fudan University</td>\n",
       "      <td>Senior</td>\n",
       "      <td>Quan Xu</td>\n",
       "      <td>Female</td>\n",
       "      <td>157.0</td>\n",
       "      <td>44.0</td>\n",
       "      <td>N</td>\n",
       "      <td>2</td>\n",
       "      <td>2019/11/7</td>\n",
       "      <td>0:03:44</td>\n",
       "    </tr>\n",
       "  </tbody>\n",
       "</table>\n",
       "</div>"
      ],
      "text/plain": [
       "               School   Grade             Name  Gender  Height  Weight  \\\n",
       "39   Fudan University  Senior  Chengpeng Zheng  Female   151.7    38.0   \n",
       "46   Fudan University  Senior        Feng Zhou  Female   155.6    47.0   \n",
       "49   Fudan University  Senior        Gaomei Lv  Female   147.3    34.0   \n",
       "52   Fudan University  Senior        Chunli Lv  Female   166.7    56.0   \n",
       "66   Fudan University  Senior   Chengpeng Zhou    Male   177.1    81.0   \n",
       "77   Fudan University  Senior      Gaopeng Qin  Female   159.4    52.0   \n",
       "112  Fudan University  Senior      Chunjuan Xu  Female   159.8    47.0   \n",
       "129  Fudan University  Senior       Juan Zhang  Female   159.9    47.0   \n",
       "131  Fudan University  Senior   Chengpeng Qian    Male   177.2    73.0   \n",
       "138  Fudan University  Senior    Xiaojuan Qian  Female   160.6    50.0   \n",
       "144  Fudan University  Senior          Quan Xu  Female   157.0    44.0   \n",
       "\n",
       "    Transfer  Test_Number   Test_Date Time_Record  \n",
       "39         N            2   2019/11/1     0:03:39  \n",
       "46         N            2  2019/11/18     0:04:59  \n",
       "49         N            2  2019/10/16     0:03:44  \n",
       "52         N            2  2019/11/12     0:03:53  \n",
       "66         N            1    2019/9/5     0:03:38  \n",
       "77         N            3   2019/9/28     0:05:15  \n",
       "112        N            1  2019/10/18     0:05:03  \n",
       "129        N            2  2019/11/11     0:03:34  \n",
       "131        Y            1  2019/12/19     0:05:18  \n",
       "138        N            1    2020/1/1     0:04:45  \n",
       "144        N            2   2019/11/7     0:03:44  "
      ]
     },
     "execution_count": 21,
     "metadata": {},
     "output_type": "execute_result"
    }
   ],
   "source": [
    "gb.get_group((\"Fudan University\",\"Senior\"))"
   ]
  },
  {
   "cell_type": "markdown",
   "id": "95e97d0d",
   "metadata": {},
   "source": [
    "# 聚合函数 Aggregation"
   ]
  },
  {
   "cell_type": "code",
   "execution_count": 22,
   "id": "b3b56121",
   "metadata": {},
   "outputs": [],
   "source": [
    "gb= df.groupby(\"Gender\")[\"Weight\"]"
   ]
  },
  {
   "cell_type": "code",
   "execution_count": 23,
   "id": "150ca04f",
   "metadata": {},
   "outputs": [
    {
     "data": {
      "text/plain": [
       "Gender\n",
       "Female    47.918519\n",
       "Male      72.759259\n",
       "Name: Weight, dtype: float64"
      ]
     },
     "execution_count": 23,
     "metadata": {},
     "output_type": "execute_result"
    }
   ],
   "source": [
    "gb.mean()"
   ]
  },
  {
   "cell_type": "code",
   "execution_count": 24,
   "id": "7e4f3939",
   "metadata": {},
   "outputs": [
    {
     "data": {
      "text/plain": [
       "Gender\n",
       "Female    28\n",
       "Male       2\n",
       "Name: Weight, dtype: int64"
      ]
     },
     "execution_count": 24,
     "metadata": {},
     "output_type": "execute_result"
    }
   ],
   "source": [
    "gb.idxmax()"
   ]
  },
  {
   "cell_type": "code",
   "execution_count": 25,
   "id": "f52993c3",
   "metadata": {},
   "outputs": [
    {
     "data": {
      "text/plain": [
       "Gender\n",
       "Female     49\n",
       "Male      199\n",
       "Name: Weight, dtype: int64"
      ]
     },
     "execution_count": 25,
     "metadata": {},
     "output_type": "execute_result"
    }
   ],
   "source": [
    "gb.idxmin()"
   ]
  },
  {
   "cell_type": "markdown",
   "id": "3a4a544f",
   "metadata": {},
   "source": [
    "# quantile 百分位"
   ]
  },
  {
   "cell_type": "code",
   "execution_count": 26,
   "id": "2966243a",
   "metadata": {},
   "outputs": [
    {
     "data": {
      "text/plain": [
       "Gender      \n",
       "Female  0.25    44.00\n",
       "        0.50    48.00\n",
       "        0.75    52.00\n",
       "Male    0.25    69.00\n",
       "        0.50    73.00\n",
       "        0.75    78.75\n",
       "Name: Weight, dtype: float64"
      ]
     },
     "execution_count": 26,
     "metadata": {},
     "output_type": "execute_result"
    }
   ],
   "source": [
    "gb.quantile([0.25,0.5,0.75])"
   ]
  },
  {
   "cell_type": "markdown",
   "id": "247c7813",
   "metadata": {},
   "source": [
    "# 分组后，接受多个来源数据"
   ]
  },
  {
   "cell_type": "code",
   "execution_count": 28,
   "id": "f3fd71b7",
   "metadata": {},
   "outputs": [],
   "source": [
    "gb = df.groupby([\"School\",\"Gender\"])[[\"Height\",\"Weight\"]]"
   ]
  },
  {
   "cell_type": "code",
   "execution_count": 29,
   "id": "0263435d",
   "metadata": {},
   "outputs": [
    {
     "data": {
      "text/html": [
       "<div>\n",
       "<style scoped>\n",
       "    .dataframe tbody tr th:only-of-type {\n",
       "        vertical-align: middle;\n",
       "    }\n",
       "\n",
       "    .dataframe tbody tr th {\n",
       "        vertical-align: top;\n",
       "    }\n",
       "\n",
       "    .dataframe thead th {\n",
       "        text-align: right;\n",
       "    }\n",
       "</style>\n",
       "<table border=\"1\" class=\"dataframe\">\n",
       "  <thead>\n",
       "    <tr style=\"text-align: right;\">\n",
       "      <th></th>\n",
       "      <th></th>\n",
       "      <th>Height</th>\n",
       "      <th>Weight</th>\n",
       "    </tr>\n",
       "    <tr>\n",
       "      <th>School</th>\n",
       "      <th>Gender</th>\n",
       "      <th></th>\n",
       "      <th></th>\n",
       "    </tr>\n",
       "  </thead>\n",
       "  <tbody>\n",
       "    <tr>\n",
       "      <th rowspan=\"2\" valign=\"top\">Fudan University</th>\n",
       "      <th>Female</th>\n",
       "      <td>170.2</td>\n",
       "      <td>63.0</td>\n",
       "    </tr>\n",
       "    <tr>\n",
       "      <th>Male</th>\n",
       "      <td>177.3</td>\n",
       "      <td>81.0</td>\n",
       "    </tr>\n",
       "    <tr>\n",
       "      <th rowspan=\"2\" valign=\"top\">Peking University</th>\n",
       "      <th>Female</th>\n",
       "      <td>170.0</td>\n",
       "      <td>56.0</td>\n",
       "    </tr>\n",
       "    <tr>\n",
       "      <th>Male</th>\n",
       "      <td>185.3</td>\n",
       "      <td>87.0</td>\n",
       "    </tr>\n",
       "    <tr>\n",
       "      <th rowspan=\"2\" valign=\"top\">Shanghai Jiao Tong University</th>\n",
       "      <th>Female</th>\n",
       "      <td>167.7</td>\n",
       "      <td>57.0</td>\n",
       "    </tr>\n",
       "    <tr>\n",
       "      <th>Male</th>\n",
       "      <td>188.9</td>\n",
       "      <td>89.0</td>\n",
       "    </tr>\n",
       "    <tr>\n",
       "      <th rowspan=\"2\" valign=\"top\">Tsinghua University</th>\n",
       "      <th>Female</th>\n",
       "      <td>168.9</td>\n",
       "      <td>57.0</td>\n",
       "    </tr>\n",
       "    <tr>\n",
       "      <th>Male</th>\n",
       "      <td>193.9</td>\n",
       "      <td>79.0</td>\n",
       "    </tr>\n",
       "  </tbody>\n",
       "</table>\n",
       "</div>"
      ],
      "text/plain": [
       "                                      Height  Weight\n",
       "School                        Gender                \n",
       "Fudan University              Female   170.2    63.0\n",
       "                              Male     177.3    81.0\n",
       "Peking University             Female   170.0    56.0\n",
       "                              Male     185.3    87.0\n",
       "Shanghai Jiao Tong University Female   167.7    57.0\n",
       "                              Male     188.9    89.0\n",
       "Tsinghua University           Female   168.9    57.0\n",
       "                              Male     193.9    79.0"
      ]
     },
     "execution_count": 29,
     "metadata": {},
     "output_type": "execute_result"
    }
   ],
   "source": [
    "gb.max()"
   ]
  },
  {
   "cell_type": "markdown",
   "id": "5b34bccf",
   "metadata": {},
   "source": [
    "# agg 方法"
   ]
  },
  {
   "cell_type": "markdown",
   "id": "70ded4c7",
   "metadata": {},
   "source": [
    "##  使用多个函数"
   ]
  },
  {
   "cell_type": "code",
   "execution_count": 30,
   "id": "4dde2c08",
   "metadata": {},
   "outputs": [
    {
     "data": {
      "text/html": [
       "<div>\n",
       "<style scoped>\n",
       "    .dataframe tbody tr th:only-of-type {\n",
       "        vertical-align: middle;\n",
       "    }\n",
       "\n",
       "    .dataframe tbody tr th {\n",
       "        vertical-align: top;\n",
       "    }\n",
       "\n",
       "    .dataframe thead tr th {\n",
       "        text-align: left;\n",
       "    }\n",
       "\n",
       "    .dataframe thead tr:last-of-type th {\n",
       "        text-align: right;\n",
       "    }\n",
       "</style>\n",
       "<table border=\"1\" class=\"dataframe\">\n",
       "  <thead>\n",
       "    <tr>\n",
       "      <th></th>\n",
       "      <th></th>\n",
       "      <th colspan=\"3\" halign=\"left\">Height</th>\n",
       "      <th colspan=\"3\" halign=\"left\">Weight</th>\n",
       "    </tr>\n",
       "    <tr>\n",
       "      <th></th>\n",
       "      <th></th>\n",
       "      <th>min</th>\n",
       "      <th>max</th>\n",
       "      <th>median</th>\n",
       "      <th>min</th>\n",
       "      <th>max</th>\n",
       "      <th>median</th>\n",
       "    </tr>\n",
       "    <tr>\n",
       "      <th>School</th>\n",
       "      <th>Gender</th>\n",
       "      <th></th>\n",
       "      <th></th>\n",
       "      <th></th>\n",
       "      <th></th>\n",
       "      <th></th>\n",
       "      <th></th>\n",
       "    </tr>\n",
       "  </thead>\n",
       "  <tbody>\n",
       "    <tr>\n",
       "      <th rowspan=\"2\" valign=\"top\">Fudan University</th>\n",
       "      <th>Female</th>\n",
       "      <td>147.3</td>\n",
       "      <td>170.2</td>\n",
       "      <td>159.10</td>\n",
       "      <td>34.0</td>\n",
       "      <td>63.0</td>\n",
       "      <td>47.5</td>\n",
       "    </tr>\n",
       "    <tr>\n",
       "      <th>Male</th>\n",
       "      <td>167.6</td>\n",
       "      <td>177.3</td>\n",
       "      <td>175.95</td>\n",
       "      <td>62.0</td>\n",
       "      <td>81.0</td>\n",
       "      <td>73.5</td>\n",
       "    </tr>\n",
       "    <tr>\n",
       "      <th rowspan=\"2\" valign=\"top\">Peking University</th>\n",
       "      <th>Female</th>\n",
       "      <td>147.8</td>\n",
       "      <td>170.0</td>\n",
       "      <td>159.90</td>\n",
       "      <td>34.0</td>\n",
       "      <td>56.0</td>\n",
       "      <td>46.5</td>\n",
       "    </tr>\n",
       "    <tr>\n",
       "      <th>Male</th>\n",
       "      <td>162.4</td>\n",
       "      <td>185.3</td>\n",
       "      <td>171.00</td>\n",
       "      <td>58.0</td>\n",
       "      <td>87.0</td>\n",
       "      <td>73.5</td>\n",
       "    </tr>\n",
       "    <tr>\n",
       "      <th rowspan=\"2\" valign=\"top\">Shanghai Jiao Tong University</th>\n",
       "      <th>Female</th>\n",
       "      <td>145.4</td>\n",
       "      <td>167.7</td>\n",
       "      <td>159.15</td>\n",
       "      <td>34.0</td>\n",
       "      <td>57.0</td>\n",
       "      <td>49.0</td>\n",
       "    </tr>\n",
       "    <tr>\n",
       "      <th>Male</th>\n",
       "      <td>166.0</td>\n",
       "      <td>188.9</td>\n",
       "      <td>176.40</td>\n",
       "      <td>62.0</td>\n",
       "      <td>89.0</td>\n",
       "      <td>75.0</td>\n",
       "    </tr>\n",
       "    <tr>\n",
       "      <th rowspan=\"2\" valign=\"top\">Tsinghua University</th>\n",
       "      <th>Female</th>\n",
       "      <td>150.5</td>\n",
       "      <td>168.9</td>\n",
       "      <td>160.70</td>\n",
       "      <td>36.0</td>\n",
       "      <td>57.0</td>\n",
       "      <td>49.0</td>\n",
       "    </tr>\n",
       "    <tr>\n",
       "      <th>Male</th>\n",
       "      <td>155.7</td>\n",
       "      <td>193.9</td>\n",
       "      <td>170.40</td>\n",
       "      <td>51.0</td>\n",
       "      <td>79.0</td>\n",
       "      <td>71.0</td>\n",
       "    </tr>\n",
       "  </tbody>\n",
       "</table>\n",
       "</div>"
      ],
      "text/plain": [
       "                                     Height                Weight             \n",
       "                                        min    max  median    min   max median\n",
       "School                        Gender                                          \n",
       "Fudan University              Female  147.3  170.2  159.10   34.0  63.0   47.5\n",
       "                              Male    167.6  177.3  175.95   62.0  81.0   73.5\n",
       "Peking University             Female  147.8  170.0  159.90   34.0  56.0   46.5\n",
       "                              Male    162.4  185.3  171.00   58.0  87.0   73.5\n",
       "Shanghai Jiao Tong University Female  145.4  167.7  159.15   34.0  57.0   49.0\n",
       "                              Male    166.0  188.9  176.40   62.0  89.0   75.0\n",
       "Tsinghua University           Female  150.5  168.9  160.70   36.0  57.0   49.0\n",
       "                              Male    155.7  193.9  170.40   51.0  79.0   71.0"
      ]
     },
     "execution_count": 30,
     "metadata": {},
     "output_type": "execute_result"
    }
   ],
   "source": [
    "gb.agg([\"min\",\"max\",\"median\"])"
   ]
  },
  {
   "cell_type": "markdown",
   "id": "91e7b413",
   "metadata": {},
   "source": [
    "## 对特定的列使用特定的聚合函数"
   ]
  },
  {
   "cell_type": "code",
   "execution_count": 31,
   "id": "c0fcc4c7",
   "metadata": {},
   "outputs": [
    {
     "data": {
      "text/html": [
       "<div>\n",
       "<style scoped>\n",
       "    .dataframe tbody tr th:only-of-type {\n",
       "        vertical-align: middle;\n",
       "    }\n",
       "\n",
       "    .dataframe tbody tr th {\n",
       "        vertical-align: top;\n",
       "    }\n",
       "\n",
       "    .dataframe thead tr th {\n",
       "        text-align: left;\n",
       "    }\n",
       "\n",
       "    .dataframe thead tr:last-of-type th {\n",
       "        text-align: right;\n",
       "    }\n",
       "</style>\n",
       "<table border=\"1\" class=\"dataframe\">\n",
       "  <thead>\n",
       "    <tr>\n",
       "      <th></th>\n",
       "      <th></th>\n",
       "      <th colspan=\"3\" halign=\"left\">Height</th>\n",
       "      <th colspan=\"3\" halign=\"left\">Weight</th>\n",
       "    </tr>\n",
       "    <tr>\n",
       "      <th></th>\n",
       "      <th></th>\n",
       "      <th>min</th>\n",
       "      <th>median</th>\n",
       "      <th>max</th>\n",
       "      <th>mean</th>\n",
       "      <th>idxmin</th>\n",
       "      <th>idxmax</th>\n",
       "    </tr>\n",
       "    <tr>\n",
       "      <th>School</th>\n",
       "      <th>Gender</th>\n",
       "      <th></th>\n",
       "      <th></th>\n",
       "      <th></th>\n",
       "      <th></th>\n",
       "      <th></th>\n",
       "      <th></th>\n",
       "    </tr>\n",
       "  </thead>\n",
       "  <tbody>\n",
       "    <tr>\n",
       "      <th rowspan=\"2\" valign=\"top\">Fudan University</th>\n",
       "      <th>Female</th>\n",
       "      <td>147.3</td>\n",
       "      <td>159.10</td>\n",
       "      <td>170.2</td>\n",
       "      <td>47.900000</td>\n",
       "      <td>49</td>\n",
       "      <td>28</td>\n",
       "    </tr>\n",
       "    <tr>\n",
       "      <th>Male</th>\n",
       "      <td>167.6</td>\n",
       "      <td>175.95</td>\n",
       "      <td>177.3</td>\n",
       "      <td>72.300000</td>\n",
       "      <td>152</td>\n",
       "      <td>66</td>\n",
       "    </tr>\n",
       "    <tr>\n",
       "      <th rowspan=\"2\" valign=\"top\">Peking University</th>\n",
       "      <th>Female</th>\n",
       "      <td>147.8</td>\n",
       "      <td>159.90</td>\n",
       "      <td>170.0</td>\n",
       "      <td>46.650000</td>\n",
       "      <td>120</td>\n",
       "      <td>75</td>\n",
       "    </tr>\n",
       "    <tr>\n",
       "      <th>Male</th>\n",
       "      <td>162.4</td>\n",
       "      <td>171.00</td>\n",
       "      <td>185.3</td>\n",
       "      <td>73.700000</td>\n",
       "      <td>54</td>\n",
       "      <td>38</td>\n",
       "    </tr>\n",
       "    <tr>\n",
       "      <th rowspan=\"2\" valign=\"top\">Shanghai Jiao Tong University</th>\n",
       "      <th>Female</th>\n",
       "      <td>145.4</td>\n",
       "      <td>159.15</td>\n",
       "      <td>167.7</td>\n",
       "      <td>48.513514</td>\n",
       "      <td>143</td>\n",
       "      <td>64</td>\n",
       "    </tr>\n",
       "    <tr>\n",
       "      <th>Male</th>\n",
       "      <td>166.0</td>\n",
       "      <td>176.40</td>\n",
       "      <td>188.9</td>\n",
       "      <td>76.000000</td>\n",
       "      <td>21</td>\n",
       "      <td>2</td>\n",
       "    </tr>\n",
       "    <tr>\n",
       "      <th rowspan=\"2\" valign=\"top\">Tsinghua University</th>\n",
       "      <th>Female</th>\n",
       "      <td>150.5</td>\n",
       "      <td>160.70</td>\n",
       "      <td>168.9</td>\n",
       "      <td>48.000000</td>\n",
       "      <td>139</td>\n",
       "      <td>14</td>\n",
       "    </tr>\n",
       "    <tr>\n",
       "      <th>Male</th>\n",
       "      <td>155.7</td>\n",
       "      <td>170.40</td>\n",
       "      <td>193.9</td>\n",
       "      <td>69.947368</td>\n",
       "      <td>199</td>\n",
       "      <td>40</td>\n",
       "    </tr>\n",
       "  </tbody>\n",
       "</table>\n",
       "</div>"
      ],
      "text/plain": [
       "                                     Height                    Weight         \\\n",
       "                                        min  median    max       mean idxmin   \n",
       "School                        Gender                                           \n",
       "Fudan University              Female  147.3  159.10  170.2  47.900000     49   \n",
       "                              Male    167.6  175.95  177.3  72.300000    152   \n",
       "Peking University             Female  147.8  159.90  170.0  46.650000    120   \n",
       "                              Male    162.4  171.00  185.3  73.700000     54   \n",
       "Shanghai Jiao Tong University Female  145.4  159.15  167.7  48.513514    143   \n",
       "                              Male    166.0  176.40  188.9  76.000000     21   \n",
       "Tsinghua University           Female  150.5  160.70  168.9  48.000000    139   \n",
       "                              Male    155.7  170.40  193.9  69.947368    199   \n",
       "\n",
       "                                             \n",
       "                                     idxmax  \n",
       "School                        Gender         \n",
       "Fudan University              Female     28  \n",
       "                              Male       66  \n",
       "Peking University             Female     75  \n",
       "                              Male       38  \n",
       "Shanghai Jiao Tong University Female     64  \n",
       "                              Male        2  \n",
       "Tsinghua University           Female     14  \n",
       "                              Male       40  "
      ]
     },
     "execution_count": 31,
     "metadata": {},
     "output_type": "execute_result"
    }
   ],
   "source": [
    "gb.agg({\"Height\":[\"min\",\"median\",\"max\"],\"Weight\":[\"mean\",\"idxmin\",\"idxmax\"]})"
   ]
  },
  {
   "cell_type": "markdown",
   "id": "aba2f83d",
   "metadata": {},
   "source": [
    "## 使用自定义函数"
   ]
  },
  {
   "cell_type": "code",
   "execution_count": 32,
   "id": "7999dd04",
   "metadata": {},
   "outputs": [
    {
     "data": {
      "text/html": [
       "<div>\n",
       "<style scoped>\n",
       "    .dataframe tbody tr th:only-of-type {\n",
       "        vertical-align: middle;\n",
       "    }\n",
       "\n",
       "    .dataframe tbody tr th {\n",
       "        vertical-align: top;\n",
       "    }\n",
       "\n",
       "    .dataframe thead th {\n",
       "        text-align: right;\n",
       "    }\n",
       "</style>\n",
       "<table border=\"1\" class=\"dataframe\">\n",
       "  <thead>\n",
       "    <tr style=\"text-align: right;\">\n",
       "      <th></th>\n",
       "      <th></th>\n",
       "      <th>Height</th>\n",
       "      <th>Weight</th>\n",
       "    </tr>\n",
       "    <tr>\n",
       "      <th>School</th>\n",
       "      <th>Gender</th>\n",
       "      <th></th>\n",
       "      <th></th>\n",
       "    </tr>\n",
       "  </thead>\n",
       "  <tbody>\n",
       "    <tr>\n",
       "      <th rowspan=\"2\" valign=\"top\">Fudan University</th>\n",
       "      <th>Female</th>\n",
       "      <td>22.9</td>\n",
       "      <td>29.0</td>\n",
       "    </tr>\n",
       "    <tr>\n",
       "      <th>Male</th>\n",
       "      <td>9.7</td>\n",
       "      <td>19.0</td>\n",
       "    </tr>\n",
       "    <tr>\n",
       "      <th rowspan=\"2\" valign=\"top\">Peking University</th>\n",
       "      <th>Female</th>\n",
       "      <td>22.2</td>\n",
       "      <td>22.0</td>\n",
       "    </tr>\n",
       "    <tr>\n",
       "      <th>Male</th>\n",
       "      <td>22.9</td>\n",
       "      <td>29.0</td>\n",
       "    </tr>\n",
       "    <tr>\n",
       "      <th rowspan=\"2\" valign=\"top\">Shanghai Jiao Tong University</th>\n",
       "      <th>Female</th>\n",
       "      <td>22.3</td>\n",
       "      <td>23.0</td>\n",
       "    </tr>\n",
       "    <tr>\n",
       "      <th>Male</th>\n",
       "      <td>22.9</td>\n",
       "      <td>27.0</td>\n",
       "    </tr>\n",
       "    <tr>\n",
       "      <th rowspan=\"2\" valign=\"top\">Tsinghua University</th>\n",
       "      <th>Female</th>\n",
       "      <td>18.4</td>\n",
       "      <td>21.0</td>\n",
       "    </tr>\n",
       "    <tr>\n",
       "      <th>Male</th>\n",
       "      <td>38.2</td>\n",
       "      <td>28.0</td>\n",
       "    </tr>\n",
       "  </tbody>\n",
       "</table>\n",
       "</div>"
      ],
      "text/plain": [
       "                                      Height  Weight\n",
       "School                        Gender                \n",
       "Fudan University              Female    22.9    29.0\n",
       "                              Male       9.7    19.0\n",
       "Peking University             Female    22.2    22.0\n",
       "                              Male      22.9    29.0\n",
       "Shanghai Jiao Tong University Female    22.3    23.0\n",
       "                              Male      22.9    27.0\n",
       "Tsinghua University           Female    18.4    21.0\n",
       "                              Male      38.2    28.0"
      ]
     },
     "execution_count": 32,
     "metadata": {},
     "output_type": "execute_result"
    }
   ],
   "source": [
    "gb.agg(lambda x : x.max()-x.min())"
   ]
  },
  {
   "cell_type": "markdown",
   "id": "fa889fae",
   "metadata": {},
   "source": [
    "## 聚合结果重命名"
   ]
  },
  {
   "cell_type": "code",
   "execution_count": 34,
   "id": "380c30ab",
   "metadata": {},
   "outputs": [
    {
     "data": {
      "text/html": [
       "<div>\n",
       "<style scoped>\n",
       "    .dataframe tbody tr th:only-of-type {\n",
       "        vertical-align: middle;\n",
       "    }\n",
       "\n",
       "    .dataframe tbody tr th {\n",
       "        vertical-align: top;\n",
       "    }\n",
       "\n",
       "    .dataframe thead tr th {\n",
       "        text-align: left;\n",
       "    }\n",
       "\n",
       "    .dataframe thead tr:last-of-type th {\n",
       "        text-align: right;\n",
       "    }\n",
       "</style>\n",
       "<table border=\"1\" class=\"dataframe\">\n",
       "  <thead>\n",
       "    <tr>\n",
       "      <th></th>\n",
       "      <th></th>\n",
       "      <th colspan=\"3\" halign=\"left\">Height</th>\n",
       "      <th colspan=\"3\" halign=\"left\">Weight</th>\n",
       "    </tr>\n",
       "    <tr>\n",
       "      <th></th>\n",
       "      <th></th>\n",
       "      <th>Peak to Peak</th>\n",
       "      <th>Standard Deviation</th>\n",
       "      <th>Vardiance</th>\n",
       "      <th>Peak to Peak</th>\n",
       "      <th>Standard Deviation</th>\n",
       "      <th>Vardiance</th>\n",
       "    </tr>\n",
       "    <tr>\n",
       "      <th>School</th>\n",
       "      <th>Gender</th>\n",
       "      <th></th>\n",
       "      <th></th>\n",
       "      <th></th>\n",
       "      <th></th>\n",
       "      <th></th>\n",
       "      <th></th>\n",
       "    </tr>\n",
       "  </thead>\n",
       "  <tbody>\n",
       "    <tr>\n",
       "      <th rowspan=\"2\" valign=\"top\">Fudan University</th>\n",
       "      <th>Female</th>\n",
       "      <td>22.9</td>\n",
       "      <td>5.536086</td>\n",
       "      <td>30.648246</td>\n",
       "      <td>29.0</td>\n",
       "      <td>6.098898</td>\n",
       "      <td>37.196552</td>\n",
       "    </tr>\n",
       "    <tr>\n",
       "      <th>Male</th>\n",
       "      <td>9.7</td>\n",
       "      <td>3.934259</td>\n",
       "      <td>15.478393</td>\n",
       "      <td>19.0</td>\n",
       "      <td>6.092801</td>\n",
       "      <td>37.122222</td>\n",
       "    </tr>\n",
       "    <tr>\n",
       "      <th rowspan=\"2\" valign=\"top\">Peking University</th>\n",
       "      <th>Female</th>\n",
       "      <td>22.2</td>\n",
       "      <td>6.107318</td>\n",
       "      <td>37.299333</td>\n",
       "      <td>22.0</td>\n",
       "      <td>5.769931</td>\n",
       "      <td>33.292105</td>\n",
       "    </tr>\n",
       "    <tr>\n",
       "      <th>Male</th>\n",
       "      <td>22.9</td>\n",
       "      <td>7.132562</td>\n",
       "      <td>50.873444</td>\n",
       "      <td>29.0</td>\n",
       "      <td>8.667308</td>\n",
       "      <td>75.122222</td>\n",
       "    </tr>\n",
       "    <tr>\n",
       "      <th rowspan=\"2\" valign=\"top\">Shanghai Jiao Tong University</th>\n",
       "      <th>Female</th>\n",
       "      <td>22.3</td>\n",
       "      <td>4.901464</td>\n",
       "      <td>24.024353</td>\n",
       "      <td>23.0</td>\n",
       "      <td>4.764578</td>\n",
       "      <td>22.701201</td>\n",
       "    </tr>\n",
       "    <tr>\n",
       "      <th>Male</th>\n",
       "      <td>22.9</td>\n",
       "      <td>6.929317</td>\n",
       "      <td>48.015429</td>\n",
       "      <td>27.0</td>\n",
       "      <td>8.124038</td>\n",
       "      <td>66.000000</td>\n",
       "    </tr>\n",
       "    <tr>\n",
       "      <th rowspan=\"2\" valign=\"top\">Tsinghua University</th>\n",
       "      <th>Female</th>\n",
       "      <td>18.4</td>\n",
       "      <td>4.452558</td>\n",
       "      <td>19.825273</td>\n",
       "      <td>21.0</td>\n",
       "      <td>5.343519</td>\n",
       "      <td>28.553191</td>\n",
       "    </tr>\n",
       "    <tr>\n",
       "      <th>Male</th>\n",
       "      <td>38.2</td>\n",
       "      <td>7.665825</td>\n",
       "      <td>58.764869</td>\n",
       "      <td>28.0</td>\n",
       "      <td>7.260806</td>\n",
       "      <td>52.719298</td>\n",
       "    </tr>\n",
       "  </tbody>\n",
       "</table>\n",
       "</div>"
      ],
      "text/plain": [
       "                                           Height                     \\\n",
       "                                     Peak to Peak Standard Deviation   \n",
       "School                        Gender                                   \n",
       "Fudan University              Female         22.9           5.536086   \n",
       "                              Male            9.7           3.934259   \n",
       "Peking University             Female         22.2           6.107318   \n",
       "                              Male           22.9           7.132562   \n",
       "Shanghai Jiao Tong University Female         22.3           4.901464   \n",
       "                              Male           22.9           6.929317   \n",
       "Tsinghua University           Female         18.4           4.452558   \n",
       "                              Male           38.2           7.665825   \n",
       "\n",
       "                                                      Weight  \\\n",
       "                                      Vardiance Peak to Peak   \n",
       "School                        Gender                           \n",
       "Fudan University              Female  30.648246         29.0   \n",
       "                              Male    15.478393         19.0   \n",
       "Peking University             Female  37.299333         22.0   \n",
       "                              Male    50.873444         29.0   \n",
       "Shanghai Jiao Tong University Female  24.024353         23.0   \n",
       "                              Male    48.015429         27.0   \n",
       "Tsinghua University           Female  19.825273         21.0   \n",
       "                              Male    58.764869         28.0   \n",
       "\n",
       "                                                                    \n",
       "                                     Standard Deviation  Vardiance  \n",
       "School                        Gender                                \n",
       "Fudan University              Female           6.098898  37.196552  \n",
       "                              Male             6.092801  37.122222  \n",
       "Peking University             Female           5.769931  33.292105  \n",
       "                              Male             8.667308  75.122222  \n",
       "Shanghai Jiao Tong University Female           4.764578  22.701201  \n",
       "                              Male             8.124038  66.000000  \n",
       "Tsinghua University           Female           5.343519  28.553191  \n",
       "                              Male             7.260806  52.719298  "
      ]
     },
     "execution_count": 34,
     "metadata": {},
     "output_type": "execute_result"
    }
   ],
   "source": [
    "gb.agg([(\"Peak to Peak\", lambda x: x.max()-x.min()),(\"Standard Deviation\", \"std\"),(\"Vardiance\",\"var\")])"
   ]
  },
  {
   "cell_type": "code",
   "execution_count": null,
   "id": "111f9099",
   "metadata": {},
   "outputs": [],
   "source": []
  }
 ],
 "metadata": {
  "kernelspec": {
   "display_name": "Python 3 (ipykernel)",
   "language": "python",
   "name": "python3"
  },
  "language_info": {
   "codemirror_mode": {
    "name": "ipython",
    "version": 3
   },
   "file_extension": ".py",
   "mimetype": "text/x-python",
   "name": "python",
   "nbconvert_exporter": "python",
   "pygments_lexer": "ipython3",
   "version": "3.9.13"
  }
 },
 "nbformat": 4,
 "nbformat_minor": 5
}
