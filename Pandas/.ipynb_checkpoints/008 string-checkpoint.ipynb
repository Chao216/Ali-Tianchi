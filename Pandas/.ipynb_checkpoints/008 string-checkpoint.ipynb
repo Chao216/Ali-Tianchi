{
 "cells": [
  {
   "cell_type": "code",
   "execution_count": 1,
   "id": "ba6d6f11",
   "metadata": {},
   "outputs": [],
   "source": [
    "import numpy as np\n",
    "import pandas as pd"
   ]
  },
  {
   "cell_type": "markdown",
   "id": "e6a14a10",
   "metadata": {},
   "source": [
    "# python built-in str module"
   ]
  },
  {
   "cell_type": "code",
   "execution_count": 2,
   "id": "51e1f0b0",
   "metadata": {},
   "outputs": [],
   "source": [
    "text1 = \"hello, how is everything going on?\""
   ]
  },
  {
   "cell_type": "code",
   "execution_count": 3,
   "id": "ec3c0ede",
   "metadata": {},
   "outputs": [
    {
     "data": {
      "text/plain": [
       "'HELLO, HOW IS EVERYTHING GOING ON?'"
      ]
     },
     "execution_count": 3,
     "metadata": {},
     "output_type": "execute_result"
    }
   ],
   "source": [
    "str.upper(text1)"
   ]
  },
  {
   "cell_type": "code",
   "execution_count": 4,
   "id": "d217ba2b",
   "metadata": {},
   "outputs": [
    {
     "data": {
      "text/plain": [
       "'hello, how is everything going on?'"
      ]
     },
     "execution_count": 4,
     "metadata": {},
     "output_type": "execute_result"
    }
   ],
   "source": [
    "str.lower(text1)"
   ]
  },
  {
   "cell_type": "code",
   "execution_count": 5,
   "id": "bf17aae6",
   "metadata": {},
   "outputs": [
    {
     "data": {
      "text/plain": [
       "'Hello, how is everything going on?'"
      ]
     },
     "execution_count": 5,
     "metadata": {},
     "output_type": "execute_result"
    }
   ],
   "source": [
    "str.capitalize(text1)"
   ]
  },
  {
   "cell_type": "code",
   "execution_count": 6,
   "id": "f577dfc7",
   "metadata": {},
   "outputs": [
    {
     "data": {
      "text/plain": [
       "'Hello, How Is Everything Going On?'"
      ]
     },
     "execution_count": 6,
     "metadata": {},
     "output_type": "execute_result"
    }
   ],
   "source": [
    "str.title(text1)"
   ]
  },
  {
   "cell_type": "markdown",
   "id": "3e1672dd",
   "metadata": {},
   "source": [
    "# str in Pandas"
   ]
  },
  {
   "cell_type": "code",
   "execution_count": 7,
   "id": "2e83b361",
   "metadata": {},
   "outputs": [],
   "source": [
    "ser1 = pd.Series([\"amy\",\"toNy\",\"LORry\",\"SimPSoN\"])"
   ]
  },
  {
   "cell_type": "code",
   "execution_count": 8,
   "id": "bf64bcd6",
   "metadata": {},
   "outputs": [
    {
     "data": {
      "text/plain": [
       "0        amy\n",
       "1       toNy\n",
       "2      LORry\n",
       "3    SimPSoN\n",
       "dtype: object"
      ]
     },
     "execution_count": 8,
     "metadata": {},
     "output_type": "execute_result"
    }
   ],
   "source": [
    "ser1"
   ]
  },
  {
   "cell_type": "code",
   "execution_count": 9,
   "id": "e4d6f8a7",
   "metadata": {},
   "outputs": [
    {
     "data": {
      "text/plain": [
       "<pandas.core.strings.accessor.StringMethods at 0x207a6601f70>"
      ]
     },
     "execution_count": 9,
     "metadata": {},
     "output_type": "execute_result"
    }
   ],
   "source": [
    "ser1.str"
   ]
  },
  {
   "cell_type": "code",
   "execution_count": 10,
   "id": "5d80fcd5",
   "metadata": {},
   "outputs": [
    {
     "data": {
      "text/plain": [
       "0        AMY\n",
       "1       TONY\n",
       "2      LORRY\n",
       "3    SIMPSON\n",
       "dtype: object"
      ]
     },
     "execution_count": 10,
     "metadata": {},
     "output_type": "execute_result"
    }
   ],
   "source": [
    "ser1.str.upper()"
   ]
  },
  {
   "cell_type": "code",
   "execution_count": 11,
   "id": "e65467f9",
   "metadata": {},
   "outputs": [
    {
     "data": {
      "text/plain": [
       "0        amy\n",
       "1       tony\n",
       "2      lorry\n",
       "3    simpson\n",
       "dtype: object"
      ]
     },
     "execution_count": 11,
     "metadata": {},
     "output_type": "execute_result"
    }
   ],
   "source": [
    "ser1.str.lower()"
   ]
  },
  {
   "cell_type": "code",
   "execution_count": 12,
   "id": "fd7dc128",
   "metadata": {},
   "outputs": [
    {
     "data": {
      "text/plain": [
       "0        Amy\n",
       "1       Tony\n",
       "2      Lorry\n",
       "3    Simpson\n",
       "dtype: object"
      ]
     },
     "execution_count": 12,
     "metadata": {},
     "output_type": "execute_result"
    }
   ],
   "source": [
    "ser1.str.capitalize()"
   ]
  },
  {
   "cell_type": "markdown",
   "id": "9e9df5fb",
   "metadata": {},
   "source": [
    "# indexing of string"
   ]
  },
  {
   "cell_type": "code",
   "execution_count": 13,
   "id": "d80b3abe",
   "metadata": {},
   "outputs": [],
   "source": [
    "a = \"Hello, how is your life recently?\""
   ]
  },
  {
   "cell_type": "code",
   "execution_count": 14,
   "id": "86e82785",
   "metadata": {},
   "outputs": [
    {
     "data": {
      "text/plain": [
       "'H'"
      ]
     },
     "execution_count": 14,
     "metadata": {},
     "output_type": "execute_result"
    }
   ],
   "source": [
    "a[0]"
   ]
  },
  {
   "cell_type": "code",
   "execution_count": 17,
   "id": "31116462",
   "metadata": {},
   "outputs": [
    {
     "name": "stdout",
     "output_type": "stream",
     "text": [
      "\n",
      " H\n",
      "\n",
      " e\n",
      "\n",
      " l\n",
      "\n",
      " l\n",
      "\n",
      " o\n"
     ]
    }
   ],
   "source": [
    "for l in a[0:5]:\n",
    "    print(\"\\n\",l)"
   ]
  },
  {
   "cell_type": "code",
   "execution_count": 19,
   "id": "0e990b70",
   "metadata": {},
   "outputs": [
    {
     "data": {
      "text/plain": [
       "0        amy\n",
       "1       toNy\n",
       "2      LORry\n",
       "3    SimPSoN\n",
       "dtype: object"
      ]
     },
     "execution_count": 19,
     "metadata": {},
     "output_type": "execute_result"
    }
   ],
   "source": [
    "ser1"
   ]
  },
  {
   "cell_type": "code",
   "execution_count": 18,
   "id": "f7ba5f63",
   "metadata": {},
   "outputs": [
    {
     "data": {
      "text/plain": [
       "0    NaN\n",
       "1      y\n",
       "2      r\n",
       "3      P\n",
       "dtype: object"
      ]
     },
     "execution_count": 18,
     "metadata": {},
     "output_type": "execute_result"
    }
   ],
   "source": [
    "ser1.str[3]"
   ]
  },
  {
   "cell_type": "markdown",
   "id": "82e76797",
   "metadata": {},
   "source": [
    "## pd.Series.str[3] 取值每个元素的第4个字母，缺失为NaN"
   ]
  },
  {
   "cell_type": "code",
   "execution_count": 23,
   "id": "3720ab39",
   "metadata": {},
   "outputs": [
    {
     "data": {
      "text/plain": [
       "0        yma\n",
       "1       yNot\n",
       "2      yrROL\n",
       "3    NoSPmiS\n",
       "dtype: object"
      ]
     },
     "execution_count": 23,
     "metadata": {},
     "output_type": "execute_result"
    }
   ],
   "source": [
    "ser1.str[::-1]"
   ]
  },
  {
   "cell_type": "code",
   "execution_count": 25,
   "id": "4f0fa4e1",
   "metadata": {},
   "outputs": [
    {
     "data": {
      "text/plain": [
       "0    \n",
       "1    \n",
       "2    \n",
       "3    \n",
       "dtype: object"
      ]
     },
     "execution_count": 25,
     "metadata": {},
     "output_type": "execute_result"
    }
   ],
   "source": []
  },
  {
   "cell_type": "code",
   "execution_count": 26,
   "id": "965b0881",
   "metadata": {},
   "outputs": [
    {
     "data": {
      "text/plain": [
       "0    5\n",
       "dtype: int64"
      ]
     },
     "execution_count": 26,
     "metadata": {},
     "output_type": "execute_result"
    }
   ],
   "source": [
    "ser1 = pd.Series([\"Hello\"])\n",
    "ser1.str.len()"
   ]
  },
  {
   "cell_type": "code",
   "execution_count": 27,
   "id": "9d67bd6d",
   "metadata": {},
   "outputs": [
    {
     "data": {
      "text/plain": [
       "0    10\n",
       "dtype: int64"
      ]
     },
     "execution_count": 27,
     "metadata": {},
     "output_type": "execute_result"
    }
   ],
   "source": [
    "ser1 = pd.Series([\"Hello Vova\"])\n",
    "ser1.str.len()"
   ]
  },
  {
   "cell_type": "code",
   "execution_count": 28,
   "id": "389b46eb",
   "metadata": {},
   "outputs": [
    {
     "data": {
      "text/plain": [
       "0    10\n",
       "dtype: Int64"
      ]
     },
     "execution_count": 28,
     "metadata": {},
     "output_type": "execute_result"
    }
   ],
   "source": [
    "ser1.astype(\"string\").str.len()"
   ]
  },
  {
   "cell_type": "code",
   "execution_count": 29,
   "id": "fb8ac993",
   "metadata": {},
   "outputs": [],
   "source": [
    "ser1 = pd.Series([\"Hello\", \"Amy\", \"What\", \"is\", \"Your\", \"Favourite\",\"Food\",\"?\"])"
   ]
  },
  {
   "cell_type": "code",
   "execution_count": 30,
   "id": "b901c938",
   "metadata": {},
   "outputs": [
    {
     "data": {
      "text/plain": [
       "0    5\n",
       "1    3\n",
       "2    4\n",
       "3    2\n",
       "4    4\n",
       "5    9\n",
       "6    4\n",
       "7    1\n",
       "dtype: int64"
      ]
     },
     "execution_count": 30,
     "metadata": {},
     "output_type": "execute_result"
    }
   ],
   "source": [
    "ser1.str.len()"
   ]
  },
  {
   "cell_type": "code",
   "execution_count": 31,
   "id": "5d57ce84",
   "metadata": {},
   "outputs": [
    {
     "data": {
      "text/plain": [
       "0    5\n",
       "1    3\n",
       "2    4\n",
       "3    2\n",
       "4    4\n",
       "5    9\n",
       "6    4\n",
       "7    1\n",
       "dtype: Int64"
      ]
     },
     "execution_count": 31,
     "metadata": {},
     "output_type": "execute_result"
    }
   ],
   "source": [
    "ser1.astype(\"string\").str.len()"
   ]
  },
  {
   "cell_type": "code",
   "execution_count": 32,
   "id": "d9e91e33",
   "metadata": {},
   "outputs": [
    {
     "data": {
      "text/plain": [
       "0        Hello\n",
       "1          Amy\n",
       "2         What\n",
       "3           Is\n",
       "4         Your\n",
       "5    Favourite\n",
       "6         Food\n",
       "7            ?\n",
       "dtype: object"
      ]
     },
     "execution_count": 32,
     "metadata": {},
     "output_type": "execute_result"
    }
   ],
   "source": [
    "ser1.str.capitalize()"
   ]
  },
  {
   "cell_type": "code",
   "execution_count": 33,
   "id": "c0a17fec",
   "metadata": {},
   "outputs": [
    {
     "data": {
      "text/plain": [
       "0        Hello\n",
       "1          Amy\n",
       "2         What\n",
       "3           Is\n",
       "4         Your\n",
       "5    Favourite\n",
       "6         Food\n",
       "7            ?\n",
       "dtype: string"
      ]
     },
     "execution_count": 33,
     "metadata": {},
     "output_type": "execute_result"
    }
   ],
   "source": [
    "ser1.astype(\"string\").str.capitalize()"
   ]
  },
  {
   "cell_type": "code",
   "execution_count": 34,
   "id": "23cd84ed",
   "metadata": {},
   "outputs": [
    {
     "data": {
      "text/plain": [
       "int"
      ]
     },
     "execution_count": 34,
     "metadata": {},
     "output_type": "execute_result"
    }
   ],
   "source": [
    "a = 43\n",
    "type(a)"
   ]
  },
  {
   "cell_type": "markdown",
   "id": "6a889592",
   "metadata": {},
   "source": [
    "# regular expression"
   ]
  },
  {
   "cell_type": "code",
   "execution_count": 44,
   "id": "9a4dffac",
   "metadata": {},
   "outputs": [],
   "source": [
    "str1 = open(\"../Python/Files/pg2097.txt\", encoding=\"UTF-8\").read()"
   ]
  },
  {
   "cell_type": "code",
   "execution_count": 45,
   "id": "eeb01ff2",
   "metadata": {},
   "outputs": [
    {
     "data": {
      "text/plain": [
       "251296"
      ]
     },
     "execution_count": 45,
     "metadata": {},
     "output_type": "execute_result"
    }
   ],
   "source": [
    "len(str1)"
   ]
  },
  {
   "cell_type": "code",
   "execution_count": 47,
   "id": "b4503d36",
   "metadata": {},
   "outputs": [
    {
     "data": {
      "text/plain": [
       "['Sherlock',\n",
       " 'Sherlock',\n",
       " 'Sherlock',\n",
       " 'Sherlock',\n",
       " 'Sherlock',\n",
       " 'Sherlock',\n",
       " 'Sherlock',\n",
       " 'Sherlock',\n",
       " 'Sherlock',\n",
       " 'Sherlock',\n",
       " 'Sherlock',\n",
       " 'Sherlock',\n",
       " 'Sherlock',\n",
       " 'Sherlock',\n",
       " 'Sherlock',\n",
       " 'Sherlock',\n",
       " 'Sherlock',\n",
       " 'Sherlock',\n",
       " 'Sherlock',\n",
       " 'Sherlock',\n",
       " 'Sherlock',\n",
       " 'Sherlock',\n",
       " 'Sherlock',\n",
       " 'Sherlock',\n",
       " 'Sherlock',\n",
       " 'Sherlock',\n",
       " 'Sherlock',\n",
       " 'Sherlock',\n",
       " 'Sherlock',\n",
       " 'Sherlock',\n",
       " 'Sherlock',\n",
       " 'Sherlock',\n",
       " 'Sherlock',\n",
       " 'Sherlock',\n",
       " 'Sherlock']"
      ]
     },
     "execution_count": 47,
     "metadata": {},
     "output_type": "execute_result"
    }
   ],
   "source": [
    "re.findall(r\"Sherlock\", str1)"
   ]
  },
  {
   "cell_type": "code",
   "execution_count": 51,
   "id": "0ff22467",
   "metadata": {},
   "outputs": [
    {
     "data": {
      "text/plain": [
       "['Miss',\n",
       " 'Miss',\n",
       " 'Miss',\n",
       " 'Miss',\n",
       " 'Miss',\n",
       " 'Miss',\n",
       " 'Miss',\n",
       " 'Miss',\n",
       " 'Miss',\n",
       " 'Miss',\n",
       " 'Miss',\n",
       " 'Miss',\n",
       " 'miss',\n",
       " 'Miss',\n",
       " 'Miss',\n",
       " 'miss',\n",
       " 'Miss',\n",
       " 'miss',\n",
       " 'Miss',\n",
       " 'Miss',\n",
       " 'Miss',\n",
       " 'Miss',\n",
       " 'Miss',\n",
       " 'Miss',\n",
       " 'miss',\n",
       " 'Miss',\n",
       " 'Miss',\n",
       " 'Miss',\n",
       " 'Miss',\n",
       " 'Miss',\n",
       " 'Miss',\n",
       " 'Miss',\n",
       " 'miss',\n",
       " 'Miss',\n",
       " 'miss',\n",
       " 'Miss',\n",
       " 'miss',\n",
       " 'miss',\n",
       " 'miss',\n",
       " 'miss',\n",
       " 'Miss',\n",
       " 'Miss',\n",
       " 'Miss',\n",
       " 'Miss',\n",
       " 'Miss',\n",
       " 'miss',\n",
       " 'Miss',\n",
       " 'Miss',\n",
       " 'miss',\n",
       " 'Miss',\n",
       " 'miss',\n",
       " 'miss',\n",
       " 'miss',\n",
       " 'miss',\n",
       " 'miss',\n",
       " 'Miss',\n",
       " 'miss',\n",
       " 'Miss',\n",
       " 'miss',\n",
       " 'miss',\n",
       " 'miss',\n",
       " 'Miss',\n",
       " 'miss',\n",
       " 'miss',\n",
       " 'miss',\n",
       " 'miss',\n",
       " 'miss',\n",
       " 'miss',\n",
       " 'miss',\n",
       " 'miss',\n",
       " 'Miss',\n",
       " 'Miss',\n",
       " 'miss']"
      ]
     },
     "execution_count": 51,
     "metadata": {},
     "output_type": "execute_result"
    }
   ],
   "source": [
    "re.findall(r\"miss\", str1,re.I)"
   ]
  },
  {
   "cell_type": "code",
   "execution_count": 54,
   "id": "6d652150",
   "metadata": {},
   "outputs": [
    {
     "data": {
      "text/plain": [
       "'Watson'"
      ]
     },
     "execution_count": 54,
     "metadata": {},
     "output_type": "execute_result"
    }
   ],
   "source": [
    "pattern = re.compile(r\"wat[a-zA-Z]{3}\", re.I)\n",
    "mo = pattern.search(str1)\n",
    "mo.group()"
   ]
  },
  {
   "cell_type": "code",
   "execution_count": 56,
   "id": "909385d4",
   "metadata": {},
   "outputs": [
    {
     "data": {
      "text/plain": [
       "['Watson',\n",
       " 'Watson',\n",
       " 'watche',\n",
       " 'Watson',\n",
       " 'watery',\n",
       " 'Watson',\n",
       " 'Watson',\n",
       " 'Watson',\n",
       " 'Watson',\n",
       " 'Watson',\n",
       " 'Watson',\n",
       " 'Watson',\n",
       " 'Watson',\n",
       " 'Watson',\n",
       " 'Watson',\n",
       " 'Watson',\n",
       " 'Watson',\n",
       " 'Watson',\n",
       " 'Watson',\n",
       " 'Watson',\n",
       " 'Watson',\n",
       " 'Watson',\n",
       " 'Watson',\n",
       " 'Watson',\n",
       " 'waters',\n",
       " 'Watson',\n",
       " 'Watson',\n",
       " 'waterm']"
      ]
     },
     "execution_count": 56,
     "metadata": {},
     "output_type": "execute_result"
    }
   ],
   "source": [
    "mo = pattern.findall(str1)\n",
    "mo"
   ]
  },
  {
   "cell_type": "markdown",
   "id": "4d6a8a30",
   "metadata": {},
   "source": [
    "# 文本的常用操作"
   ]
  },
  {
   "cell_type": "markdown",
   "id": "ff9a9905",
   "metadata": {},
   "source": [
    "## split"
   ]
  },
  {
   "cell_type": "code",
   "execution_count": 57,
   "id": "4fe8b580",
   "metadata": {},
   "outputs": [],
   "source": [
    "ser1 = pd.Series([\"中国美国韩国日本国蒙古国英国法国俄国\"])"
   ]
  },
  {
   "cell_type": "code",
   "execution_count": 58,
   "id": "0a514f05",
   "metadata": {},
   "outputs": [
    {
     "data": {
      "text/plain": [
       "0    [中, 美, 韩, 日本, 蒙古, 英, 法, 俄, ]\n",
       "dtype: object"
      ]
     },
     "execution_count": 58,
     "metadata": {},
     "output_type": "execute_result"
    }
   ],
   "source": [
    "ser1.str.split(\"国\")"
   ]
  },
  {
   "cell_type": "code",
   "execution_count": 59,
   "id": "f8277902",
   "metadata": {},
   "outputs": [],
   "source": [
    "split1 = ser1.str.split(\"国\")"
   ]
  },
  {
   "cell_type": "code",
   "execution_count": 60,
   "id": "92acf1c3",
   "metadata": {},
   "outputs": [
    {
     "data": {
      "text/plain": [
       "pandas.core.series.Series"
      ]
     },
     "execution_count": 60,
     "metadata": {},
     "output_type": "execute_result"
    }
   ],
   "source": [
    "type(split1)"
   ]
  },
  {
   "cell_type": "code",
   "execution_count": 61,
   "id": "8fae5cdf",
   "metadata": {},
   "outputs": [
    {
     "data": {
      "text/plain": [
       "0    [中, 美, 韩, 日本, 蒙古, 英, 法, 俄, ]\n",
       "dtype: object"
      ]
     },
     "execution_count": 61,
     "metadata": {},
     "output_type": "execute_result"
    }
   ],
   "source": [
    "split1"
   ]
  },
  {
   "cell_type": "code",
   "execution_count": 62,
   "id": "57e87fc4",
   "metadata": {},
   "outputs": [
    {
     "data": {
      "text/html": [
       "<div>\n",
       "<style scoped>\n",
       "    .dataframe tbody tr th:only-of-type {\n",
       "        vertical-align: middle;\n",
       "    }\n",
       "\n",
       "    .dataframe tbody tr th {\n",
       "        vertical-align: top;\n",
       "    }\n",
       "\n",
       "    .dataframe thead th {\n",
       "        text-align: right;\n",
       "    }\n",
       "</style>\n",
       "<table border=\"1\" class=\"dataframe\">\n",
       "  <thead>\n",
       "    <tr style=\"text-align: right;\">\n",
       "      <th></th>\n",
       "      <th>0</th>\n",
       "      <th>1</th>\n",
       "      <th>2</th>\n",
       "    </tr>\n",
       "  </thead>\n",
       "  <tbody>\n",
       "    <tr>\n",
       "      <th>0</th>\n",
       "      <td>中</td>\n",
       "      <td>美</td>\n",
       "      <td>韩国日本国蒙古国英国法国俄国</td>\n",
       "    </tr>\n",
       "  </tbody>\n",
       "</table>\n",
       "</div>"
      ],
      "text/plain": [
       "   0  1               2\n",
       "0  中  美  韩国日本国蒙古国英国法国俄国"
      ]
     },
     "execution_count": 62,
     "metadata": {},
     "output_type": "execute_result"
    }
   ],
   "source": [
    "ser1.str.split(\"国\", n=2, expand=True)"
   ]
  },
  {
   "cell_type": "code",
   "execution_count": 63,
   "id": "35fe9d2a",
   "metadata": {},
   "outputs": [],
   "source": [
    "split2 = ser1.str.split(\"国\", n=2, expand=True)"
   ]
  },
  {
   "cell_type": "code",
   "execution_count": 65,
   "id": "8abbd3d6",
   "metadata": {},
   "outputs": [
    {
     "data": {
      "text/plain": [
       "pandas.core.frame.DataFrame"
      ]
     },
     "execution_count": 65,
     "metadata": {},
     "output_type": "execute_result"
    }
   ],
   "source": [
    "type(split2)"
   ]
  },
  {
   "cell_type": "code",
   "execution_count": 66,
   "id": "57f782be",
   "metadata": {},
   "outputs": [
    {
     "name": "stdout",
     "output_type": "stream",
     "text": [
      "(1,) \n",
      " (1, 3)\n"
     ]
    }
   ],
   "source": [
    "print(split1.shape, \"\\n\", split2.shape)"
   ]
  },
  {
   "cell_type": "markdown",
   "id": "b6873145",
   "metadata": {},
   "source": [
    "# rsplit 从右向左 分割"
   ]
  },
  {
   "cell_type": "code",
   "execution_count": 69,
   "id": "68dfd91d",
   "metadata": {},
   "outputs": [
    {
     "data": {
      "text/html": [
       "<div>\n",
       "<style scoped>\n",
       "    .dataframe tbody tr th:only-of-type {\n",
       "        vertical-align: middle;\n",
       "    }\n",
       "\n",
       "    .dataframe tbody tr th {\n",
       "        vertical-align: top;\n",
       "    }\n",
       "\n",
       "    .dataframe thead th {\n",
       "        text-align: right;\n",
       "    }\n",
       "</style>\n",
       "<table border=\"1\" class=\"dataframe\">\n",
       "  <thead>\n",
       "    <tr style=\"text-align: right;\">\n",
       "      <th></th>\n",
       "      <th>0</th>\n",
       "      <th>1</th>\n",
       "      <th>2</th>\n",
       "      <th>3</th>\n",
       "    </tr>\n",
       "  </thead>\n",
       "  <tbody>\n",
       "    <tr>\n",
       "      <th>0</th>\n",
       "      <td>中国美国韩国日本国蒙古国英</td>\n",
       "      <td>法</td>\n",
       "      <td>俄</td>\n",
       "      <td></td>\n",
       "    </tr>\n",
       "  </tbody>\n",
       "</table>\n",
       "</div>"
      ],
      "text/plain": [
       "               0  1  2 3\n",
       "0  中国美国韩国日本国蒙古国英  法  俄  "
      ]
     },
     "execution_count": 69,
     "metadata": {},
     "output_type": "execute_result"
    }
   ],
   "source": [
    "ser1.str.rsplit(\"国\", n=3, expand=True)"
   ]
  },
  {
   "cell_type": "markdown",
   "id": "9fd47d03",
   "metadata": {},
   "source": [
    "# 字符串的合并\n",
    "\n",
    "## str.join() \n",
    "\n",
    "## 序列内"
   ]
  },
  {
   "cell_type": "code",
   "execution_count": 70,
   "id": "de53124d",
   "metadata": {},
   "outputs": [
    {
     "data": {
      "text/plain": [
       "0    H-e-l-l-l-o\n",
       "1        M-o-t-o\n",
       "dtype: object"
      ]
     },
     "execution_count": 70,
     "metadata": {},
     "output_type": "execute_result"
    }
   ],
   "source": [
    "ser1 = pd.Series([\"Helllo\",\"Moto\"])\n",
    "ser1.str.join(\"-\")"
   ]
  },
  {
   "cell_type": "code",
   "execution_count": 71,
   "id": "93f341f2",
   "metadata": {},
   "outputs": [
    {
     "data": {
      "text/plain": [
       "0    Helllo&Moto\n",
       "1       陶喆&同名&专辑\n",
       "dtype: object"
      ]
     },
     "execution_count": 71,
     "metadata": {},
     "output_type": "execute_result"
    }
   ],
   "source": [
    "ser1 = pd.Series([[\"Helllo\",\"Moto\"],[\"陶喆\",\"同名\",\"专辑\"]])\n",
    "ser1.str.join(\"&\")"
   ]
  },
  {
   "cell_type": "code",
   "execution_count": 72,
   "id": "0ce312fc",
   "metadata": {},
   "outputs": [
    {
     "data": {
      "text/plain": [
       "0   NaN\n",
       "dtype: float64"
      ]
     },
     "execution_count": 72,
     "metadata": {},
     "output_type": "execute_result"
    }
   ],
   "source": [
    "ser1 = pd.Series([[[\"Helllo\",\"Moto\"],[\"陶喆\",\"同名\",\"专辑\"]]])\n",
    "ser1.str.join(\"&\")"
   ]
  },
  {
   "cell_type": "markdown",
   "id": "6750f59c",
   "metadata": {},
   "source": [
    "## str.cat() \n",
    "\n",
    "## 跨序列"
   ]
  },
  {
   "cell_type": "code",
   "execution_count": 73,
   "id": "71905c9a",
   "metadata": {},
   "outputs": [
    {
     "data": {
      "text/plain": [
       "0    Hello ^ Ai\n",
       "1       Mr ^ No\n",
       "2    My ^ Theme\n",
       "3           NaN\n",
       "dtype: object"
      ]
     },
     "execution_count": 73,
     "metadata": {},
     "output_type": "execute_result"
    }
   ],
   "source": [
    "ser1 = pd.Series([\"Hello\",\"Mr\",\"My\",\"Yesterday\"])\n",
    "ser2 = pd.Series([\"Ai\",\"No\",\"Theme\"])\n",
    "ser1.str.cat(ser2,sep=\" ^ \")"
   ]
  },
  {
   "cell_type": "markdown",
   "id": "adc7ce33",
   "metadata": {},
   "source": [
    "## 匹配 str.contains()"
   ]
  },
  {
   "cell_type": "code",
   "execution_count": 74,
   "id": "223ec467",
   "metadata": {},
   "outputs": [
    {
     "data": {
      "text/plain": [
       "0    True\n",
       "1    True\n",
       "2    True\n",
       "3    True\n",
       "4    True\n",
       "dtype: bool"
      ]
     },
     "execution_count": 74,
     "metadata": {},
     "output_type": "execute_result"
    }
   ],
   "source": [
    "ser1 = pd.Series([\"Heaven\",\"Tea\",\"please\",\"theater\",\"peak\"])\n",
    "ser1.str.contains(\"ea\")"
   ]
  },
  {
   "cell_type": "markdown",
   "id": "29bd68c2",
   "metadata": {},
   "source": [
    "## start with , end with"
   ]
  },
  {
   "cell_type": "code",
   "execution_count": 75,
   "id": "cc93c618",
   "metadata": {},
   "outputs": [
    {
     "data": {
      "text/plain": [
       "0     True\n",
       "1    False\n",
       "2    False\n",
       "3    False\n",
       "4    False\n",
       "dtype: bool"
      ]
     },
     "execution_count": 75,
     "metadata": {},
     "output_type": "execute_result"
    }
   ],
   "source": [
    "ser1.str.startswith(\"He\")"
   ]
  },
  {
   "cell_type": "code",
   "execution_count": 77,
   "id": "5a1c19b6",
   "metadata": {},
   "outputs": [
    {
     "data": {
      "text/plain": [
       "0    False\n",
       "1     True\n",
       "2    False\n",
       "3    False\n",
       "4    False\n",
       "dtype: bool"
      ]
     },
     "execution_count": 77,
     "metadata": {},
     "output_type": "execute_result"
    }
   ],
   "source": [
    "ser1.str.endswith(\"ea\")"
   ]
  },
  {
   "cell_type": "markdown",
   "id": "43b3d2d0",
   "metadata": {},
   "source": [
    "## find, rfind()"
   ]
  },
  {
   "cell_type": "code",
   "execution_count": 78,
   "id": "000d1219",
   "metadata": {},
   "outputs": [],
   "source": [
    "ser1 = pd.Series([\"I wonder how, I wonder why, Yesterday you told me about the blue blue sky.\"])"
   ]
  },
  {
   "cell_type": "code",
   "execution_count": 80,
   "id": "aa8b25eb",
   "metadata": {},
   "outputs": [
    {
     "data": {
      "text/plain": [
       "0    60\n",
       "dtype: int64"
      ]
     },
     "execution_count": 80,
     "metadata": {},
     "output_type": "execute_result"
    }
   ],
   "source": [
    "ser1.str.find(\"blue\")"
   ]
  },
  {
   "cell_type": "code",
   "execution_count": 81,
   "id": "d27cd06b",
   "metadata": {},
   "outputs": [
    {
     "data": {
      "text/plain": [
       "0    65\n",
       "dtype: int64"
      ]
     },
     "execution_count": 81,
     "metadata": {},
     "output_type": "execute_result"
    }
   ],
   "source": [
    "ser1.str.rfind(\"blue\")"
   ]
  },
  {
   "cell_type": "markdown",
   "id": "70b7a7a0",
   "metadata": {},
   "source": [
    "## replace"
   ]
  },
  {
   "cell_type": "code",
   "execution_count": 82,
   "id": "be2f925b",
   "metadata": {},
   "outputs": [
    {
     "data": {
      "text/plain": [
       "0    Tomorrow I would like to eat icecream\n",
       "dtype: object"
      ]
     },
     "execution_count": 82,
     "metadata": {},
     "output_type": "execute_result"
    }
   ],
   "source": [
    "ser1 = pd.Series([\"Today I would like to eat icecream\"])\n",
    "ser1.str.replace(\"Today\",\"Tomorrow\", regex=True)"
   ]
  },
  {
   "cell_type": "markdown",
   "id": "3dbdcac3",
   "metadata": {},
   "source": [
    "## str.extract() 提取"
   ]
  },
  {
   "cell_type": "code",
   "execution_count": 87,
   "id": "369b5b7c",
   "metadata": {},
   "outputs": [
    {
     "data": {
      "text/html": [
       "<div>\n",
       "<style scoped>\n",
       "    .dataframe tbody tr th:only-of-type {\n",
       "        vertical-align: middle;\n",
       "    }\n",
       "\n",
       "    .dataframe tbody tr th {\n",
       "        vertical-align: top;\n",
       "    }\n",
       "\n",
       "    .dataframe thead th {\n",
       "        text-align: right;\n",
       "    }\n",
       "</style>\n",
       "<table border=\"1\" class=\"dataframe\">\n",
       "  <thead>\n",
       "    <tr style=\"text-align: right;\">\n",
       "      <th></th>\n",
       "      <th>0</th>\n",
       "      <th>1</th>\n",
       "      <th>2</th>\n",
       "      <th>3</th>\n",
       "      <th>4</th>\n",
       "    </tr>\n",
       "  </thead>\n",
       "  <tbody>\n",
       "    <tr>\n",
       "      <th>0</th>\n",
       "      <td>和平路</td>\n",
       "      <td>奉献路</td>\n",
       "      <td>朝阳路</td>\n",
       "      <td>邓平路</td>\n",
       "      <td>直采路</td>\n",
       "    </tr>\n",
       "  </tbody>\n",
       "</table>\n",
       "</div>"
      ],
      "text/plain": [
       "     0    1    2    3    4\n",
       "0  和平路  奉献路  朝阳路  邓平路  直采路"
      ]
     },
     "execution_count": 87,
     "metadata": {},
     "output_type": "execute_result"
    }
   ],
   "source": [
    "ser1 = pd.Series([\"和平路奉献路朝阳路邓平路直采路\"])\n",
    "pattern = \"(\\w+路)(\\w+路)(\\w+路)(\\w+路)(\\w+路)\"\n",
    "ser1.str.extract(pattern)"
   ]
  },
  {
   "cell_type": "markdown",
   "id": "7b1291cb",
   "metadata": {},
   "source": [
    "# 常用函数 "
   ]
  },
  {
   "cell_type": "markdown",
   "id": "5b3dbd6f",
   "metadata": {},
   "source": [
    "## skip upper lower capitalized, title, etc."
   ]
  },
  {
   "cell_type": "code",
   "execution_count": 88,
   "id": "d23ce1d9",
   "metadata": {},
   "outputs": [
    {
     "data": {
      "text/plain": [
       "0    hELLO mOTHER\n",
       "dtype: object"
      ]
     },
     "execution_count": 88,
     "metadata": {},
     "output_type": "execute_result"
    }
   ],
   "source": [
    "ser1 = pd.Series([\"Hello Mother\"])\n",
    "ser1.str.swapcase()"
   ]
  },
  {
   "cell_type": "markdown",
   "id": "7ab512ee",
   "metadata": {},
   "source": [
    "## to numeric 字符串转数字"
   ]
  },
  {
   "cell_type": "code",
   "execution_count": 90,
   "id": "1ed6608b",
   "metadata": {},
   "outputs": [],
   "source": [
    "ser1 = pd.Series([\"1\",\"2\",\"3\",\"4\",\"463\",\"1/2\",\"seven\",\"ten\"])\n",
    "ser2 = pd.to_numeric(ser1, errors=\"ignore\")"
   ]
  },
  {
   "cell_type": "code",
   "execution_count": 91,
   "id": "acbfe8df",
   "metadata": {},
   "outputs": [
    {
     "data": {
      "text/plain": [
       "0        1\n",
       "1        2\n",
       "2        3\n",
       "3        4\n",
       "4      463\n",
       "5      1/2\n",
       "6    seven\n",
       "7      ten\n",
       "dtype: object"
      ]
     },
     "execution_count": 91,
     "metadata": {},
     "output_type": "execute_result"
    }
   ],
   "source": [
    "ser2"
   ]
  },
  {
   "cell_type": "markdown",
   "id": "2b3137e0",
   "metadata": {},
   "source": [
    "# 去除空格 strip lstrip rstrip"
   ]
  },
  {
   "cell_type": "code",
   "execution_count": 95,
   "id": "0b9c922e",
   "metadata": {},
   "outputs": [
    {
     "data": {
      "text/plain": [
       "0    47\n",
       "dtype: int64"
      ]
     },
     "execution_count": 95,
     "metadata": {},
     "output_type": "execute_result"
    }
   ],
   "source": [
    "ser1 = pd.Series([\"          hello, this is my favorite.          \"])\n",
    "ser1.str.len()"
   ]
  },
  {
   "cell_type": "code",
   "execution_count": 96,
   "id": "48e3ebb8",
   "metadata": {},
   "outputs": [
    {
     "data": {
      "text/plain": [
       "0    27\n",
       "dtype: int64"
      ]
     },
     "execution_count": 96,
     "metadata": {},
     "output_type": "execute_result"
    }
   ],
   "source": [
    "ser1 = pd.Series([\"          hello, this is my favorite.          \"])\n",
    "ser1.str.strip().str.len()"
   ]
  },
  {
   "cell_type": "code",
   "execution_count": 97,
   "id": "e435b233",
   "metadata": {},
   "outputs": [
    {
     "data": {
      "text/plain": [
       "0    37\n",
       "dtype: int64"
      ]
     },
     "execution_count": 97,
     "metadata": {},
     "output_type": "execute_result"
    }
   ],
   "source": [
    "ser1 = pd.Series([\"          hello, this is my favorite.          \"])\n",
    "ser1.str.lstrip().str.len()"
   ]
  },
  {
   "cell_type": "code",
   "execution_count": 98,
   "id": "38b4077c",
   "metadata": {},
   "outputs": [
    {
     "data": {
      "text/plain": [
       "0    37\n",
       "dtype: int64"
      ]
     },
     "execution_count": 98,
     "metadata": {},
     "output_type": "execute_result"
    }
   ],
   "source": [
    "ser1 = pd.Series([\"          hello, this is my favorite.          \"])\n",
    "ser1.str.rstrip().str.len()"
   ]
  },
  {
   "cell_type": "markdown",
   "id": "82fb61a6",
   "metadata": {},
   "source": [
    "## 填充 pad"
   ]
  },
  {
   "cell_type": "code",
   "execution_count": 102,
   "id": "a5860432",
   "metadata": {},
   "outputs": [
    {
     "data": {
      "text/plain": [
       "0    me########\n",
       "dtype: object"
      ]
     },
     "execution_count": 102,
     "metadata": {},
     "output_type": "execute_result"
    }
   ],
   "source": [
    "ser1 = pd.Series([\"me\"])\n",
    "ser1.str.pad(10,\"right\",\"#\")"
   ]
  },
  {
   "cell_type": "code",
   "execution_count": 103,
   "id": "1461a0b9",
   "metadata": {},
   "outputs": [
    {
     "data": {
      "text/plain": [
       "0    ########me\n",
       "dtype: object"
      ]
     },
     "execution_count": 103,
     "metadata": {},
     "output_type": "execute_result"
    }
   ],
   "source": [
    "ser1.str.pad(10,\"left\",\"#\")"
   ]
  },
  {
   "cell_type": "code",
   "execution_count": 104,
   "id": "882c66d5",
   "metadata": {},
   "outputs": [
    {
     "data": {
      "text/plain": [
       "0    ####me####\n",
       "dtype: object"
      ]
     },
     "execution_count": 104,
     "metadata": {},
     "output_type": "execute_result"
    }
   ],
   "source": [
    "ser1.str.pad(10,\"both\",\"#\")"
   ]
  },
  {
   "cell_type": "markdown",
   "id": "c60e415f",
   "metadata": {},
   "source": [
    "# 填充 center rjust, ljust"
   ]
  },
  {
   "cell_type": "code",
   "execution_count": 105,
   "id": "e47cb4c0",
   "metadata": {},
   "outputs": [
    {
     "data": {
      "text/plain": [
       "0    ****me****\n",
       "dtype: object"
      ]
     },
     "execution_count": 105,
     "metadata": {},
     "output_type": "execute_result"
    }
   ],
   "source": [
    "ser1 = pd.Series([\"me\"])\n",
    "ser1.str.center(10,\"*\")"
   ]
  },
  {
   "cell_type": "code",
   "execution_count": 106,
   "id": "db9843b7",
   "metadata": {},
   "outputs": [
    {
     "data": {
      "text/plain": [
       "0    me********\n",
       "dtype: object"
      ]
     },
     "execution_count": 106,
     "metadata": {},
     "output_type": "execute_result"
    }
   ],
   "source": [
    "ser1.str.ljust(10,\"*\")"
   ]
  },
  {
   "cell_type": "code",
   "execution_count": 107,
   "id": "9e0e9a07",
   "metadata": {},
   "outputs": [
    {
     "data": {
      "text/plain": [
       "0    ********me\n",
       "dtype: object"
      ]
     },
     "execution_count": 107,
     "metadata": {},
     "output_type": "execute_result"
    }
   ],
   "source": [
    "ser1.str.rjust(10,\"*\")"
   ]
  },
  {
   "cell_type": "code",
   "execution_count": 109,
   "id": "3bf3f678",
   "metadata": {},
   "outputs": [
    {
     "data": {
      "text/plain": [
       "0    008617367302161\n",
       "dtype: object"
      ]
     },
     "execution_count": 109,
     "metadata": {},
     "output_type": "execute_result"
    }
   ],
   "source": [
    "ph1 = pd.Series([\"8617367302161\"])\n",
    "ph1.str.rjust(15,\"0\")"
   ]
  },
  {
   "cell_type": "code",
   "execution_count": null,
   "id": "4ab6bb9d",
   "metadata": {},
   "outputs": [],
   "source": []
  }
 ],
 "metadata": {
  "kernelspec": {
   "display_name": "Python 3 (ipykernel)",
   "language": "python",
   "name": "python3"
  },
  "language_info": {
   "codemirror_mode": {
    "name": "ipython",
    "version": 3
   },
   "file_extension": ".py",
   "mimetype": "text/x-python",
   "name": "python",
   "nbconvert_exporter": "python",
   "pygments_lexer": "ipython3",
   "version": "3.9.13"
  }
 },
 "nbformat": 4,
 "nbformat_minor": 5
}
